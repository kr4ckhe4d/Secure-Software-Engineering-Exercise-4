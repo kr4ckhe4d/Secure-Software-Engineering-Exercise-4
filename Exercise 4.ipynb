{
 "cells": [
  {
   "cell_type": "markdown",
   "metadata": {},
   "source": [
    "# Secure Software Engineering Exercise 4"
   ]
  },
  {
   "cell_type": "markdown",
   "metadata": {},
   "source": [
    "## Name: Nipuna H Herath"
   ]
  },
  {
   "cell_type": "markdown",
   "metadata": {},
   "source": [
    "## ID: A1776057"
   ]
  },
  {
   "cell_type": "markdown",
   "metadata": {},
   "source": []
  },
  {
   "cell_type": "code",
   "execution_count": 1,
   "metadata": {},
   "outputs": [],
   "source": [
    "import numpy as np\n",
    "import pandas as pd\n",
    "import os\n",
    "\n",
    "# Specify git executable file for GitPython in Jupyter Notebook (In IDE, it can still work without this line.)\n",
    "# os.environ[\"GIT_PYTHON_GIT_EXECUTABLE\"] = \"C:\\Program Files\\Git\\cmd\\git.exe\"\n",
    "\n",
    "import git\n",
    "import re\n",
    "# from git import RemoteProgress\n",
    "\n",
    "from git import Repo\n",
    "import matplotlib.pyplot as plt\n",
    "import seaborn as sns\n",
    "%matplotlib inline"
   ]
  },
  {
   "cell_type": "markdown",
   "metadata": {},
   "source": [
    "# 1. Apache/tomcat80"
   ]
  },
  {
   "cell_type": "markdown",
   "metadata": {},
   "source": [
    "### Task 3"
   ]
  },
  {
   "cell_type": "markdown",
   "metadata": {},
   "source": [
    "##### Part d)"
   ]
  },
  {
   "cell_type": "code",
   "execution_count": 2,
   "metadata": {},
   "outputs": [
    {
     "name": "stdout",
     "output_type": "stream",
     "text": [
      "\u001b[1;31mFile Name: \u001b[0mjava/org/apache/naming/factory/ResourceLinkFactory.java\n",
      "\u001b[1;31mInsertions: \u001b[0m5\n",
      "\u001b[1;31mDeletions: \u001b[0m0\n",
      "\u001b[1;31mTotal: \u001b[0m5\n",
      "\u001b[1;31mFile Name: \u001b[0mwebapps/docs/changelog.xml\n",
      "\u001b[1;31mInsertions: \u001b[0m4\n",
      "\u001b[1;31mDeletions: \u001b[0m0\n",
      "\u001b[1;31mTotal: \u001b[0m4\n"
     ]
    }
   ],
   "source": [
    "remote_link = \"https://github.com/apache/tomcat80\"\n",
    "local_link = \"tomcat80\"\n",
    "\n",
    "repo = Repo(local_link)\n",
    "fixing_commit = \"0531f7aeff1999d362e0a68512a3517f2cf1a6ae\"\n",
    "repo.git.checkout(fixing_commit)\n",
    "\n",
    "show_data = repo.git.show(\"--shortstat\", fixing_commit).splitlines()\n",
    "\n",
    "commit = repo.commit(fixing_commit)\n",
    "s = commit.stats\n",
    "# s.total         # full-stat-dict\n",
    "# s.files         # dict( filepath : stat-dict )\n",
    "# print(s.total) # Overall statistics\n",
    "# print(s.files) # List all the files\n",
    "\n",
    "fix_date = show_data[2][8:32]\n",
    "# print(fix_date)\n",
    "files = s.files\n",
    "directoryList = []\n",
    "fileNames = []\n",
    "for file in files.keys():\n",
    "    fileNames.append(file)\n",
    "    print('\\x1b[1;31m'+\"File Name: \"+'\\x1b[0m'+file)\n",
    "#     print(files[file]['insertions'])\n",
    "#     print(files[file]['deletions'])\n",
    "#     print(files[file]['lines'])\n",
    "    print('\\x1b[1;31m'+\"Insertions: \"+'\\x1b[0m'+str(files[file]['insertions']))\n",
    "    print('\\x1b[1;31m'+\"Deletions: \"+'\\x1b[0m'+str(files[file]['deletions']))\n",
    "    print('\\x1b[1;31m'+\"Total: \"+'\\x1b[0m'+str(files[file]['lines']))\n",
    "\n",
    "#     if directory not in directoryList:\n",
    "#         directoryList.append(directory)"
   ]
  },
  {
   "cell_type": "markdown",
   "metadata": {},
   "source": [
    "##### Part e)"
   ]
  },
  {
   "cell_type": "code",
   "execution_count": 3,
   "metadata": {},
   "outputs": [
    {
     "name": "stdout",
     "output_type": "stream",
     "text": [
      "\n",
      "\u001b[1;31mFine name : \u001b[0mjava/org/apache/naming/factory/ResourceLinkFactory.java\n",
      "\u001b[1;31mNo parameter : \u001b[0m0531f7ae\n",
      "\u001b[1;31mWith -w : \u001b[0m0531f7ae\n",
      "\u001b[1;31mWith -wM : \u001b[0m0531f7ae\n",
      "\u001b[1;31mWith -wC : \u001b[0m0531f7ae\n",
      "\u001b[1;31mWith -wCC : \u001b[0m0531f7ae\n",
      "\u001b[1;31mWith -wCCC : \u001b[0m0531f7ae\n",
      "\n",
      "\u001b[1;31mFine name : \u001b[0mwebapps/docs/changelog.xml\n",
      "\u001b[1;31mNo parameter : \u001b[0m0531f7ae\n",
      "\u001b[1;31mWith -w : \u001b[0m0531f7ae\n",
      "\u001b[1;31mWith -wM : \u001b[0m0531f7ae\n",
      "\u001b[1;31mWith -wC : \u001b[0m0531f7ae\n",
      "\u001b[1;31mWith -wCC : \u001b[0m0531f7ae\n",
      "\u001b[1;31mWith -wCCC : \u001b[0m0531f7ae\n"
     ]
    }
   ],
   "source": [
    "diff_data = repo.git.diff(\"-U0\",fixing_commit + \"^\", fixing_commit).splitlines()\n",
    "# print(diff_data)\n",
    "fileName = \"\"\n",
    "for line in diff_data:\n",
    "    if(line[0:10] == 'diff --git'):\n",
    "        fileName = line[13:line.find(' b')]\n",
    "    if(line[0:3] == '@@ '):\n",
    "        start = ' +'\n",
    "        parentScopeStart = ' @@ '\n",
    "        end = ' @@'\n",
    "        s = line\n",
    "        parentScope = (s[s.find(parentScopeStart)+len(parentScopeStart):])\n",
    "        affectedLines = (s[s.find(start)+len(start):s.rfind(end)]).split(',')\n",
    "        lines = \"-L\"+affectedLines[0]+\",+\"+affectedLines[1]\n",
    "\n",
    "        blame_data = repo.git.blame(lines, fixing_commit, \"--\", fileName).splitlines()\n",
    "        commits = []\n",
    "        for l in blame_data:\n",
    "            commits.append(l[0:8])\n",
    "        unique, counts = np.unique(commits, return_counts=True)\n",
    "        d = dict(zip(unique, counts))\n",
    "        mostFrequent = max(d, key=d.get)\n",
    "        \n",
    "        lines = \"-L\"+affectedLines[0]+\",+\"+affectedLines[1]\n",
    "        print()\n",
    "        print('\\x1b[1;31m'+\"Fine name : \"+'\\x1b[0m'+fileName)\n",
    "        blame_data = repo.git.blame(lines, fixing_commit, \"--\", fileName).splitlines()\n",
    "        commits = []\n",
    "        for l in blame_data:\n",
    "            commits.append(l[0:8])\n",
    "        unique, counts = np.unique(commits, return_counts=True)\n",
    "        d = dict(zip(unique, counts))\n",
    "        mostFrequent = max(d, key=d.get)\n",
    "        print('\\x1b[1;31m'+\"No parameter : \"+'\\x1b[0m'+mostFrequent)\n",
    "        ##################################\n",
    "        blame_data = repo.git.blame(lines, fixing_commit, \"-w\", \"--\", fileName).splitlines()\n",
    "        commits = []\n",
    "        for l in blame_data:\n",
    "            commits.append(l[0:8])\n",
    "        unique, counts = np.unique(commits, return_counts=True)\n",
    "        d = dict(zip(unique, counts))\n",
    "        mostFrequent = max(d, key=d.get)\n",
    "        print('\\x1b[1;31m'+\"With -w : \"+'\\x1b[0m'+mostFrequent)\n",
    "        ##################################\n",
    "        blame_data = repo.git.blame(lines, fixing_commit, \"-wM\", \"--\", fileName).splitlines()\n",
    "        commits = []\n",
    "        for l in blame_data:\n",
    "            commits.append(l[0:8])\n",
    "        unique, counts = np.unique(commits, return_counts=True)\n",
    "        d = dict(zip(unique, counts))\n",
    "        mostFrequent = max(d, key=d.get)\n",
    "        print('\\x1b[1;31m'+\"With -wM : \"+'\\x1b[0m'+mostFrequent)\n",
    "        ##################################\n",
    "        blame_data = repo.git.blame(lines, fixing_commit, \"-wC\", \"--\", fileName).splitlines()\n",
    "        commits = []\n",
    "        for l in blame_data:\n",
    "            commits.append(l[0:8])\n",
    "        unique, counts = np.unique(commits, return_counts=True)\n",
    "        d = dict(zip(unique, counts))\n",
    "        mostFrequent = max(d, key=d.get)\n",
    "        print('\\x1b[1;31m'+\"With -wC : \"+'\\x1b[0m'+mostFrequent)\n",
    "        ##################################\n",
    "        blame_data = repo.git.blame(lines, fixing_commit, \"-wCC\", \"--\", fileName).splitlines()\n",
    "        commits = []\n",
    "        for l in blame_data:\n",
    "            commits.append(l[0:8])\n",
    "        unique, counts = np.unique(commits, return_counts=True)\n",
    "        d = dict(zip(unique, counts))\n",
    "        mostFrequent = max(d, key=d.get)\n",
    "        print('\\x1b[1;31m'+\"With -wCC : \"+'\\x1b[0m'+mostFrequent)\n",
    "        ##################################\n",
    "        blame_data = repo.git.blame(lines, fixing_commit, \"-wCCC\", \"--\", fileName).splitlines()\n",
    "        commits = []\n",
    "        for l in blame_data:\n",
    "            commits.append(l[0:8])\n",
    "        unique, counts = np.unique(commits, return_counts=True)\n",
    "        d = dict(zip(unique, counts))\n",
    "        mostFrequent = max(d, key=d.get)\n",
    "        print('\\x1b[1;31m'+\"With -wCCC : \"+'\\x1b[0m'+mostFrequent)\n",
    "        "
   ]
  },
  {
   "cell_type": "markdown",
   "metadata": {},
   "source": [
    "### Task 4"
   ]
  },
  {
   "cell_type": "markdown",
   "metadata": {},
   "source": [
    "##### Part a)"
   ]
  },
  {
   "cell_type": "code",
   "execution_count": 4,
   "metadata": {},
   "outputs": [
    {
     "name": "stdout",
     "output_type": "stream",
     "text": [
      "\u001b[1;31mNumber of previous commits including current commit: \u001b[0m1\n",
      "\u001b[1;31mVCC is the initial commit.\u001b[0m\n"
     ]
    }
   ],
   "source": [
    "for file in files: \n",
    "    log_data = repo.git.show(mostFrequent,file).splitlines()\n",
    "    commit_dates = 0\n",
    "    for line in log_data:\n",
    "        if(line[0:8] == \"Date:   \"):\n",
    "            commit_dates = commit_dates +1\n",
    "    print('\\x1b[1;31m'+\"Number of previous commits including current commit: \"+'\\x1b[0m'+str(commit_dates))\n",
    "    if(commit_dates>1):\n",
    "        print('\\x1b[1;31m'+\"VCC is not the initial commit.\"+'\\x1b[0m')\n",
    "    else:\n",
    "        print('\\x1b[1;31m'+\"VCC is the initial commit.\"+'\\x1b[0m')\n",
    "    break"
   ]
  },
  {
   "cell_type": "markdown",
   "metadata": {},
   "source": [
    "##### Part b)"
   ]
  },
  {
   "cell_type": "code",
   "execution_count": 5,
   "metadata": {},
   "outputs": [
    {
     "name": "stdout",
     "output_type": "stream",
     "text": [
      "\u001b[1;31mVCC developer: \u001b[0mKonstantin Kolinko\n",
      "\u001b[1;31mFix developer: \u001b[0mKonstantin Kolinko\n",
      "\n",
      "\u001b[1;31mThe developer of the current fixing commit and its corresponding VCC is the same.\u001b[0m\n"
     ]
    }
   ],
   "source": [
    "#     if(commit_dates>1):\n",
    "for file in files:\n",
    "    log_data = repo.git.log(mostFrequent,\"--pretty=format:%an\", \"--follow\", \"--\",file).splitlines()\n",
    "    x = np.array(log_data) \n",
    "    name1 = \"\"\n",
    "    dev1_commits = 0\n",
    "    \n",
    "    name2 = \"\"\n",
    "    dev2_commits = 0\n",
    "    commit_authors = repo.git.shortlog(\"-sne\", \"--all\").splitlines()\n",
    "    uniqueNames = np.unique(x)\n",
    "    for name in uniqueNames:\n",
    "        print('\\x1b[1;31m'+\"VCC developer: \"+'\\x1b[0m' + name)\n",
    "        name1 = name\n",
    "        for commit_author in commit_authors:\n",
    "            commit, author = commit_author.split(\"\\t\")\n",
    "            if(author[:author.find(' <')] == name):\n",
    "                dev1_commits = commit\n",
    "        break\n",
    "\n",
    "    log_data = repo.git.log(fixing_commit,\"--pretty=format:%an\", \"--follow\", \"--\",file).splitlines()\n",
    "    x = np.array(log_data) \n",
    "    uniqueNames = np.unique(x)\n",
    "    for name in uniqueNames:\n",
    "        print('\\x1b[1;31m'+\"Fix developer: \"+'\\x1b[0m' + name)\n",
    "        name2 = name\n",
    "        for commit_author in commit_authors:\n",
    "            commit, author = commit_author.split(\"\\t\")\n",
    "            if(author[:author.find(' <')] == name):\n",
    "                dev2_commits = commit\n",
    "        break\n",
    "    print()\n",
    "    if(name1 == name2):\n",
    "        print('\\x1b[1;31m'+\"The developer of the current fixing commit and its corresponding VCC is the same.\"+'\\x1b[0m')\n",
    "    else:\n",
    "        print('\\x1b[1;31m'+\"The developer of the current fixing commit and its corresponding VCC is not the same.\"+'\\x1b[0m')\n",
    "        print('\\x1b[1;31m'+\"Number of commits by VCC developer: \"+'\\x1b[0m' + dev1_commits)\n",
    "        print('\\x1b[1;31m'+\"Number of commits by Fix developer: \"+'\\x1b[0m' + dev2_commits)\n",
    "        if(dev2_commits>dev1_commits):\n",
    "            print('\\x1b[1;31m'+\"Developer of the fix is more experienced\"+'\\x1b[0m')\n",
    "        else: \n",
    "            print('\\x1b[1;31m'+\"Developer of the VCC is more experienced\"+'\\x1b[0m')\n",
    "    break"
   ]
  },
  {
   "cell_type": "markdown",
   "metadata": {},
   "source": [
    "##### Part c)"
   ]
  },
  {
   "cell_type": "code",
   "execution_count": 6,
   "metadata": {},
   "outputs": [
    {
     "name": "stdout",
     "output_type": "stream",
     "text": [
      "\u001b[1;31mVCC Commit Date\\Time: \u001b[0m2016-01-21 12:52:16\n",
      "Thu Jan 21 12:52:16 2016\n",
      "\u001b[1;31mFix Commit Date\\Time: \u001b[0m2016-01-21 12:52:16\n",
      "\u001b[1;31mTime Difference: \u001b[0m0:00:00\n",
      "\u001b[1;31mThe vulnerability has been fixed immediately\u001b[0m\n"
     ]
    }
   ],
   "source": [
    "from datetime import datetime\n",
    "from datetime import date\n",
    "# print(\"Number of commits in between:\", len(log_data))\n",
    "i=0\n",
    "for file in files: \n",
    "    log_data = repo.git.log(mostFrequent,file).splitlines()\n",
    "    commit_number = 0\n",
    "    date1 = datetime.now()\n",
    "    date2 = datetime.now()\n",
    "    for line in log_data:\n",
    "        if(line[0:8] == \"Date:   \"):\n",
    "            commit_number=commit_number+1\n",
    "            if(commit_number ==1):\n",
    "                date1 = datetime.strptime(line[8:32], '%a %b %d %H:%M:%S %Y')\n",
    "                print('\\x1b[1;31m'+\"VCC Commit Date\\Time: \"+'\\x1b[0m'+str(date1))\n",
    "                print(fix_date)\n",
    "                date2 = datetime.strptime(fix_date, '%a %b %d %H:%M:%S %Y')\n",
    "                print('\\x1b[1;31m'+\"Fix Commit Date\\Time: \"+'\\x1b[0m'+str(date2))\n",
    "                break\n",
    "\n",
    "    print('\\x1b[1;31m'+\"Time Difference: \"+'\\x1b[0m'+str(date2-date1))\n",
    "    if(str(date2-date1) < \"24:00\"):\n",
    "        print('\\x1b[1;31m'+\"The vulnerability has been fixed immediately\"+'\\x1b[0m')\n",
    "    else:\n",
    "        print('\\x1b[1;31m'+\"The vulnerability has not been fixed immediately\"+'\\x1b[0m')\n",
    "    break"
   ]
  },
  {
   "cell_type": "markdown",
   "metadata": {},
   "source": [
    "# 2. Apache/struts\n"
   ]
  },
  {
   "cell_type": "markdown",
   "metadata": {},
   "source": [
    "### Task 3"
   ]
  },
  {
   "cell_type": "markdown",
   "metadata": {},
   "source": [
    "##### Part d)"
   ]
  },
  {
   "cell_type": "code",
   "execution_count": 7,
   "metadata": {},
   "outputs": [
    {
     "name": "stdout",
     "output_type": "stream",
     "text": [
      "\u001b[1;31mFile Name: \u001b[0mapps/showcase/src/main/webapp/tags/non-ui/actionPrefix/actionPrefixExample.ftl\n",
      "\u001b[1;31mInsertions: \u001b[0m3\n",
      "\u001b[1;31mDeletions: \u001b[0m7\n",
      "\u001b[1;31mTotal: \u001b[0m10\n",
      "\u001b[1;31mFile Name: \u001b[0mcore/src/main/java/org/apache/struts2/dispatcher/mapper/DefaultActionMapper.java\n",
      "\u001b[1;31mInsertions: \u001b[0m8\n",
      "\u001b[1;31mDeletions: \u001b[0m31\n",
      "\u001b[1;31mTotal: \u001b[0m39\n",
      "\u001b[1;31mFile Name: \u001b[0mcore/src/test/java/org/apache/struts2/dispatcher/mapper/DefaultActionMapperTest.java\n",
      "\u001b[1;31mInsertions: \u001b[0m37\n",
      "\u001b[1;31mDeletions: \u001b[0m31\n",
      "\u001b[1;31mTotal: \u001b[0m68\n"
     ]
    }
   ],
   "source": [
    "remote_link = \"https://github.com/apache/struts\"\n",
    "local_link = \"struts\"\n",
    "\n",
    "repo = Repo(local_link)\n",
    "fixing_commit = \"3cfe34fefedcf0fdcfcb061c0aea34a715b7de6\"\n",
    "repo.git.checkout(fixing_commit)\n",
    "\n",
    "show_data = repo.git.show(\"--shortstat\", fixing_commit).splitlines()\n",
    "\n",
    "commit = repo.commit(fixing_commit)\n",
    "s = commit.stats\n",
    "# s.total         # full-stat-dict\n",
    "# s.files         # dict( filepath : stat-dict )\n",
    "# print(s.total) # Overall statistics\n",
    "# print(s.files) # List all the files\n",
    "\n",
    "fix_date = show_data[2][8:32]\n",
    "# print(fix_date)\n",
    "files = s.files\n",
    "directoryList = []\n",
    "fileNames = []\n",
    "for file in files.keys():\n",
    "    fileNames.append(file)\n",
    "    print('\\x1b[1;31m'+\"File Name: \"+'\\x1b[0m'+file)\n",
    "#     print(files[file]['insertions'])\n",
    "#     print(files[file]['deletions'])\n",
    "#     print(files[file]['lines'])\n",
    "    print('\\x1b[1;31m'+\"Insertions: \"+'\\x1b[0m'+str(files[file]['insertions']))\n",
    "    print('\\x1b[1;31m'+\"Deletions: \"+'\\x1b[0m'+str(files[file]['deletions']))\n",
    "    print('\\x1b[1;31m'+\"Total: \"+'\\x1b[0m'+str(files[file]['lines']))\n",
    "\n",
    "#     if directory not in directoryList:\n",
    "#         directoryList.append(directory)"
   ]
  },
  {
   "cell_type": "markdown",
   "metadata": {},
   "source": [
    "##### Part e)"
   ]
  },
  {
   "cell_type": "code",
   "execution_count": 8,
   "metadata": {},
   "outputs": [
    {
     "name": "stdout",
     "output_type": "stream",
     "text": [
      "\n",
      "\u001b[1;31mFile name : \u001b[0mapps/showcase/src/main/webapp/tags/non-ui/actionPrefix/actionPrefixExample.ftl\n",
      "\u001b[1;31mNo parameter : \u001b[0m3cfe34fe\n",
      "\u001b[1;31mWith -w : \u001b[0m3cfe34fe\n",
      "\u001b[1;31mWith -wM : \u001b[0m3cfe34fe\n",
      "\u001b[1;31mWith -wC : \u001b[0m3cfe34fe\n",
      "\u001b[1;31mWith -wCC : \u001b[0m3cfe34fe\n",
      "\u001b[1;31mWith -wCCC : \u001b[0m3cfe34fe\n",
      "\n",
      "\u001b[1;31mFile name : \u001b[0mcore/src/main/java/org/apache/struts2/dispatcher/mapper/DefaultActionMapper.java\n",
      "\u001b[1;31mNo parameter : \u001b[0m2b8e02d9\n",
      "\u001b[1;31mWith -w : \u001b[0m2b8e02d9\n",
      "\u001b[1;31mWith -wM : \u001b[0m2b8e02d9\n",
      "\u001b[1;31mWith -wC : \u001b[0m2b8e02d9\n",
      "\u001b[1;31mWith -wCC : \u001b[0m2b8e02d9\n",
      "\u001b[1;31mWith -wCCC : \u001b[0m2b8e02d9\n",
      "\n",
      "\u001b[1;31mFile name : \u001b[0mcore/src/test/java/org/apache/struts2/dispatcher/mapper/DefaultActionMapperTest.java\n",
      "\u001b[1;31mNo parameter : \u001b[0me82758a9\n",
      "\u001b[1;31mWith -w : \u001b[0me82758a9\n",
      "\u001b[1;31mWith -wM : \u001b[0me82758a9\n",
      "\u001b[1;31mWith -wC : \u001b[0me82758a9\n",
      "\u001b[1;31mWith -wCC : \u001b[0me82758a9\n",
      "\u001b[1;31mWith -wCCC : \u001b[0me82758a9\n"
     ]
    }
   ],
   "source": [
    "diff_data = repo.git.diff(\"-U0\",fixing_commit + \"^\", fixing_commit).splitlines()\n",
    "# print(diff_data)\n",
    "fNames = []\n",
    "fileName = \"\"\n",
    "for line in diff_data:\n",
    "    if(line[0:10] == 'diff --git'):\n",
    "        fileName = line[13:line.find(' b')]\n",
    "    if(line[0:3] == '@@ ' and fileName not in fNames):\n",
    "        start = ' +'\n",
    "        parentScopeStart = ' @@ '\n",
    "        end = ' @@'\n",
    "        s = line\n",
    "        parentScope = (s[s.find(parentScopeStart)+len(parentScopeStart):])\n",
    "        affectedLines = (s[s.find(start)+len(start):s.rfind(end)]).split(',')\n",
    "        if(len(affectedLines) == 1):\n",
    "            affectedLines.append('1')\n",
    "        if(affectedLines[1] == '0'):\n",
    "            affectedLines[1] = '1'\n",
    "#         print(affectedLines)\n",
    "        lines = \"-L\"+affectedLines[0]+\",+\"+affectedLines[1]\n",
    "\n",
    "        blame_data = repo.git.blame(lines, fixing_commit, \"--\", fileName).splitlines()\n",
    "        commits = []\n",
    "        for l in blame_data:\n",
    "            commits.append(l[0:8])\n",
    "            break\n",
    "        unique, counts = np.unique(commits, return_counts=True)\n",
    "        d = dict(zip(unique, counts))\n",
    "        mostFrequent = max(d, key=d.get)\n",
    "        \n",
    "#         lines = \"-L\"+affectedLines[0]+\",+\"+affectedLines[1]\n",
    "        print()\n",
    "        print('\\x1b[1;31m'+\"File name : \"+'\\x1b[0m'+fileName)\n",
    "        blame_data = repo.git.blame(lines, fixing_commit, \"--\", fileName).splitlines()\n",
    "        commits = []\n",
    "        for l in blame_data:\n",
    "            commits.append(l[0:8])\n",
    "            break\n",
    "        unique, counts = np.unique(commits, return_counts=True)\n",
    "        d = dict(zip(unique, counts))\n",
    "        mostFrequent = max(d, key=d.get)\n",
    "        print('\\x1b[1;31m'+\"No parameter : \"+'\\x1b[0m'+mostFrequent)\n",
    "        ##################################\n",
    "        blame_data = repo.git.blame(lines, fixing_commit, \"-w\", \"--\", fileName).splitlines()\n",
    "        commits = []\n",
    "        for l in blame_data:\n",
    "            commits.append(l[0:8])\n",
    "            break\n",
    "        unique, counts = np.unique(commits, return_counts=True)\n",
    "        d = dict(zip(unique, counts))\n",
    "        mostFrequent = max(d, key=d.get)\n",
    "        print('\\x1b[1;31m'+\"With -w : \"+'\\x1b[0m'+mostFrequent)\n",
    "        ##################################\n",
    "        blame_data = repo.git.blame(lines, fixing_commit, \"-wM\", \"--\", fileName).splitlines()\n",
    "        commits = []\n",
    "        for l in blame_data:\n",
    "            commits.append(l[0:8])\n",
    "            break\n",
    "        unique, counts = np.unique(commits, return_counts=True)\n",
    "        d = dict(zip(unique, counts))\n",
    "        mostFrequent = max(d, key=d.get)\n",
    "        print('\\x1b[1;31m'+\"With -wM : \"+'\\x1b[0m'+mostFrequent)\n",
    "        ##################################\n",
    "        blame_data = repo.git.blame(lines, fixing_commit, \"-wC\", \"--\", fileName).splitlines()\n",
    "        commits = []\n",
    "        for l in blame_data:\n",
    "            commits.append(l[0:8])\n",
    "            break\n",
    "        unique, counts = np.unique(commits, return_counts=True)\n",
    "        d = dict(zip(unique, counts))\n",
    "        mostFrequent = max(d, key=d.get)\n",
    "        print('\\x1b[1;31m'+\"With -wC : \"+'\\x1b[0m'+mostFrequent)\n",
    "        ##################################\n",
    "        blame_data = repo.git.blame(lines, fixing_commit, \"-wCC\", \"--\", fileName).splitlines()\n",
    "        commits = []\n",
    "        for l in blame_data:\n",
    "            commits.append(l[0:8])\n",
    "            break\n",
    "        unique, counts = np.unique(commits, return_counts=True)\n",
    "        d = dict(zip(unique, counts))\n",
    "        mostFrequent = max(d, key=d.get)\n",
    "        print('\\x1b[1;31m'+\"With -wCC : \"+'\\x1b[0m'+mostFrequent)\n",
    "        ##################################\n",
    "        blame_data = repo.git.blame(lines, fixing_commit, \"-wCCC\", \"--\", fileName).splitlines()\n",
    "        commits = []\n",
    "        for l in blame_data:\n",
    "            commits.append(l[0:8])\n",
    "            break\n",
    "        unique, counts = np.unique(commits, return_counts=True)\n",
    "        d = dict(zip(unique, counts))\n",
    "        mostFrequent = max(d, key=d.get)\n",
    "        print('\\x1b[1;31m'+\"With -wCCC : \"+'\\x1b[0m'+mostFrequent)\n",
    "        fNames.append(fileName)\n",
    "        "
   ]
  },
  {
   "cell_type": "markdown",
   "metadata": {},
   "source": [
    "### Task 4"
   ]
  },
  {
   "cell_type": "markdown",
   "metadata": {},
   "source": [
    "##### Part a)"
   ]
  },
  {
   "cell_type": "code",
   "execution_count": 9,
   "metadata": {},
   "outputs": [
    {
     "name": "stdout",
     "output_type": "stream",
     "text": [
      "\u001b[1;31mNumber of previous commits including current commit: \u001b[0m0\n",
      "\u001b[1;31mVCC is the initial commit.\u001b[0m\n"
     ]
    }
   ],
   "source": [
    "for file in files: \n",
    "    log_data = repo.git.show(mostFrequent,file).splitlines()\n",
    "    commit_dates = 0\n",
    "    for line in log_data:\n",
    "        if(line[0:8] == \"Date:   \"):\n",
    "            commit_dates = commit_dates +1\n",
    "    print('\\x1b[1;31m'+\"Number of previous commits including current commit: \"+'\\x1b[0m'+str(commit_dates))\n",
    "    if(commit_dates>1):\n",
    "        print('\\x1b[1;31m'+\"VCC is not the initial commit.\"+'\\x1b[0m')\n",
    "    else:\n",
    "        print('\\x1b[1;31m'+\"VCC is the initial commit.\"+'\\x1b[0m')\n",
    "    break"
   ]
  },
  {
   "cell_type": "markdown",
   "metadata": {},
   "source": [
    "##### Part b)"
   ]
  },
  {
   "cell_type": "code",
   "execution_count": 10,
   "metadata": {},
   "outputs": [
    {
     "name": "stdout",
     "output_type": "stream",
     "text": [
      "\u001b[1;31mFix developer: \u001b[0mAntonio Petrelli\n",
      "\n",
      "\u001b[1;31mThe developer of the current fixing commit and its corresponding VCC is not the same.\u001b[0m\n",
      "\u001b[1;31mNumber of commits by VCC developer: \u001b[0m0\n",
      "\u001b[1;31mNumber of commits by Fix developer: \u001b[0m    59\n",
      "\u001b[1;31mDeveloper of the fix is more experienced\u001b[0m\n"
     ]
    }
   ],
   "source": [
    "#     if(commit_dates>1):\n",
    "for file in files:\n",
    "    log_data = repo.git.log(mostFrequent,\"--pretty=format:%an\", \"--follow\", \"--\",file).splitlines()\n",
    "    x = np.array(log_data) \n",
    "    name1 = \"\"\n",
    "    dev1_commits = 0\n",
    "    \n",
    "    name2 = \"\"\n",
    "    dev2_commits = 0\n",
    "    commit_authors = repo.git.shortlog(\"-sne\", \"--all\").splitlines()\n",
    "    uniqueNames = np.unique(x)\n",
    "    for name in uniqueNames:\n",
    "        print('\\x1b[1;31m'+\"VCC developer: \"+'\\x1b[0m' + name)\n",
    "        name1 = name\n",
    "        for commit_author in commit_authors:\n",
    "            commit, author = commit_author.split(\"\\t\")\n",
    "            if(author[:author.find(' <')] == name):\n",
    "                dev1_commits = commit\n",
    "        break\n",
    "\n",
    "    log_data = repo.git.log(fixing_commit,\"--pretty=format:%an\", \"--follow\", \"--\",file).splitlines()\n",
    "    x = np.array(log_data) \n",
    "    uniqueNames = np.unique(x)\n",
    "    for name in uniqueNames:\n",
    "        print('\\x1b[1;31m'+\"Fix developer: \"+'\\x1b[0m' + name)\n",
    "        name2 = name\n",
    "        for commit_author in commit_authors:\n",
    "            commit, author = commit_author.split(\"\\t\")\n",
    "            if(author[:author.find(' <')] == name):\n",
    "                dev2_commits = commit\n",
    "        break\n",
    "    print()\n",
    "    if(name1 == name2):\n",
    "        print('\\x1b[1;31m'+\"The developer of the current fixing commit and its corresponding VCC is the same.\"+'\\x1b[0m')\n",
    "    else:\n",
    "        print('\\x1b[1;31m'+\"The developer of the current fixing commit and its corresponding VCC is not the same.\"+'\\x1b[0m')\n",
    "        print('\\x1b[1;31m'+\"Number of commits by VCC developer: \"+'\\x1b[0m' + str(dev1_commits))\n",
    "        print('\\x1b[1;31m'+\"Number of commits by Fix developer: \"+'\\x1b[0m' + str(dev2_commits))\n",
    "        if(int(dev2_commits)>int(dev1_commits)):\n",
    "            print('\\x1b[1;31m'+\"Developer of the fix is more experienced\"+'\\x1b[0m')\n",
    "        else: \n",
    "            print('\\x1b[1;31m'+\"Developer of the VCC is more experienced\"+'\\x1b[0m')\n",
    "    break"
   ]
  },
  {
   "cell_type": "markdown",
   "metadata": {},
   "source": [
    "##### Part c)"
   ]
  },
  {
   "cell_type": "code",
   "execution_count": 11,
   "metadata": {},
   "outputs": [
    {
     "name": "stdout",
     "output_type": "stream",
     "text": [
      "\u001b[1;31mTime Difference: \u001b[0m0:00:00.000018\n",
      "\u001b[1;31mThe vulnerability has been fixed immediately\u001b[0m\n"
     ]
    }
   ],
   "source": [
    "from datetime import datetime\n",
    "from datetime import date\n",
    "# print(\"Number of commits in between:\", len(log_data))\n",
    "i=0\n",
    "for file in files: \n",
    "    log_data = repo.git.log(mostFrequent,file).splitlines()\n",
    "    commit_number = 0\n",
    "    date1 = datetime.now()\n",
    "    date2 = datetime.now()\n",
    "    for line in log_data:\n",
    "        print(line)\n",
    "        print()\n",
    "        if(line[0:8] == \"Date:   \"):\n",
    "            commit_number=commit_number+1\n",
    "            if(commit_number ==1):\n",
    "                date1 = datetime.strptime(line[8:32], '%a %b %d %H:%M:%S %Y')\n",
    "                print('\\x1b[1;31m'+\"VCC Commit Date\\Time: \"+'\\x1b[0m'+str(date1))\n",
    "                print(fix_date)\n",
    "                date2 = datetime.strptime(fix_date, '%a %b %d %H:%M:%S %Y')\n",
    "                print('\\x1b[1;31m'+\"Fix Commit Date\\Time: \"+'\\x1b[0m'+str(date2))\n",
    "                break\n",
    "\n",
    "    print('\\x1b[1;31m'+\"Time Difference: \"+'\\x1b[0m'+str(date2-date1))\n",
    "    if(str(date2-date1) < \"24:00\"):\n",
    "        print('\\x1b[1;31m'+\"The vulnerability has been fixed immediately\"+'\\x1b[0m')\n",
    "    else:\n",
    "        print('\\x1b[1;31m'+\"The vulnerability has not been fixed immediately\"+'\\x1b[0m')\n",
    "    break"
   ]
  },
  {
   "cell_type": "markdown",
   "metadata": {},
   "source": [
    "# 3. Apache/tomcat"
   ]
  },
  {
   "cell_type": "markdown",
   "metadata": {},
   "source": [
    "### Task 3"
   ]
  },
  {
   "cell_type": "markdown",
   "metadata": {},
   "source": [
    "##### Part d)"
   ]
  },
  {
   "cell_type": "code",
   "execution_count": 12,
   "metadata": {},
   "outputs": [
    {
     "name": "stdout",
     "output_type": "stream",
     "text": [
      "\u001b[1;31mFile Name: \u001b[0mjava/org/apache/catalina/loader/WebappClassLoaderBase.java\n",
      "\u001b[1;31mInsertions: \u001b[0m20\n",
      "\u001b[1;31mDeletions: \u001b[0m1\n",
      "\u001b[1;31mTotal: \u001b[0m21\n",
      "\u001b[1;31mFile Name: \u001b[0mjava/org/apache/tomcat/util/digester/Digester.java\n",
      "\u001b[1;31mInsertions: \u001b[0m10\n",
      "\u001b[1;31mDeletions: \u001b[0m0\n",
      "\u001b[1;31mTotal: \u001b[0m10\n",
      "\u001b[1;31mFile Name: \u001b[0mjava/org/apache/tomcat/util/security/PermissionCheck.java\n",
      "\u001b[1;31mInsertions: \u001b[0m43\n",
      "\u001b[1;31mDeletions: \u001b[0m0\n",
      "\u001b[1;31mTotal: \u001b[0m43\n",
      "\u001b[1;31mFile Name: \u001b[0mwebapps/docs/changelog.xml\n",
      "\u001b[1;31mInsertions: \u001b[0m8\n",
      "\u001b[1;31mDeletions: \u001b[0m0\n",
      "\u001b[1;31mTotal: \u001b[0m8\n"
     ]
    }
   ],
   "source": [
    "remote_link = \"https://github.com/apache/tomcat\"\n",
    "local_link = \"tomcat\"\n",
    "\n",
    "repo = Repo(local_link)\n",
    "fixing_commit = \"c1660182010b4255c21c874d69c124370a67784a\"\n",
    "repo.git.checkout(fixing_commit)\n",
    "\n",
    "show_data = repo.git.show(\"--shortstat\", fixing_commit).splitlines()\n",
    "\n",
    "commit = repo.commit(fixing_commit)\n",
    "s = commit.stats\n",
    "# s.total         # full-stat-dict\n",
    "# s.files         # dict( filepath : stat-dict )\n",
    "# print(s.total) # Overall statistics\n",
    "# print(s.files) # List all the files\n",
    "\n",
    "fix_date = show_data[2][8:32]\n",
    "# print(fix_date)\n",
    "files = s.files\n",
    "directoryList = []\n",
    "fileNames = []\n",
    "for file in files.keys():\n",
    "    fileNames.append(file)\n",
    "    print('\\x1b[1;31m'+\"File Name: \"+'\\x1b[0m'+file)\n",
    "#     print(files[file]['insertions'])\n",
    "#     print(files[file]['deletions'])\n",
    "#     print(files[file]['lines'])\n",
    "    print('\\x1b[1;31m'+\"Insertions: \"+'\\x1b[0m'+str(files[file]['insertions']))\n",
    "    print('\\x1b[1;31m'+\"Deletions: \"+'\\x1b[0m'+str(files[file]['deletions']))\n",
    "    print('\\x1b[1;31m'+\"Total: \"+'\\x1b[0m'+str(files[file]['lines']))\n",
    "\n",
    "#     if directory not in directoryList:\n",
    "#         directoryList.append(directory)"
   ]
  },
  {
   "cell_type": "markdown",
   "metadata": {},
   "source": [
    "##### Part e)"
   ]
  },
  {
   "cell_type": "code",
   "execution_count": 13,
   "metadata": {},
   "outputs": [
    {
     "name": "stdout",
     "output_type": "stream",
     "text": [
      "\n",
      "\u001b[1;31mFine name : \u001b[0mjava/org/apache/catalina/loader/WebappClassLoaderBase.java\n",
      "\u001b[1;31mNo parameter : \u001b[0mc1660182\n",
      "\u001b[1;31mWith -w : \u001b[0mc1660182\n",
      "\u001b[1;31mWith -wM : \u001b[0mc1660182\n",
      "\u001b[1;31mWith -wC : \u001b[0mc1660182\n",
      "\u001b[1;31mWith -wCC : \u001b[0mc1660182\n",
      "\u001b[1;31mWith -wCCC : \u001b[0mc1660182\n",
      "\n",
      "\u001b[1;31mFine name : \u001b[0mjava/org/apache/tomcat/util/digester/Digester.java\n",
      "\u001b[1;31mNo parameter : \u001b[0mc1660182\n",
      "\u001b[1;31mWith -w : \u001b[0mc1660182\n",
      "\u001b[1;31mWith -wM : \u001b[0mc1660182\n",
      "\u001b[1;31mWith -wC : \u001b[0mc1660182\n",
      "\u001b[1;31mWith -wCC : \u001b[0mc1660182\n",
      "\u001b[1;31mWith -wCCC : \u001b[0mc1660182\n",
      "\n",
      "\u001b[1;31mFine name : \u001b[0mjava/org/apache/tomcat/util/security/PermissionCheck.java\n",
      "\u001b[1;31mNo parameter : \u001b[0mc1660182\n",
      "\u001b[1;31mWith -w : \u001b[0mc1660182\n",
      "\u001b[1;31mWith -wM : \u001b[0mc1660182\n",
      "\u001b[1;31mWith -wC : \u001b[0mc1660182\n",
      "\u001b[1;31mWith -wCC : \u001b[0mc1660182\n",
      "\u001b[1;31mWith -wCCC : \u001b[0mc1660182\n",
      "\n",
      "\u001b[1;31mFine name : \u001b[0mwebapps/docs/changelog.xml\n",
      "\u001b[1;31mNo parameter : \u001b[0mc1660182\n",
      "\u001b[1;31mWith -w : \u001b[0mc1660182\n",
      "\u001b[1;31mWith -wM : \u001b[0mc1660182\n",
      "\u001b[1;31mWith -wC : \u001b[0mc1660182\n",
      "\u001b[1;31mWith -wCC : \u001b[0mc1660182\n",
      "\u001b[1;31mWith -wCCC : \u001b[0mc1660182\n"
     ]
    }
   ],
   "source": [
    "diff_data = repo.git.diff(\"-U0\",fixing_commit + \"^\", fixing_commit).splitlines()\n",
    "# print(diff_data)\n",
    "fNames = []\n",
    "fileName = \"\"\n",
    "affectedLines = []\n",
    "for line in diff_data:\n",
    "    if(line[0:10] == 'diff --git'):\n",
    "        fileName = line[13:line.find(' b')]\n",
    "    if(line[0:3] == '@@ ' and fileName not in fNames):\n",
    "        start = ' +'\n",
    "        parentScopeStart = ' @@ '\n",
    "        end = ' @@'\n",
    "        s = line\n",
    "        parentScope = (s[s.find(parentScopeStart)+len(parentScopeStart):])\n",
    "        affectedLines = (s[s.find(start)+len(start):s.rfind(end)]).split(',')\n",
    "        affectedLines.append('1')\n",
    "        lines = \"-L\"+affectedLines[0]+\",+\"+affectedLines[1]\n",
    "        \n",
    "        blame_data = repo.git.blame(lines, fixing_commit, \"--\", fileName).splitlines()\n",
    "        commits = []\n",
    "        for l in blame_data:\n",
    "            commits.append(l[0:8])\n",
    "        unique, counts = np.unique(commits, return_counts=True)\n",
    "        d = dict(zip(unique, counts))\n",
    "        mostFrequent = max(d, key=d.get)\n",
    "#         print(affectedLines)\n",
    "#         if(len(affectedLines) == 1):\n",
    "#             affectedLines.append('1')\n",
    "        \n",
    "#         lines = \"-L\"+affectedLines[0]+\",+\"+affectedLines[1]\n",
    "        print()\n",
    "        print('\\x1b[1;31m'+\"Fine name : \"+'\\x1b[0m'+fileName)\n",
    "        blame_data = repo.git.blame(lines, fixing_commit, \"--\", fileName).splitlines()\n",
    "        commits = []\n",
    "        for l in blame_data:\n",
    "            commits.append(l[0:8])\n",
    "        unique, counts = np.unique(commits, return_counts=True)\n",
    "        d = dict(zip(unique, counts))\n",
    "        mostFrequent = max(d, key=d.get)\n",
    "        print('\\x1b[1;31m'+\"No parameter : \"+'\\x1b[0m'+mostFrequent)\n",
    "        ##################################\n",
    "        blame_data = repo.git.blame(lines, fixing_commit, \"-w\", \"--\", fileName).splitlines()\n",
    "        commits = []\n",
    "        for l in blame_data:\n",
    "            commits.append(l[0:8])\n",
    "        unique, counts = np.unique(commits, return_counts=True)\n",
    "        d = dict(zip(unique, counts))\n",
    "        mostFrequent = max(d, key=d.get)\n",
    "        print('\\x1b[1;31m'+\"With -w : \"+'\\x1b[0m'+mostFrequent)\n",
    "        ##################################\n",
    "        blame_data = repo.git.blame(lines, fixing_commit, \"-wM\", \"--\", fileName).splitlines()\n",
    "        commits = []\n",
    "        for l in blame_data:\n",
    "            commits.append(l[0:8])\n",
    "        unique, counts = np.unique(commits, return_counts=True)\n",
    "        d = dict(zip(unique, counts))\n",
    "        mostFrequent = max(d, key=d.get)\n",
    "        print('\\x1b[1;31m'+\"With -wM : \"+'\\x1b[0m'+mostFrequent)\n",
    "        ##################################\n",
    "        blame_data = repo.git.blame(lines, fixing_commit, \"-wC\", \"--\", fileName).splitlines()\n",
    "        commits = []\n",
    "        for l in blame_data:\n",
    "            commits.append(l[0:8])\n",
    "        unique, counts = np.unique(commits, return_counts=True)\n",
    "        d = dict(zip(unique, counts))\n",
    "        mostFrequent = max(d, key=d.get)\n",
    "        print('\\x1b[1;31m'+\"With -wC : \"+'\\x1b[0m'+mostFrequent)\n",
    "        ##################################\n",
    "        blame_data = repo.git.blame(lines, fixing_commit, \"-wCC\", \"--\", fileName).splitlines()\n",
    "        commits = []\n",
    "        for l in blame_data:\n",
    "            commits.append(l[0:8])\n",
    "        unique, counts = np.unique(commits, return_counts=True)\n",
    "        d = dict(zip(unique, counts))\n",
    "        mostFrequent = max(d, key=d.get)\n",
    "        print('\\x1b[1;31m'+\"With -wCC : \"+'\\x1b[0m'+mostFrequent)\n",
    "        ##################################\n",
    "        blame_data = repo.git.blame(lines, fixing_commit, \"-wCCC\", \"--\", fileName).splitlines()\n",
    "        commits = []\n",
    "        for l in blame_data:\n",
    "            commits.append(l[0:8])\n",
    "        unique, counts = np.unique(commits, return_counts=True)\n",
    "        d = dict(zip(unique, counts))\n",
    "        mostFrequent = max(d, key=d.get)\n",
    "        print('\\x1b[1;31m'+\"With -wCCC : \"+'\\x1b[0m'+mostFrequent)\n",
    "        fNames.append(fileName)\n",
    "        "
   ]
  },
  {
   "cell_type": "markdown",
   "metadata": {},
   "source": [
    "### Task 4"
   ]
  },
  {
   "cell_type": "markdown",
   "metadata": {},
   "source": [
    "##### Part a)"
   ]
  },
  {
   "cell_type": "code",
   "execution_count": 14,
   "metadata": {},
   "outputs": [
    {
     "name": "stdout",
     "output_type": "stream",
     "text": [
      "\u001b[1;31mNumber of previous commits including current commit: \u001b[0m1\n",
      "\u001b[1;31mVCC is the initial commit.\u001b[0m\n"
     ]
    }
   ],
   "source": [
    "for file in files: \n",
    "    log_data = repo.git.show(mostFrequent,file).splitlines()\n",
    "    commit_dates = 0\n",
    "    for line in log_data:\n",
    "        if(line[0:8] == \"Date:   \"):\n",
    "            commit_dates = commit_dates +1\n",
    "    print('\\x1b[1;31m'+\"Number of previous commits including current commit: \"+'\\x1b[0m'+str(commit_dates))\n",
    "    if(commit_dates>1):\n",
    "        print('\\x1b[1;31m'+\"VCC is not the initial commit.\"+'\\x1b[0m')\n",
    "    else:\n",
    "        print('\\x1b[1;31m'+\"VCC is the initial commit.\"+'\\x1b[0m')\n",
    "    break"
   ]
  },
  {
   "cell_type": "markdown",
   "metadata": {},
   "source": [
    "##### Part b)"
   ]
  },
  {
   "cell_type": "code",
   "execution_count": 15,
   "metadata": {},
   "outputs": [
    {
     "name": "stdout",
     "output_type": "stream",
     "text": [
      "\u001b[1;31mVCC developer: \u001b[0mChristopher Schultz\n",
      "\u001b[1;31mFix developer: \u001b[0mChristopher Schultz\n",
      "\n",
      "\u001b[1;31mThe developer of the current fixing commit and its corresponding VCC is the same.\u001b[0m\n"
     ]
    }
   ],
   "source": [
    "#     if(commit_dates>1):\n",
    "for file in files:\n",
    "    log_data = repo.git.log(mostFrequent,\"--pretty=format:%an\", \"--follow\", \"--\",file).splitlines()\n",
    "    x = np.array(log_data) \n",
    "    name1 = \"\"\n",
    "    dev1_commits = 0\n",
    "    \n",
    "    name2 = \"\"\n",
    "    dev2_commits = 0\n",
    "    commit_authors = repo.git.shortlog(\"-sne\", \"--all\").splitlines()\n",
    "    uniqueNames = np.unique(x)\n",
    "    for name in uniqueNames:\n",
    "        print('\\x1b[1;31m'+\"VCC developer: \"+'\\x1b[0m' + name)\n",
    "        name1 = name\n",
    "        for commit_author in commit_authors:\n",
    "            commit, author = commit_author.split(\"\\t\")\n",
    "            if(author[:author.find(' <')] == name):\n",
    "                dev1_commits = commit\n",
    "        break\n",
    "\n",
    "    log_data = repo.git.log(fixing_commit,\"--pretty=format:%an\", \"--follow\", \"--\",file).splitlines()\n",
    "    x = np.array(log_data) \n",
    "    uniqueNames = np.unique(x)\n",
    "    for name in uniqueNames:\n",
    "        print('\\x1b[1;31m'+\"Fix developer: \"+'\\x1b[0m' + name)\n",
    "        name2 = name\n",
    "        for commit_author in commit_authors:\n",
    "            commit, author = commit_author.split(\"\\t\")\n",
    "            if(author[:author.find(' <')] == name):\n",
    "                dev2_commits = commit\n",
    "        break\n",
    "    print()\n",
    "    if(name1 == name2):\n",
    "        print('\\x1b[1;31m'+\"The developer of the current fixing commit and its corresponding VCC is the same.\"+'\\x1b[0m')\n",
    "    else:\n",
    "        print('\\x1b[1;31m'+\"The developer of the current fixing commit and its corresponding VCC is not the same.\"+'\\x1b[0m')\n",
    "        print('\\x1b[1;31m'+\"Number of commits by VCC developer: \"+'\\x1b[0m' + dev1_commits)\n",
    "        print('\\x1b[1;31m'+\"Number of commits by Fix developer: \"+'\\x1b[0m' + dev2_commits)\n",
    "        if(dev2_commits>dev1_commits):\n",
    "            print('\\x1b[1;31m'+\"Developer of the fix is more experienced\"+'\\x1b[0m')\n",
    "        else: \n",
    "            print('\\x1b[1;31m'+\"Developer of the VCC is more experienced\"+'\\x1b[0m')\n",
    "    break"
   ]
  },
  {
   "cell_type": "markdown",
   "metadata": {},
   "source": [
    "##### Part c)"
   ]
  },
  {
   "cell_type": "code",
   "execution_count": 17,
   "metadata": {},
   "outputs": [
    {
     "name": "stdout",
     "output_type": "stream",
     "text": [
      "\u001b[1;31mVCC Commit Date\\Time: \u001b[0m2016-07-28 19:45:12\n",
      "Thu Jul 28 19:45:12 2016\n",
      "\u001b[1;31mFix Commit Date\\Time: \u001b[0m2016-07-28 19:45:12\n",
      "\u001b[1;31mTime Difference: \u001b[0m0:00:00\n",
      "\u001b[1;31mThe vulnerability has been fixed immediately\u001b[0m\n"
     ]
    }
   ],
   "source": [
    "from datetime import datetime\n",
    "from datetime import date\n",
    "# print(\"Number of commits in between:\", len(log_data))\n",
    "i=0\n",
    "for file in files: \n",
    "    log_data = repo.git.log(mostFrequent,file).splitlines()\n",
    "    commit_number = 0\n",
    "    date1 = datetime.now()\n",
    "    date2 = datetime.now()\n",
    "    for line in log_data:\n",
    "        if(line[0:8] == \"Date:   \"):\n",
    "            commit_number=commit_number+1\n",
    "            if(commit_number ==1):\n",
    "                date1 = datetime.strptime(line[8:32], '%a %b %d %H:%M:%S %Y')\n",
    "                print('\\x1b[1;31m'+\"VCC Commit Date\\Time: \"+'\\x1b[0m'+str(date1))\n",
    "                print(fix_date)\n",
    "                date2 = datetime.strptime(fix_date, '%a %b %d %H:%M:%S %Y')\n",
    "                print('\\x1b[1;31m'+\"Fix Commit Date\\Time: \"+'\\x1b[0m'+str(date2))\n",
    "                break\n",
    "\n",
    "    print('\\x1b[1;31m'+\"Time Difference: \"+'\\x1b[0m'+str(date2-date1))\n",
    "    if(str(date2-date1) < \"24:00\"):\n",
    "        print('\\x1b[1;31m'+\"The vulnerability has been fixed immediately\"+'\\x1b[0m')\n",
    "    else:\n",
    "        for file in files: \n",
    "            log_data = repo.git.log(mostFrequent,file).splitlines()\n",
    "            commit_number = 0\n",
    "            date1 = datetime.now()\n",
    "            date2 = datetime.now()\n",
    "            for line in log_data:\n",
    "                if(line[0:8] == \"Date:   \"):\n",
    "                    commit_number=commit_number+1\n",
    "                    if(commit_number ==1):\n",
    "                        date1 = datetime.strptime(line[8:32], '%a %b %d %H:%M:%S %Y')\n",
    "                        print('\\x1b[1;31m'+\"VCC Commit Date\\Time: \"+'\\x1b[0m'+str(date1))\n",
    "                        print(fix_date)\n",
    "                        date2 = datetime.strptime(fix_date, '%a %b %d %H:%M:%S %Y')\n",
    "                        print('\\x1b[1;31m'+\"Fix Commit Date\\Time: \"+'\\x1b[0m'+str(date2))\n",
    "                        break\n",
    "        print('\\x1b[1;31m'+\"The vulnerability has not been fixed immediately\"+'\\x1b[0m')\n",
    "    break"
   ]
  }
 ],
 "metadata": {
  "kernelspec": {
   "display_name": "Python 3",
   "language": "python",
   "name": "python3"
  },
  "language_info": {
   "codemirror_mode": {
    "name": "ipython",
    "version": 3
   },
   "file_extension": ".py",
   "mimetype": "text/x-python",
   "name": "python",
   "nbconvert_exporter": "python",
   "pygments_lexer": "ipython3",
   "version": "3.7.4"
  }
 },
 "nbformat": 4,
 "nbformat_minor": 2
}
