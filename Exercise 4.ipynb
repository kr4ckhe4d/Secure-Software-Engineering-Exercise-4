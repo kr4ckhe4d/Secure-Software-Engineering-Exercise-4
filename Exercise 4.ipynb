{
 "cells": [
  {
   "cell_type": "markdown",
   "metadata": {},
   "source": [
    "# Secure Software Engineering Exercise 3"
   ]
  },
  {
   "cell_type": "markdown",
   "metadata": {},
   "source": [
    "## Name: Nipuna H Herath"
   ]
  },
  {
   "cell_type": "markdown",
   "metadata": {},
   "source": [
    "## ID: A1776057"
   ]
  },
  {
   "cell_type": "markdown",
   "metadata": {},
   "source": []
  },
  {
   "cell_type": "code",
   "execution_count": 1,
   "metadata": {},
   "outputs": [],
   "source": [
    "import numpy as np\n",
    "import pandas as pd\n",
    "import os\n",
    "\n",
    "# Specify git executable file for GitPython in Jupyter Notebook (In IDE, it can still work without this line.)\n",
    "# os.environ[\"GIT_PYTHON_GIT_EXECUTABLE\"] = \"C:\\Program Files\\Git\\cmd\\git.exe\"\n",
    "\n",
    "import git\n",
    "import re\n",
    "# from git import RemoteProgress\n",
    "\n",
    "from git import Repo\n",
    "import matplotlib.pyplot as plt\n",
    "import seaborn as sns\n",
    "%matplotlib inline"
   ]
  },
  {
   "cell_type": "markdown",
   "metadata": {},
   "source": [
    "# 1. FasterXML/jackson-databind"
   ]
  },
  {
   "cell_type": "markdown",
   "metadata": {},
   "source": [
    "### Task 3"
   ]
  },
  {
   "cell_type": "code",
   "execution_count": 2,
   "metadata": {},
   "outputs": [
    {
     "name": "stdout",
     "output_type": "stream",
     "text": [
      "\u001b[1;31mFile Name: \u001b[0mrelease-notes/VERSION\n",
      "\u001b[1;31mInsertions: \u001b[0m2\n",
      "\u001b[1;31mDeletions: \u001b[0m0\n",
      "\u001b[1;31mTotal: \u001b[0m2\n",
      "\u001b[1;31mFile Name: \u001b[0msrc/main/java/com/fasterxml/jackson/databind/deser/BeanDeserializerFactory.java\n",
      "\u001b[1;31mInsertions: \u001b[0m49\n",
      "\u001b[1;31mDeletions: \u001b[0m1\n",
      "\u001b[1;31mTotal: \u001b[0m50\n",
      "\u001b[1;31mFile Name: \u001b[0msrc/test/java/com/fasterxml/jackson/databind/interop/IllegalTypesCheckTest.java\n",
      "\u001b[1;31mInsertions: \u001b[0m40\n",
      "\u001b[1;31mDeletions: \u001b[0m0\n",
      "\u001b[1;31mTotal: \u001b[0m40\n"
     ]
    }
   ],
   "source": [
    "remote_link = \"https://github.com/FasterXML/jackson-databind\"\n",
    "local_link = \"jackson-databind\"\n",
    "\n",
    "repo = Repo(local_link)\n",
    "fixing_commit = \"60d459cedcf079c6106ae7da2ac562bc32dcabe1\"\n",
    "repo.git.checkout(fixing_commit)\n",
    "\n",
    "show_data = repo.git.show(\"--shortstat\", fixing_commit).splitlines()\n",
    "\n",
    "commit = repo.commit(fixing_commit)\n",
    "s = commit.stats\n",
    "# s.total         # full-stat-dict\n",
    "# s.files         # dict( filepath : stat-dict )\n",
    "# print(s.total) # Overall statistics\n",
    "# print(s.files) # List all the files\n",
    "\n",
    "fix_date = show_data[3][8:32]\n",
    "\n",
    "files = s.files\n",
    "directoryList = []\n",
    "fileNames = []\n",
    "for file in files.keys():\n",
    "    fileNames.append(file)\n",
    "    print('\\x1b[1;31m'+\"File Name: \"+'\\x1b[0m'+file)\n",
    "#     print(files[file]['insertions'])\n",
    "#     print(files[file]['deletions'])\n",
    "#     print(files[file]['lines'])\n",
    "    print('\\x1b[1;31m'+\"Insertions: \"+'\\x1b[0m'+str(files[file]['insertions']))\n",
    "    print('\\x1b[1;31m'+\"Deletions: \"+'\\x1b[0m'+str(files[file]['deletions']))\n",
    "    print('\\x1b[1;31m'+\"Total: \"+'\\x1b[0m'+str(files[file]['lines']))\n",
    "\n",
    "#     if directory not in directoryList:\n",
    "#         directoryList.append(directory)"
   ]
  },
  {
   "cell_type": "code",
   "execution_count": 3,
   "metadata": {},
   "outputs": [
    {
     "name": "stdout",
     "output_type": "stream",
     "text": [
      "\u001b[1;31mFile Name: \u001b[0mrelease-notes/VERSION\n",
      "\u001b[1;31mThis line does not have an enclosing scope.\u001b[0m\n",
      "\u001b[1;31mAffected Lines: \u001b[0mLine number 11 to 13\n",
      "\u001b[1;31mMost frequently identified commit : \u001b[0m6ce32ffd\n",
      "==============================================================\n",
      "\n",
      "\u001b[1;31mFile Name: \u001b[0msrc/main/java/com/fasterxml/jackson/databind/deser/BeanDeserializerFactory.java\n",
      "\u001b[1;31mEnclosing Scope: \u001b[0mpublic class BeanDeserializerFactor\n",
      "\u001b[1;31mAffected Lines: \u001b[0mLine number 41 to 71\n",
      "\u001b[1;31mMost frequently identified commit : \u001b[0m60d459ce\n",
      "==============================================================\n",
      "\n",
      "\u001b[1;31mFile Name: \u001b[0msrc/main/java/com/fasterxml/jackson/databind/deser/BeanDeserializerFactory.java\n",
      "\u001b[1;31mEnclosing Scope: \u001b[0mpublic class BeanDeserializerFactor\n",
      "\u001b[1;31mAffected Lines: \u001b[0mLine number 169 to 171\n",
      "\u001b[1;31mMost frequently identified commit : \u001b[0m6ce32ffd\n",
      "==============================================================\n",
      "\n",
      "\u001b[1;31mFile Name: \u001b[0msrc/main/java/com/fasterxml/jackson/databind/deser/BeanDeserializerFactory.java\n",
      "\u001b[1;31mEnclosing Scope: \u001b[0mbeanDesc.getBeanClass().getName(), name, ((AnnotatedParameter) m).getIndex())\n",
      "\u001b[1;31mAffected Lines: \u001b[0mLine number 889 to 906\n",
      "\u001b[1;31mMost frequently identified commit : \u001b[0m6ce32ffd\n",
      "==============================================================\n",
      "\n",
      "\u001b[1;31mFile Name: \u001b[0msrc/test/java/com/fasterxml/jackson/databind/interop/IllegalTypesCheckTest.java\n",
      "\u001b[1;31mEnclosing Scope: \u001b[0m-0,0 +1,40 @\n",
      "\u001b[1;31mAffected Lines: \u001b[0mLine number 1 to 41\n",
      "\u001b[1;31mMost frequently identified commit : \u001b[0m6ce32ffd\n",
      "==============================================================\n",
      "\n"
     ]
    }
   ],
   "source": [
    "diff_data = repo.git.diff(\"-U0\",fixing_commit + \"^\", fixing_commit).splitlines()\n",
    "# print(diff_data)\n",
    "fileName = \"\"\n",
    "for line in diff_data:\n",
    "#     print(line)\n",
    "    if(line[0:10] == 'diff --git'):\n",
    "        fileName = line[13:line.find(' b')]\n",
    "#         print(line[12:])\n",
    "    if(line[0:3] == '@@ '):\n",
    "#         print(line)\n",
    "        start = ' +'\n",
    "        parentScopeStart = ' @@ '\n",
    "        end = ' @@'\n",
    "        s = line\n",
    "        parentScope = (s[s.find(parentScopeStart)+len(parentScopeStart):])\n",
    "        affectedLines = (s[s.find(start)+len(start):s.rfind(end)]).split(',')\n",
    "#         print(affectedLines)\n",
    "#         print(parentScope)\n",
    "        print('\\x1b[1;31m'+\"File Name: \"+'\\x1b[0m'+fileName)\n",
    "        if(\"Project\" == str(parentScope[:parentScope.find(': ')])):\n",
    "            print('\\x1b[1;31m'+\"This line does not have an enclosing scope.\"+'\\x1b[0m')\n",
    "        else:\n",
    "            print('\\x1b[1;31m'+\"Enclosing Scope: \"+'\\x1b[0m'+str(parentScope[:parentScope.find(': ')]))\n",
    "        print('\\x1b[1;31m'+\"Affected Lines: \"+'\\x1b[0m'+\"Line number \" + affectedLines[0] + \" to \"+ str((int(affectedLines[0])+int(affectedLines[1]))))\n",
    "        \n",
    "        \n",
    "        lines = \"-L\"+affectedLines[0]+\",+\"+affectedLines[1]\n",
    "\n",
    "        blame_data = repo.git.blame(lines, fixing_commit, \"--\", fileName).splitlines()\n",
    "        commits = []\n",
    "        for l in blame_data:\n",
    "            commits.append(l[0:8])\n",
    "        unique, counts = np.unique(commits, return_counts=True)\n",
    "        d = dict(zip(unique, counts))\n",
    "#         print(d)\n",
    "        mostFrequent = max(d, key=d.get)\n",
    "        print('\\x1b[1;31m'+\"Most frequently identified commit : \"+'\\x1b[0m'+mostFrequent)\n",
    "        print(\"==============================================================\")\n",
    "        print()\n",
    "#         print(mostFrequent)\n",
    "\n",
    "#     print(l)\n",
    "#     print(\"==\")\n",
    "        "
   ]
  },
  {
   "cell_type": "markdown",
   "metadata": {},
   "source": [
    "### Task 5"
   ]
  },
  {
   "cell_type": "code",
   "execution_count": 4,
   "metadata": {},
   "outputs": [
    {
     "name": "stdout",
     "output_type": "stream",
     "text": [
      "\u001b[1;31mNo parameter : \u001b[0m6ce32ffd\n",
      "\u001b[1;31mWith -w : \u001b[0m6ce32ffd\n",
      "\u001b[1;31mWith -wM : \u001b[0m6ce32ffd\n",
      "\u001b[1;31mWith -wC : \u001b[0m6ce32ffd\n",
      "\u001b[1;31mWith -wCC : \u001b[0m6ce32ffd\n",
      "\u001b[1;31mWith -wCCC : \u001b[0m6ce32ffd\n"
     ]
    }
   ],
   "source": [
    "\n",
    "        lines = \"-L\"+affectedLines[0]+\",+\"+affectedLines[1]\n",
    "\n",
    "        blame_data = repo.git.blame(lines, fixing_commit, \"--\", fileName).splitlines()\n",
    "        commits = []\n",
    "        for l in blame_data:\n",
    "            commits.append(l[0:8])\n",
    "        unique, counts = np.unique(commits, return_counts=True)\n",
    "        d = dict(zip(unique, counts))\n",
    "        mostFrequent = max(d, key=d.get)\n",
    "        print('\\x1b[1;31m'+\"No parameter : \"+'\\x1b[0m'+mostFrequent)\n",
    "        ##################################\n",
    "        blame_data = repo.git.blame(lines, fixing_commit, \"-w\", \"--\", fileName).splitlines()\n",
    "        commits = []\n",
    "        for l in blame_data:\n",
    "            commits.append(l[0:8])\n",
    "        unique, counts = np.unique(commits, return_counts=True)\n",
    "        d = dict(zip(unique, counts))\n",
    "        mostFrequent = max(d, key=d.get)\n",
    "        print('\\x1b[1;31m'+\"With -w : \"+'\\x1b[0m'+mostFrequent)\n",
    "        ##################################\n",
    "        blame_data = repo.git.blame(lines, fixing_commit, \"-wM\", \"--\", fileName).splitlines()\n",
    "        commits = []\n",
    "        for l in blame_data:\n",
    "            commits.append(l[0:8])\n",
    "        unique, counts = np.unique(commits, return_counts=True)\n",
    "        d = dict(zip(unique, counts))\n",
    "        mostFrequent = max(d, key=d.get)\n",
    "        print('\\x1b[1;31m'+\"With -wM : \"+'\\x1b[0m'+mostFrequent)\n",
    "        ##################################\n",
    "        blame_data = repo.git.blame(lines, fixing_commit, \"-wC\", \"--\", fileName).splitlines()\n",
    "        commits = []\n",
    "        for l in blame_data:\n",
    "            commits.append(l[0:8])\n",
    "        unique, counts = np.unique(commits, return_counts=True)\n",
    "        d = dict(zip(unique, counts))\n",
    "        mostFrequent = max(d, key=d.get)\n",
    "        print('\\x1b[1;31m'+\"With -wC : \"+'\\x1b[0m'+mostFrequent)\n",
    "        ##################################\n",
    "        blame_data = repo.git.blame(lines, fixing_commit, \"-wCC\", \"--\", fileName).splitlines()\n",
    "        commits = []\n",
    "        for l in blame_data:\n",
    "            commits.append(l[0:8])\n",
    "        unique, counts = np.unique(commits, return_counts=True)\n",
    "        d = dict(zip(unique, counts))\n",
    "        mostFrequent = max(d, key=d.get)\n",
    "        print('\\x1b[1;31m'+\"With -wCC : \"+'\\x1b[0m'+mostFrequent)\n",
    "        ##################################\n",
    "        blame_data = repo.git.blame(lines, fixing_commit, \"-wCCC\", \"--\", fileName).splitlines()\n",
    "        commits = []\n",
    "        for l in blame_data:\n",
    "            commits.append(l[0:8])\n",
    "        unique, counts = np.unique(commits, return_counts=True)\n",
    "        d = dict(zip(unique, counts))\n",
    "        mostFrequent = max(d, key=d.get)\n",
    "        print('\\x1b[1;31m'+\"With -wCCC : \"+'\\x1b[0m'+mostFrequent)\n",
    "        "
   ]
  },
  {
   "cell_type": "markdown",
   "metadata": {},
   "source": [
    "### Task 6"
   ]
  },
  {
   "cell_type": "markdown",
   "metadata": {},
   "source": [
    "##### a) Message and title of the VCC"
   ]
  },
  {
   "cell_type": "code",
   "execution_count": 5,
   "metadata": {},
   "outputs": [
    {
     "name": "stdout",
     "output_type": "stream",
     "text": [
      "\u001b[1;31mCommit Title:\u001b[0m    Fix #1599 for 2.7(.10)\n",
      "\u001b[1;31mCommit Message:\u001b[0m 3 files changed, 65 insertions(+)\n"
     ]
    }
   ],
   "source": [
    "show_data = repo.git.show(\"--shortstat\", mostFrequent).splitlines()\n",
    "print('\\x1b[1;31m'+\"Commit Title:\"+'\\x1b[0m'+show_data[4])\n",
    "print('\\x1b[1;31m'+\"Commit Message:\"+'\\x1b[0m'+show_data[6])"
   ]
  },
  {
   "cell_type": "markdown",
   "metadata": {},
   "source": [
    "##### b) Number of affected files of the VCC"
   ]
  },
  {
   "cell_type": "code",
   "execution_count": 6,
   "metadata": {},
   "outputs": [
    {
     "name": "stdout",
     "output_type": "stream",
     "text": [
      "release-notes/VERSION\n",
      "src/main/java/com/fasterxml/jackson/databind/deser/BeanDeserializerFactory.java\n",
      "src/test/java/com/fasterxml/jackson/databind/interop/IllegalTypesCheckTest.java\n",
      "\u001b[1;31mAffected Files:\u001b[0m3\n"
     ]
    }
   ],
   "source": [
    "commit = repo.commit(mostFrequent)\n",
    "s = commit.stats\n",
    "# s.total         # full-stat-dict\n",
    "# s.files         # dict( filepath : stat-dict )\n",
    "# print(s.total) # Overall statistics\n",
    "# print(s.files) # List all the files\n",
    "for file in s.files:\n",
    "    print(file)\n",
    "print('\\x1b[1;31m'+\"Affected Files:\"+'\\x1b[0m'+ str(s.total[\"files\"]))"
   ]
  },
  {
   "cell_type": "markdown",
   "metadata": {},
   "source": [
    "##### c) Number of affected directories of the VCC\n"
   ]
  },
  {
   "cell_type": "code",
   "execution_count": 7,
   "metadata": {},
   "outputs": [
    {
     "name": "stdout",
     "output_type": "stream",
     "text": [
      "\u001b[1;31mAffected directories:\u001b[0m\n",
      "release-notes\n",
      "src/main/java/com/fasterxml/jackson/databind/deser\n",
      "src/test/java/com/fasterxml/jackson/databind/interop\n",
      "\n",
      "\u001b[1;31mTotal:\u001b[0m\n",
      "3\n"
     ]
    }
   ],
   "source": [
    "# print(s.total) # Overall statistics\n",
    "# print(s.files) # List all the files\n",
    "files = s.files\n",
    "directoryList = []\n",
    "for file in files.keys():\n",
    "    directory = file[0:file.rfind('/')]\n",
    "#     print(directory)\n",
    "    if directory not in directoryList:\n",
    "        directoryList.append(directory)\n",
    "print('\\x1b[1;31m'+\"Affected directories:\"+'\\x1b[0m')\n",
    "for directory in directoryList:\n",
    "    print(directory)\n",
    "print()\n",
    "print('\\x1b[1;31m'+\"Total:\"+'\\x1b[0m')\n",
    "print(len(directoryList))\n",
    "    "
   ]
  },
  {
   "cell_type": "markdown",
   "metadata": {},
   "source": [
    "##### d) Total lines of code (including comments and blank lines) deleted in the VCC"
   ]
  },
  {
   "cell_type": "code",
   "execution_count": 8,
   "metadata": {},
   "outputs": [
    {
     "name": "stdout",
     "output_type": "stream",
     "text": [
      "\u001b[1;31mDeletions including blank lines:\u001b[0m0\n"
     ]
    }
   ],
   "source": [
    "diff_data = repo.git.diff(mostFrequent + \"^\", mostFrequent).splitlines()\n",
    "count = 0\n",
    "for line in diff_data:\n",
    "    if(not line[0:3] == '---'):\n",
    "        if(line[0:1] == '-'):\n",
    "            count=count+1\n",
    "print('\\x1b[1;31m'+\"Deletions including blank lines:\"+'\\x1b[0m'+str(count))"
   ]
  },
  {
   "cell_type": "markdown",
   "metadata": {},
   "source": [
    "##### e) Total lines of code (including comments and blank lines) added in the VCC"
   ]
  },
  {
   "cell_type": "code",
   "execution_count": 9,
   "metadata": {},
   "outputs": [
    {
     "name": "stdout",
     "output_type": "stream",
     "text": [
      "\u001b[1;31mInsertions including blank lines:\u001b[0m65\n"
     ]
    }
   ],
   "source": [
    "diff_data = repo.git.diff(mostFrequent + \"^\", mostFrequent).splitlines()\n",
    "count = 0\n",
    "for line in diff_data:\n",
    "    if(not line[0:3] == '+++'):\n",
    "        if(line[0:1] == '+'):\n",
    "            count=count+1\n",
    "print('\\x1b[1;31m'+\"Insertions including blank lines:\"+'\\x1b[0m'+str(count))"
   ]
  },
  {
   "cell_type": "markdown",
   "metadata": {},
   "source": [
    "##### f) Total lines of code (excluding comments and blank lines) deleted in the VCC\n"
   ]
  },
  {
   "cell_type": "code",
   "execution_count": 10,
   "metadata": {},
   "outputs": [
    {
     "name": "stdout",
     "output_type": "stream",
     "text": [
      "\u001b[1;31mDeletions excluding blank lines and comments:\u001b[0m0\n"
     ]
    }
   ],
   "source": [
    "diff_data = repo.git.diff(\"-w\",mostFrequent + \"^\", mostFrequent).splitlines()\n",
    "count = 0\n",
    "comment_started = False\n",
    "for line in diff_data:\n",
    "    if(not line[0:3] == '---'):\n",
    "        if(line.find('/*') != -1):\n",
    "            comment_started = True\n",
    "            continue\n",
    "        elif(line.find('*/') != -1):\n",
    "            comment_started = False\n",
    "            continue\n",
    "#             else:\n",
    "#             print(line + str(comment_started))\n",
    "        if(comment_started==False):\n",
    "            if(line[0:1] == '-' and not re.search(r'\\s', line) is None):\n",
    "                if(line.find('//') == -1):\n",
    "#                     print(line)\n",
    "                    count=count+1\n",
    "    \n",
    "print('\\x1b[1;31m'+\"Deletions excluding blank lines and comments:\"+'\\x1b[0m'+ str(count))"
   ]
  },
  {
   "cell_type": "markdown",
   "metadata": {},
   "source": [
    "##### g) Total lines of code (excluding comments and blank lines) added in the VCC"
   ]
  },
  {
   "cell_type": "code",
   "execution_count": 11,
   "metadata": {},
   "outputs": [
    {
     "name": "stdout",
     "output_type": "stream",
     "text": [
      "\u001b[1;31mInsertions excluding blank lines and comments:\u001b[0m47\n"
     ]
    }
   ],
   "source": [
    "diff_data = repo.git.diff(\"-w\",mostFrequent + \"^\", mostFrequent).splitlines()\n",
    "count = 0\n",
    "comment_started = False\n",
    "for line in diff_data:\n",
    "    if(not line[0:3] == '+++'):\n",
    "        if(line.find('/*') != -1):\n",
    "            comment_started = True\n",
    "            continue\n",
    "        elif(line.find('*/') != -1):\n",
    "            comment_started = False\n",
    "            continue\n",
    "#             else:\n",
    "#             print(line + str(comment_started))\n",
    "        if(comment_started==False):\n",
    "            if(line[0:1] == '+' and not re.search(r'\\s', line) is None):\n",
    "                if(line.find('//') == -1):\n",
    "#                     print(line)\n",
    "                    count=count+1\n",
    "\n",
    "                \n",
    "print('\\x1b[1;31m'+\"Insertions excluding blank lines and comments:\"+'\\x1b[0m'+str(count))"
   ]
  },
  {
   "cell_type": "markdown",
   "metadata": {},
   "source": [
    "##### h) Days were between the current fixing commit and the previous commit in the VCC"
   ]
  },
  {
   "cell_type": "code",
   "execution_count": 12,
   "metadata": {},
   "outputs": [
    {
     "name": "stdout",
     "output_type": "stream",
     "text": [
      "\u001b[1;31mFile Name: \u001b[0mrelease-notes/VERSION\n",
      "\u001b[1;31mVCC Commit Date\\Time: \u001b[0m2017-04-13 15:08:10\n",
      "\u001b[1;31mFix Commit Date\\Time: \u001b[0m2017-04-13 16:03:24\n",
      "\u001b[1;31mTime Difference: \u001b[0m0:55:14\n",
      "===\n",
      "\u001b[1;31mFile Name: \u001b[0msrc/main/java/com/fasterxml/jackson/databind/deser/BeanDeserializerFactory.java\n",
      "\u001b[1;31mVCC Commit Date\\Time: \u001b[0m2017-04-13 15:08:10\n",
      "\u001b[1;31mFix Commit Date\\Time: \u001b[0m2017-04-13 16:03:24\n",
      "\u001b[1;31mTime Difference: \u001b[0m0:55:14\n",
      "===\n",
      "\u001b[1;31mFile Name: \u001b[0msrc/test/java/com/fasterxml/jackson/databind/interop/IllegalTypesCheckTest.java\n",
      "\u001b[1;31mVCC Commit Date\\Time: \u001b[0m2017-04-13 15:08:10\n",
      "\u001b[1;31mFix Commit Date\\Time: \u001b[0m2017-04-13 16:03:24\n",
      "\u001b[1;31mTime Difference: \u001b[0m0:55:14\n",
      "===\n"
     ]
    }
   ],
   "source": [
    "from datetime import datetime\n",
    "from datetime import date\n",
    "# print(\"Number of commits in between:\", len(log_data))\n",
    "i=0\n",
    "for file in files: \n",
    "    i=i+1\n",
    "    if(i==6):\n",
    "        break\n",
    "    print('\\x1b[1;31m'+\"File Name: \"+'\\x1b[0m'+file)\n",
    "    log_data = repo.git.log(mostFrequent,file).splitlines()\n",
    "    commit_number = 0\n",
    "    date1 = datetime.now()\n",
    "    date2 = datetime.now()\n",
    "    for line in log_data:\n",
    "        if(line[0:8] == \"Date:   \"):\n",
    "            commit_number=commit_number+1\n",
    "            if(commit_number ==1):\n",
    "                date1 = datetime.strptime(line[8:32], '%a %b %d %H:%M:%S %Y')\n",
    "                print('\\x1b[1;31m'+\"VCC Commit Date\\Time: \"+'\\x1b[0m'+str(date1))\n",
    "                date2 = datetime.strptime(fix_date, '%a %b %d %H:%M:%S %Y')\n",
    "                print('\\x1b[1;31m'+\"Fix Commit Date\\Time: \"+'\\x1b[0m'+str(date2))\n",
    "                break\n",
    "\n",
    "    print('\\x1b[1;31m'+\"Time Difference: \"+'\\x1b[0m'+str(date2-date1))\n",
    "    print(\"===\")\n",
    "# print(\"... and \"+str(len(files)-5) + \" more.\")\n",
    "\n"
   ]
  },
  {
   "cell_type": "markdown",
   "metadata": {},
   "source": [
    "##### i) Number of times each affected file of the current fixing commit been modified in the VCC\n"
   ]
  },
  {
   "cell_type": "code",
   "execution_count": 13,
   "metadata": {},
   "outputs": [
    {
     "name": "stdout",
     "output_type": "stream",
     "text": [
      "\u001b[1;31mFile Name: \u001b[0mrelease-notes/VERSION\n",
      "\u001b[1;31mNumber of Revisions including renaming: \u001b[0m693\n",
      "====\n",
      "\u001b[1;31mFile Name: \u001b[0msrc/main/java/com/fasterxml/jackson/databind/deser/BeanDeserializerFactory.java\n",
      "\u001b[1;31mNumber of Revisions including renaming: \u001b[0m98\n",
      "====\n",
      "\u001b[1;31mFile Name: \u001b[0msrc/test/java/com/fasterxml/jackson/databind/interop/IllegalTypesCheckTest.java\n",
      "\u001b[1;31mNumber of Revisions including renaming: \u001b[0m1\n",
      "====\n"
     ]
    }
   ],
   "source": [
    "for file in files:   \n",
    "    print('\\x1b[1;31m'+\"File Name: \"+'\\x1b[0m'+file)\n",
    "    log_data = repo.git.log(mostFrequent,\"--pretty=\\\"format:%H%M%S\\\"\", \"--\",file).splitlines()\n",
    "    print('\\x1b[1;31m'+\"Number of Revisions including renaming: \"+'\\x1b[0m'+str(len(log_data)))\n",
    "    print(\"====\")"
   ]
  },
  {
   "cell_type": "markdown",
   "metadata": {},
   "source": [
    "##### j) Developers that have modified each affected files since creation up to the VCC"
   ]
  },
  {
   "cell_type": "code",
   "execution_count": 14,
   "metadata": {},
   "outputs": [
    {
     "name": "stdout",
     "output_type": "stream",
     "text": [
      "\u001b[1;31mFile Name: \u001b[0mrelease-notes/VERSION\n",
      "\u001b[1;31mContributors of the file: \u001b[0m\n",
      "Cowtowncoder\n",
      "Tatu\n",
      "Tatu Saloranta\n",
      "jackphel\n",
      "\n",
      "\u001b[1;31mFile Name: \u001b[0msrc/main/java/com/fasterxml/jackson/databind/deser/BeanDeserializerFactory.java\n",
      "\u001b[1;31mContributors of the file: \u001b[0m\n",
      "Cowtowncoder\n",
      "Pascal Gélinas\n",
      "Tatu\n",
      "Tatu Saloranta\n",
      "\n",
      "\u001b[1;31mFile Name: \u001b[0msrc/test/java/com/fasterxml/jackson/databind/interop/IllegalTypesCheckTest.java\n",
      "\u001b[1;31mContributors of the file: \u001b[0m\n",
      "Tatu Saloranta\n",
      "\n"
     ]
    }
   ],
   "source": [
    "for file in files:   \n",
    "    print('\\x1b[1;31m'+\"File Name: \"+'\\x1b[0m'+file)\n",
    "    print('\\x1b[1;31m'+\"Contributors of the file: \"+'\\x1b[0m')\n",
    "    log_data = repo.git.log(mostFrequent,\"--pretty=format:%an\", \"--follow\", \"--\",file).splitlines()\n",
    "#     print('\\x1b[1;31m'+\"Number of Revisions including renaming: \"+'\\x1b[0m'+str(len(log_data)))\n",
    "#     print(log_data)\n",
    "    x = np.array(log_data) \n",
    "    uniqueNames = np.unique(x)\n",
    "    for name in uniqueNames:\n",
    "        print(name) \n",
    "    print()"
   ]
  },
  {
   "cell_type": "markdown",
   "metadata": {},
   "source": [
    "##### k) Observations about the developers of the VCC"
   ]
  },
  {
   "cell_type": "code",
   "execution_count": 15,
   "metadata": {},
   "outputs": [
    {
     "name": "stdout",
     "output_type": "stream",
     "text": [
      "\u001b[1;34mAuthor: \u001b[1;31m'Tatu Saloranta <tatu.saloranta@iki.fi>\n",
      "\u001b[1;34mNumber of commits: \u001b[1;31m'  3579\n",
      "\u001b[1;34mAuthor: \u001b[1;31m'Tatu Saloranta <tsaloranta@gmail.com>\n",
      "\u001b[1;34mNumber of commits: \u001b[1;31m'  1028\n",
      "\u001b[1;34mAuthor: \u001b[1;31m'Cowtowncoder <tatu.saloranta@iki.fi>\n",
      "\u001b[1;34mNumber of commits: \u001b[1;31m'   454\n",
      "\u001b[1;34mAuthor: \u001b[1;31m'Tatu <tatu@ning.com>\n",
      "\u001b[1;34mNumber of commits: \u001b[1;31m'    78\n",
      "\u001b[1;34mAuthor: \u001b[1;31m'Tatu <tsaloranta@gmail.com>\n",
      "\u001b[1;34mNumber of commits: \u001b[1;31m'    71\n",
      "\u001b[1;34mAuthor: \u001b[1;31m'cowtowncoder <tsaloranta@gmail.com>\n",
      "\u001b[1;34mNumber of commits: \u001b[1;31m'    56\n",
      "\u001b[1;34mAuthor: \u001b[1;31m'Tatu Saloranta <tsaloranta@salesforce.com>\n",
      "\u001b[1;34mNumber of commits: \u001b[1;31m'    52\n",
      "\u001b[1;34mAuthor: \u001b[1;31m'jackphel <jackphel@gmail.com>\n",
      "\u001b[1;34mNumber of commits: \u001b[1;31m'    28\n",
      "\u001b[1;34mAuthor: \u001b[1;31m'Christopher Currie <christopher@currie.com>\n",
      "\u001b[1;34mNumber of commits: \u001b[1;31m'    23\n",
      "\u001b[1;34mAuthor: \u001b[1;31m'Pascal Gélinas <pascal.gelinas@nuecho.com>\n",
      "\u001b[1;34mNumber of commits: \u001b[1;31m'    21\n",
      "\u001b[1;34mAuthor: \u001b[1;31m'Francis Galiegue <fgaliegue@gmail.com>\n",
      "\u001b[1;34mNumber of commits: \u001b[1;31m'    13\n",
      "\u001b[1;34mAuthor: \u001b[1;31m'Francis Galiegue <francis.galiegue@commerceguys.com>\n",
      "\u001b[1;34mNumber of commits: \u001b[1;31m'    11\n",
      "\u001b[1;34mAuthor: \u001b[1;31m'Bertrand Renuart <bertrand.renuart@itma.lu>\n",
      "\u001b[1;34mNumber of commits: \u001b[1;31m'    11\n",
      "\u001b[1;34mAuthor: \u001b[1;31m'Hugo Wood <hx4.5@free.fr>\n",
      "\u001b[1;34mNumber of commits: \u001b[1;31m'     8\n",
      "\u001b[1;34mAuthor: \u001b[1;31m'Benson Margulies <benson@basistech.com>\n",
      "\u001b[1;34mNumber of commits: \u001b[1;31m'     8\n",
      "\u001b[1;34mAuthor: \u001b[1;31m'Carsten Wickner <Carsten.Wickner@gmx.de>\n",
      "\u001b[1;34mNumber of commits: \u001b[1;31m'     8\n",
      "\u001b[1;34mAuthor: \u001b[1;31m'Martin Steiger <git@martin-steiger.de>\n",
      "\u001b[1;34mNumber of commits: \u001b[1;31m'     7\n",
      "\u001b[1;34mAuthor: \u001b[1;31m'Marco Catania <mcatania@hubspot.com>\n",
      "\u001b[1;34mNumber of commits: \u001b[1;31m'     5\n",
      "\u001b[1;34mAuthor: \u001b[1;31m'Michael Spiegel <spiegel@addthis.com>\n",
      "\u001b[1;34mNumber of commits: \u001b[1;31m'     5\n",
      "\u001b[1;34mAuthor: \u001b[1;31m'Pascal Gelinas <pascal.gelinas@nuecho.com>\n",
      "\u001b[1;34mNumber of commits: \u001b[1;31m'     5\n",
      "\u001b[1;34mAuthor: \u001b[1;31m'Michael Hixson <mhixson@techempower.com>\n",
      "\u001b[1;34mNumber of commits: \u001b[1;31m'     4\n",
      "\u001b[1;34mAuthor: \u001b[1;31m'Matthew Morrissette <yinzara@gmail.com>\n",
      "\u001b[1;34mNumber of commits: \u001b[1;31m'     4\n",
      "\u001b[1;34mAuthor: \u001b[1;31m'Jacek Jackowiak <jacek1986@gmail.com>\n",
      "\u001b[1;34mNumber of commits: \u001b[1;31m'     4\n",
      "\u001b[1;34mAuthor: \u001b[1;31m'Alejandro Rivera <alejandro@redmart.com>\n",
      "\u001b[1;34mNumber of commits: \u001b[1;31m'     4\n",
      "\u001b[1;34mAuthor: \u001b[1;31m'Kamil Benedykcinski <kamil.benedykcinski@allegro.pl>\n",
      "\u001b[1;34mNumber of commits: \u001b[1;31m'     4\n",
      "\u001b[1;34mAuthor: \u001b[1;31m'Ben Gertzfield <beng@fb.com>\n",
      "\u001b[1;34mNumber of commits: \u001b[1;31m'     4\n",
      "\u001b[1;34mAuthor: \u001b[1;31m'jwilson <jwilson@squareup.com>\n",
      "\u001b[1;34mNumber of commits: \u001b[1;31m'     3\n",
      "\u001b[1;34mAuthor: \u001b[1;31m'Ben Fagin <blouis@unquietcode.com>\n",
      "\u001b[1;34mNumber of commits: \u001b[1;31m'     3\n",
      "\u001b[1;34mAuthor: \u001b[1;31m'Steven Schlansker <sschlansker@opentable.com>\n",
      "\u001b[1;34mNumber of commits: \u001b[1;31m'     3\n",
      "\u001b[1;34mAuthor: \u001b[1;31m'David Haraburda <david@haraburda.com>\n",
      "\u001b[1;34mNumber of commits: \u001b[1;31m'     3\n",
      "\u001b[1;34mAuthor: \u001b[1;31m'Adam Stroud <adam.stroud@gmail.com>\n",
      "\u001b[1;34mNumber of commits: \u001b[1;31m'     3\n",
      "\u001b[1;34mAuthor: \u001b[1;31m'jdmichal <jdmichal@gmail.com>\n",
      "\u001b[1;34mNumber of commits: \u001b[1;31m'     3\n",
      "\u001b[1;34mAuthor: \u001b[1;31m'Slobodan Pejic <slobo@showbie.com>\n",
      "\u001b[1;34mNumber of commits: \u001b[1;31m'     3\n",
      "\u001b[1;34mAuthor: \u001b[1;31m'Ville Koskela <ville@koskelafamily.com>\n",
      "\u001b[1;34mNumber of commits: \u001b[1;31m'     3\n",
      "\u001b[1;34mAuthor: \u001b[1;31m'David Fleeman <david.fleeman@teradata.com>\n",
      "\u001b[1;34mNumber of commits: \u001b[1;31m'     3\n",
      "\u001b[1;34mAuthor: \u001b[1;31m'yinzara <yinzara@gmail.com>\n",
      "\u001b[1;34mNumber of commits: \u001b[1;31m'     3\n",
      "\u001b[1;34mAuthor: \u001b[1;31m'Aaron Davidson <aaron@databricks.com>\n",
      "\u001b[1;34mNumber of commits: \u001b[1;31m'     2\n",
      "\u001b[1;34mAuthor: \u001b[1;31m'Carsten Wickner <CarstenWickner@users.noreply.github.com>\n",
      "\u001b[1;34mNumber of commits: \u001b[1;31m'     2\n",
      "\u001b[1;34mAuthor: \u001b[1;31m'LokeshN <nlokesh.17@gmail.com>\n",
      "\u001b[1;34mNumber of commits: \u001b[1;31m'     2\n",
      "\u001b[1;34mAuthor: \u001b[1;31m'Daniel Norberg <daniel.norberg@gmail.com>\n",
      "\u001b[1;34mNumber of commits: \u001b[1;31m'     2\n",
      "\u001b[1;34mAuthor: \u001b[1;31m'Sean J. Barbeau <barbeau@cutr.usf.edu>\n",
      "\u001b[1;34mNumber of commits: \u001b[1;31m'     2\n",
      "\u001b[1;34mAuthor: \u001b[1;31m'Sergio-Mira <sergio.mira@swrve.com>\n",
      "\u001b[1;34mNumber of commits: \u001b[1;31m'     2\n",
      "\u001b[1;34mAuthor: \u001b[1;31m'Stephen A. Goss <stephen.goss@urbanairship.com>\n",
      "\u001b[1;34mNumber of commits: \u001b[1;31m'     2\n",
      "\u001b[1;34mAuthor: \u001b[1;31m'Steve Sanbeg <sanbeg@yahoo-inc.com>\n",
      "\u001b[1;34mNumber of commits: \u001b[1;31m'     2\n",
      "\u001b[1;34mAuthor: \u001b[1;31m'Chris Jester-Young <cky@on-site.com>\n",
      "\u001b[1;34mNumber of commits: \u001b[1;31m'     2\n",
      "\u001b[1;34mAuthor: \u001b[1;31m'Steven Schlansker <steven@likeness.com>\n",
      "\u001b[1;34mNumber of commits: \u001b[1;31m'     2\n",
      "\u001b[1;34mAuthor: \u001b[1;31m'Dmitry Katsubo <dmitry.katsubo@gmail.com>\n",
      "\u001b[1;34mNumber of commits: \u001b[1;31m'     2\n",
      "\u001b[1;34mAuthor: \u001b[1;31m'Dmitry Spikhalskiy <dmitry@spikhalskiy.com>\n",
      "\u001b[1;34mNumber of commits: \u001b[1;31m'     2\n",
      "\u001b[1;34mAuthor: \u001b[1;31m'Tillerino <tillmann.gaida@gmail.com>\n",
      "\u001b[1;34mNumber of commits: \u001b[1;31m'     2\n",
      "\u001b[1;34mAuthor: \u001b[1;31m'Jerome Guibert <jerome.guibert@fullsix.com>\n",
      "\u001b[1;34mNumber of commits: \u001b[1;31m'     2\n",
      "\u001b[1;34mAuthor: \u001b[1;31m'MaximilianTews <38205471+MaximilianTews@users.noreply.github.com>\n",
      "\u001b[1;34mNumber of commits: \u001b[1;31m'     2\n",
      "\u001b[1;34mAuthor: \u001b[1;31m'Jerry Yang <jerry.yang@walmartlabs.com>\n",
      "\u001b[1;34mNumber of commits: \u001b[1;31m'     2\n",
      "\u001b[1;34mAuthor: \u001b[1;31m'Christopher Currie <chris@fasterxml.com>\n",
      "\u001b[1;34mNumber of commits: \u001b[1;31m'     2\n",
      "\u001b[1;34mAuthor: \u001b[1;31m'Will Palmeri <wpalmeri@paypal.com>\n",
      "\u001b[1;34mNumber of commits: \u001b[1;31m'     2\n",
      "\u001b[1;34mAuthor: \u001b[1;31m'Yoann Rodière <yoann.rodiere@openwide.fr>\n",
      "\u001b[1;34mNumber of commits: \u001b[1;31m'     2\n",
      "\u001b[1;34mAuthor: \u001b[1;31m'Your Name <fotero@gmail.com>\n",
      "\u001b[1;34mNumber of commits: \u001b[1;31m'     2\n",
      "\u001b[1;34mAuthor: \u001b[1;31m'Michael Ressler <mressler@diamondkinetics.com>\n",
      "\u001b[1;34mNumber of commits: \u001b[1;31m'     2\n",
      "\u001b[1;34mAuthor: \u001b[1;31m'based2 <based2@users.noreply.github.com>\n",
      "\u001b[1;34mNumber of commits: \u001b[1;31m'     2\n",
      "\u001b[1;34mAuthor: \u001b[1;31m'ian <ian@addthis.com>\n",
      "\u001b[1;34mNumber of commits: \u001b[1;31m'     2\n",
      "\u001b[1;34mAuthor: \u001b[1;31m'Nathaniel Bauernfeind <nate.bauernfeind@gmail.com>\n",
      "\u001b[1;34mNumber of commits: \u001b[1;31m'     2\n",
      "\u001b[1;34mAuthor: \u001b[1;31m'Joshua Jones <jjones@criticalmix.com>\n",
      "\u001b[1;34mNumber of commits: \u001b[1;31m'     2\n",
      "\u001b[1;34mAuthor: \u001b[1;31m'Nick Telford <nick.telford@gmail.com>\n",
      "\u001b[1;34mNumber of commits: \u001b[1;31m'     2\n",
      "\u001b[1;34mAuthor: \u001b[1;31m'liyuj <sahala232@163.com>\n",
      "\u001b[1;34mNumber of commits: \u001b[1;31m'     2\n",
      "\u001b[1;34mAuthor: \u001b[1;31m'lpandzic <lovro.pandzic@infobip.com>\n",
      "\u001b[1;34mNumber of commits: \u001b[1;31m'     2\n",
      "\u001b[1;34mAuthor: \u001b[1;31m'lufe66 <lufe66@gmail.com>\n",
      "\u001b[1;34mNumber of commits: \u001b[1;31m'     2\n",
      "\u001b[1;34mAuthor: \u001b[1;31m'Oliver Kopp <kopp.dev@gmail.com>\n",
      "\u001b[1;34mNumber of commits: \u001b[1;31m'     2\n",
      "\u001b[1;34mAuthor: \u001b[1;31m'Patrick Huber <stackmagic@gmail.com>\n",
      "\u001b[1;34mNumber of commits: \u001b[1;31m'     2\n",
      "\u001b[1;34mAuthor: \u001b[1;31m'Erich Schubert <kno10@users.noreply.github.com>\n",
      "\u001b[1;34mNumber of commits: \u001b[1;31m'     2\n",
      "\u001b[1;34mAuthor: \u001b[1;31m'shaiyallin <shaiy@wix.com>\n",
      "\u001b[1;34mNumber of commits: \u001b[1;31m'     2\n",
      "\u001b[1;34mAuthor: \u001b[1;31m'Konstantin Labun <konstantin.labun@gmail.com>\n",
      "\u001b[1;34mNumber of commits: \u001b[1;31m'     2\n",
      "\u001b[1;34mAuthor: \u001b[1;31m'Lars Pfannenschmidt <lars@mobilecologne.de>\n",
      "\u001b[1;34mNumber of commits: \u001b[1;31m'     2\n",
      "\u001b[1;34mAuthor: \u001b[1;31m'Pier Fumagalli <pier@fumagalli.org>\n",
      "\u001b[1;34mNumber of commits: \u001b[1;31m'     2\n",
      "\u001b[1;34mAuthor: \u001b[1;31m'Max Drobotov <mdrobotov@cogniance.com>\n",
      "\u001b[1;34mNumber of commits: \u001b[1;31m'     1\n",
      "\u001b[1;34mAuthor: \u001b[1;31m'MeyerNils <39691385+MeyerNils@users.noreply.github.com>\n",
      "\u001b[1;34mNumber of commits: \u001b[1;31m'     1\n",
      "\u001b[1;34mAuthor: \u001b[1;31m'Mgamerz <Mgamerz@users.noreply.github.com>\n",
      "\u001b[1;34mNumber of commits: \u001b[1;31m'     1\n",
      "\u001b[1;34mAuthor: \u001b[1;31m'Michael Sims <msims@mercuryintermedia.com>\n",
      "\u001b[1;34mNumber of commits: \u001b[1;31m'     1\n",
      "\u001b[1;34mAuthor: \u001b[1;31m'Mikhail Kokho <mikhail@movio.co>\n",
      "\u001b[1;34mNumber of commits: \u001b[1;31m'     1\n",
      "\u001b[1;34mAuthor: \u001b[1;31m'Misha <mikeldpl@gmail.com>\n",
      "\u001b[1;34mNumber of commits: \u001b[1;31m'     1\n",
      "\u001b[1;34mAuthor: \u001b[1;31m'Mohit Chugh <mohitchugh@yahoo.com>\n",
      "\u001b[1;34mNumber of commits: \u001b[1;31m'     1\n",
      "\u001b[1;34mAuthor: \u001b[1;31m'Neuman Vong <neuman.vong@gmail.com>\n",
      "\u001b[1;34mNumber of commits: \u001b[1;31m'     1\n",
      "\u001b[1;34mAuthor: \u001b[1;31m'Paul Brown <prb@mult.ifario.us>\n",
      "\u001b[1;34mNumber of commits: \u001b[1;31m'     1\n",
      "\u001b[1;34mAuthor: \u001b[1;31m'Peter Jurkovic <petojurkovic@gmail.com>\n",
      "\u001b[1;34mNumber of commits: \u001b[1;31m'     1\n",
      "\u001b[1;34mAuthor: \u001b[1;31m'Petr Kokorev <petr_kokorev@pisem.net>\n",
      "\u001b[1;34mNumber of commits: \u001b[1;31m'     1\n",
      "\u001b[1;34mAuthor: \u001b[1;31m'Phil Leonard <phillyleonard@gmail.com>\n",
      "\u001b[1;34mNumber of commits: \u001b[1;31m'     1\n",
      "\u001b[1;34mAuthor: \u001b[1;31m'Philip Aston <philipa@mail.com>\n",
      "\u001b[1;34mNumber of commits: \u001b[1;31m'     1\n",
      "\u001b[1;34mAuthor: \u001b[1;31m'Philipp Scheit <p.scheit@ps-webforge.com>\n",
      "\u001b[1;34mNumber of commits: \u001b[1;31m'     1\n",
      "\u001b[1;34mAuthor: \u001b[1;31m'Polina <polinarodimova@gmail.com>\n",
      "\u001b[1;34mNumber of commits: \u001b[1;31m'     1\n",
      "\u001b[1;34mAuthor: \u001b[1;31m'Robin Kanters <robinkanters@users.noreply.github.com>\n",
      "\u001b[1;34mNumber of commits: \u001b[1;31m'     1\n",
      "\u001b[1;34mAuthor: \u001b[1;31m'Roman Leventov <leventov.ru@gmail.com>\n",
      "\u001b[1;34mNumber of commits: \u001b[1;31m'     1\n",
      "\u001b[1;34mAuthor: \u001b[1;31m'Ryan Gardner <ryan.gardner@dealer.com>\n",
      "\u001b[1;34mNumber of commits: \u001b[1;31m'     1\n",
      "\u001b[1;34mAuthor: \u001b[1;31m'Réda Housni Alaoui <reda-alaoui@users.noreply.github.com>\n",
      "\u001b[1;34mNumber of commits: \u001b[1;31m'     1\n",
      "\u001b[1;34mAuthor: \u001b[1;31m'Sebastian Schuberth <sschuberth@gmail.com>\n",
      "\u001b[1;34mNumber of commits: \u001b[1;31m'     1\n",
      "\u001b[1;34mAuthor: \u001b[1;31m'Semyon Levin <levin.semen@gmail.com>\n",
      "\u001b[1;34mNumber of commits: \u001b[1;31m'     1\n",
      "\u001b[1;34mAuthor: \u001b[1;31m'Seth Pellegrino <seth.pellegrino@jivesoftware.com>\n",
      "\u001b[1;34mNumber of commits: \u001b[1;31m'     1\n",
      "\u001b[1;34mAuthor: \u001b[1;31m'Sola <dev@sola.love>\n",
      "\u001b[1;34mNumber of commits: \u001b[1;31m'     1\n",
      "\u001b[1;34mAuthor: \u001b[1;31m'Stephan L <stefanl2@yahoo.fr>\n",
      "\u001b[1;34mNumber of commits: \u001b[1;31m'     1\n",
      "\u001b[1;34mAuthor: \u001b[1;31m'Stephan Schroevers <sschroevers@sdl.com>\n",
      "\u001b[1;34mNumber of commits: \u001b[1;31m'     1\n",
      "\u001b[1;34mAuthor: \u001b[1;31m'Steven Benitez <steven.benitez@gmail.com>\n",
      "\u001b[1;34mNumber of commits: \u001b[1;31m'     1\n",
      "\u001b[1;34mAuthor: \u001b[1;31m'Steven Parkes <sparkes@twitter.com>\n",
      "\u001b[1;34mNumber of commits: \u001b[1;31m'     1\n",
      "\u001b[1;34mAuthor: \u001b[1;31m'Stuart Douglas <stuart.w.douglas@gmail.com>\n",
      "\u001b[1;34mNumber of commits: \u001b[1;31m'     1\n",
      "\u001b[1;34mAuthor: \u001b[1;31m'TRINETX\\christopher.ogrady <christopher.ogrady@trinetx.com>\n",
      "\u001b[1;34mNumber of commits: \u001b[1;31m'     1\n",
      "\u001b[1;34mAuthor: \u001b[1;31m'Takanori Hayashi <flowlight0@gmail.com>\n",
      "\u001b[1;34mNumber of commits: \u001b[1;31m'     1\n",
      "\u001b[1;34mAuthor: \u001b[1;31m'Tatu Saloranta <tatu@Tatus-Mac-mini.local>\n",
      "\u001b[1;34mNumber of commits: \u001b[1;31m'     1\n",
      "\u001b[1;34mAuthor: \u001b[1;31m'Tim Bartley <tbartley@anonyome.com>\n",
      "\u001b[1;34mNumber of commits: \u001b[1;31m'     1\n",
      "\u001b[1;34mAuthor: \u001b[1;31m'Tito Cheriachan <mail@titocheriachan.com>\n",
      "\u001b[1;34mNumber of commits: \u001b[1;31m'     1\n",
      "\u001b[1;34mAuthor: \u001b[1;31m'Tobias Preuss <tobias.preuss@googlemail.com>\n",
      "\u001b[1;34mNumber of commits: \u001b[1;31m'     1\n",
      "\u001b[1;34mAuthor: \u001b[1;31m'Valeriy.Vyrva <valery1707@gmail.com>\n",
      "\u001b[1;34mNumber of commits: \u001b[1;31m'     1\n",
      "\u001b[1;34mAuthor: \u001b[1;31m'Vikash Tiwari <tiwari.vikash@gmail.com>\n",
      "\u001b[1;34mNumber of commits: \u001b[1;31m'     1\n",
      "\u001b[1;34mAuthor: \u001b[1;31m'Wouter Gerarts <WouterG@users.noreply.github.com>\n",
      "\u001b[1;34mNumber of commits: \u001b[1;31m'     1\n",
      "\u001b[1;34mAuthor: \u001b[1;31m'ajostergaard <aj@cubbyhole.net>\n",
      "\u001b[1;34mNumber of commits: \u001b[1;31m'     1\n",
      "\u001b[1;34mAuthor: \u001b[1;31m'c0nscience <ber.bherzig@gmail.com>\n",
      "\u001b[1;34mNumber of commits: \u001b[1;31m'     1\n",
      "\u001b[1;34mAuthor: \u001b[1;31m'cheddar <cheddar@metamarkets.com>\n",
      "\u001b[1;34mNumber of commits: \u001b[1;31m'     1\n",
      "\u001b[1;34mAuthor: \u001b[1;31m'cpilsworth <cpilsworth@gmail.com>\n",
      "\u001b[1;34mNumber of commits: \u001b[1;31m'     1\n",
      "\u001b[1;34mAuthor: \u001b[1;31m'dukeyin <dukeyin@outlook.com>\n",
      "\u001b[1;34mNumber of commits: \u001b[1;31m'     1\n",
      "\u001b[1;34mAuthor: \u001b[1;31m'herau <leboulanger.aurelien@gmail.com>\n",
      "\u001b[1;34mNumber of commits: \u001b[1;31m'     1\n",
      "\u001b[1;34mAuthor: \u001b[1;31m'jonathan.whitall <fiddlerpianist@gmail.com>\n",
      "\u001b[1;34mNumber of commits: \u001b[1;31m'     1\n",
      "\u001b[1;34mAuthor: \u001b[1;31m'jphelan <jphelan@192.168.1.141>\n",
      "\u001b[1;34mNumber of commits: \u001b[1;31m'     1\n",
      "\u001b[1;34mAuthor: \u001b[1;31m'libetl <libe4@free.fr>\n",
      "\u001b[1;34mNumber of commits: \u001b[1;31m'     1\n",
      "\u001b[1;34mAuthor: \u001b[1;31m'lunaticare <lunaticare@users.noreply.github.com>\n",
      "\u001b[1;34mNumber of commits: \u001b[1;31m'     1\n",
      "\u001b[1;34mAuthor: \u001b[1;31m'marc-christian-schulze <marc.christian.schulze@gmail.com>\n",
      "\u001b[1;34mNumber of commits: \u001b[1;31m'     1\n",
      "\u001b[1;34mAuthor: \u001b[1;31m'mgolovatiy-atconsulting-ru <45001746+mgolovatiy-atconsulting-ru@users.noreply.github.com>\n",
      "\u001b[1;34mNumber of commits: \u001b[1;31m'     1\n",
      "\u001b[1;34mAuthor: \u001b[1;31m'pigelvy <pigelvy@users.noreply.github.com>\n",
      "\u001b[1;34mNumber of commits: \u001b[1;31m'     1\n",
      "\u001b[1;34mAuthor: \u001b[1;31m'rgoldberg <ross.goldberg@gmail.com>\n",
      "\u001b[1;34mNumber of commits: \u001b[1;31m'     1\n",
      "\u001b[1;34mAuthor: \u001b[1;31m'sergeymetallic <sergeymetallic@gmail.com>\n",
      "\u001b[1;34mNumber of commits: \u001b[1;31m'     1\n",
      "\u001b[1;34mAuthor: \u001b[1;31m'simonetripodi <simone.tripodi@gmail.com>\n",
      "\u001b[1;34mNumber of commits: \u001b[1;31m'     1\n",
      "\u001b[1;34mAuthor: \u001b[1;31m'twoi <eugen@tworks.co.jp>\n",
      "\u001b[1;34mNumber of commits: \u001b[1;31m'     1\n",
      "\u001b[1;34mAuthor: \u001b[1;31m'valery1707 <valery1707@gmail.com>\n",
      "\u001b[1;34mNumber of commits: \u001b[1;31m'     1\n",
      "\u001b[1;34mAuthor: \u001b[1;31m'zenglian <leon.zeng@qq.com>\n",
      "\u001b[1;34mNumber of commits: \u001b[1;31m'     1\n",
      "\u001b[1;34mAuthor: \u001b[1;31m'zoliszel <zoltan.szel@mahifx.com>\n",
      "\u001b[1;34mNumber of commits: \u001b[1;31m'     1\n",
      "\u001b[1;34mAuthor: \u001b[1;31m'Alain Gilbert <alain.gilbert@ticketmaster.com>\n",
      "\u001b[1;34mNumber of commits: \u001b[1;31m'     1\n",
      "\u001b[1;34mAuthor: \u001b[1;31m'Alain Lehmann <alain.lehmann@gmail.com>\n",
      "\u001b[1;34mNumber of commits: \u001b[1;31m'     1\n",
      "\u001b[1;34mAuthor: \u001b[1;31m'Alanscut <wp_scut@163.com>\n",
      "\u001b[1;34mNumber of commits: \u001b[1;31m'     1\n",
      "\u001b[1;34mAuthor: \u001b[1;31m'Aleksandar Seovic <aleks@seovic.com>\n",
      "\u001b[1;34mNumber of commits: \u001b[1;31m'     1\n",
      "\u001b[1;34mAuthor: \u001b[1;31m'Alexandre Campelo <aleqi200@gmail.com>\n",
      "\u001b[1;34mNumber of commits: \u001b[1;31m'     1\n",
      "\u001b[1;34mAuthor: \u001b[1;31m'Alexey Gavrilov <agavrilov@telenordigital.com>\n",
      "\u001b[1;34mNumber of commits: \u001b[1;31m'     1\n",
      "\u001b[1;34mAuthor: \u001b[1;31m'AnaEliza <eng.ana.eliza@gmail.com>\n",
      "\u001b[1;34mNumber of commits: \u001b[1;31m'     1\n",
      "\u001b[1;34mAuthor: \u001b[1;31m'Andrew Brampton <brampton@gmail.com>\n",
      "\u001b[1;34mNumber of commits: \u001b[1;31m'     1\n",
      "\u001b[1;34mAuthor: \u001b[1;31m'Andrew Goodale <agoodale@wingspan.com>\n",
      "\u001b[1;34mNumber of commits: \u001b[1;31m'     1\n",
      "\u001b[1;34mAuthor: \u001b[1;31m'Andrew Tolbert <andrew.tolbert@datastax.com>\n",
      "\u001b[1;34mNumber of commits: \u001b[1;31m'     1\n",
      "\u001b[1;34mAuthor: \u001b[1;31m'Andy Clayton <ajclayton@spscommerce.com>\n",
      "\u001b[1;34mNumber of commits: \u001b[1;31m'     1\n",
      "\u001b[1;34mAuthor: \u001b[1;31m'Anton Panferov <smaant@gmail.com>\n",
      "\u001b[1;34mNumber of commits: \u001b[1;31m'     1\n",
      "\u001b[1;34mAuthor: \u001b[1;31m'Ari Fogel <ari@fogelti.me>\n",
      "\u001b[1;34mNumber of commits: \u001b[1;31m'     1\n",
      "\u001b[1;34mAuthor: \u001b[1;31m'Artem Prigoda <arteamon@gmail.com>\n",
      "\u001b[1;34mNumber of commits: \u001b[1;31m'     1\n",
      "\u001b[1;34mAuthor: \u001b[1;31m'Artur Dryomov <artur.dryomov@gmail.com>\n",
      "\u001b[1;34mNumber of commits: \u001b[1;31m'     1\n",
      "\u001b[1;34mAuthor: \u001b[1;31m'BELUGABEHR <BELUGABEHR@users.noreply.github.com>\n",
      "\u001b[1;34mNumber of commits: \u001b[1;31m'     1\n",
      "\u001b[1;34mAuthor: \u001b[1;31m'Bertrand Renuart <brenuart@users.noreply.github.com>\n",
      "\u001b[1;34mNumber of commits: \u001b[1;31m'     1\n",
      "\u001b[1;34mAuthor: \u001b[1;31m'BokoEnos <koen.bos@gmail.com>\n",
      "\u001b[1;34mNumber of commits: \u001b[1;31m'     1\n",
      "\u001b[1;34mAuthor: \u001b[1;31m'Casasola Marcos <mcasasola@gmail.com>\n",
      "\u001b[1;34mNumber of commits: \u001b[1;31m'     1\n",
      "\u001b[1;34mAuthor: \u001b[1;31m'Chad Selph <chad.selph@gmail.com>\n",
      "\u001b[1;34mNumber of commits: \u001b[1;31m'     1\n",
      "\u001b[1;34mAuthor: \u001b[1;31m'ChangYong <lcy9002@naver.com>\n",
      "\u001b[1;34mNumber of commits: \u001b[1;31m'     1\n",
      "\u001b[1;34mAuthor: \u001b[1;31m'Charles Allen <charles@allen-net.com>\n",
      "\u001b[1;34mNumber of commits: \u001b[1;31m'     1\n",
      "\u001b[1;34mAuthor: \u001b[1;31m'Christopher Currie <ccurrie@impresys.com>\n",
      "\u001b[1;34mNumber of commits: \u001b[1;31m'     1\n",
      "\u001b[1;34mAuthor: \u001b[1;31m'Christopher Currie <codemonkey@usermind.com>\n",
      "\u001b[1;34mNumber of commits: \u001b[1;31m'     1\n",
      "\u001b[1;34mAuthor: \u001b[1;31m'Connor Kuhn <connor.kuhn@kuhnclan.com>\n",
      "\u001b[1;34mNumber of commits: \u001b[1;31m'     1\n",
      "\u001b[1;34mAuthor: \u001b[1;31m'Dan Walker <dwalker@palantir.com>\n",
      "\u001b[1;34mNumber of commits: \u001b[1;31m'     1\n",
      "\u001b[1;34mAuthor: \u001b[1;31m'David Landis <dlandis@gmail.com>\n",
      "\u001b[1;34mNumber of commits: \u001b[1;31m'     1\n",
      "\u001b[1;34mAuthor: \u001b[1;31m'Deblock Thomas <deblock.thomas.62@gmail.com>\n",
      "\u001b[1;34mNumber of commits: \u001b[1;31m'     1\n",
      "\u001b[1;34mAuthor: \u001b[1;31m'Denis <szczukocki.denis@gmail.com>\n",
      "\u001b[1;34mNumber of commits: \u001b[1;31m'     1\n",
      "\u001b[1;34mAuthor: \u001b[1;31m'Dennis Kieselhorst <mail@dekies.de>\n",
      "\u001b[1;34mNumber of commits: \u001b[1;31m'     1\n",
      "\u001b[1;34mAuthor: \u001b[1;31m'Derek Straka <derek@asterius.io>\n",
      "\u001b[1;34mNumber of commits: \u001b[1;31m'     1\n",
      "\u001b[1;34mAuthor: \u001b[1;31m'Drew Stephens <drew@dinomite.net>\n",
      "\u001b[1;34mNumber of commits: \u001b[1;31m'     1\n",
      "\u001b[1;34mAuthor: \u001b[1;31m'ESolberg <esolberg@homeaway.com>\n",
      "\u001b[1;34mNumber of commits: \u001b[1;31m'     1\n",
      "\u001b[1;34mAuthor: \u001b[1;31m'Edgar Asatryan <17509127+nstdio@users.noreply.github.com>\n",
      "\u001b[1;34mNumber of commits: \u001b[1;31m'     1\n",
      "\u001b[1;34mAuthor: \u001b[1;31m'Eduard Kalinicenko <eduardische@gmail.com>\n",
      "\u001b[1;34mNumber of commits: \u001b[1;31m'     1\n",
      "\u001b[1;34mAuthor: \u001b[1;31m'Emiliano Clariá <emiliano.claria@gmail.com>\n",
      "\u001b[1;34mNumber of commits: \u001b[1;31m'     1\n",
      "\u001b[1;34mAuthor: \u001b[1;31m'Eric Tschetter <cheddar@metamarketsgroup.com>\n",
      "\u001b[1;34mNumber of commits: \u001b[1;31m'     1\n",
      "\u001b[1;34mAuthor: \u001b[1;31m'Francisco A. Lozano <flozano@gmail.com>\n",
      "\u001b[1;34mNumber of commits: \u001b[1;31m'     1\n",
      "\u001b[1;34mAuthor: \u001b[1;31m'Greg Turnquist <gturnquist@pivotal.io>\n",
      "\u001b[1;34mNumber of commits: \u001b[1;31m'     1\n",
      "\u001b[1;34mAuthor: \u001b[1;31m'Guillaume Rebesche <38915436+ls-guillaume-rebesche@users.noreply.github.com>\n",
      "\u001b[1;34mNumber of commits: \u001b[1;31m'     1\n",
      "\u001b[1;34mAuthor: \u001b[1;31m'Hesham Massoud <heshamhamdymassoud@gmail.com>\n",
      "\u001b[1;34mNumber of commits: \u001b[1;31m'     1\n",
      "\u001b[1;34mAuthor: \u001b[1;31m'Ismail <ismail-s@users.noreply.github.com>\n",
      "\u001b[1;34mNumber of commits: \u001b[1;31m'     1\n",
      "\u001b[1;34mAuthor: \u001b[1;31m'Ivo Studensky <istudens@redhat.com>\n",
      "\u001b[1;34mNumber of commits: \u001b[1;31m'     1\n",
      "\u001b[1;34mAuthor: \u001b[1;31m'Jakub Skierbiszewski <jskierbi@gmail.com>\n",
      "\u001b[1;34mNumber of commits: \u001b[1;31m'     1\n",
      "\u001b[1;34mAuthor: \u001b[1;31m'James Rawlings <james.rawlings@monitisegroup.com>\n",
      "\u001b[1;34mNumber of commits: \u001b[1;31m'     1\n",
      "\u001b[1;34mAuthor: \u001b[1;31m'James Roper <jroper@vz.net>\n",
      "\u001b[1;34mNumber of commits: \u001b[1;31m'     1\n",
      "\u001b[1;34mAuthor: \u001b[1;31m'Jan Lolling <jan.lolling@gmail.com>\n",
      "\u001b[1;34mNumber of commits: \u001b[1;31m'     1\n",
      "\u001b[1;34mAuthor: \u001b[1;31m'Jeff Schnitzer <jeff@infohazard.org>\n",
      "\u001b[1;34mNumber of commits: \u001b[1;31m'     1\n",
      "\u001b[1;34mAuthor: \u001b[1;31m'JeffQuandt <quandt.jeff@gmail.com>\n",
      "\u001b[1;34mNumber of commits: \u001b[1;31m'     1\n",
      "\u001b[1;34mAuthor: \u001b[1;31m'Joe Barnett <jbarnett@tribedynamics.com>\n",
      "\u001b[1;34mNumber of commits: \u001b[1;31m'     1\n",
      "\u001b[1;34mAuthor: \u001b[1;31m'Joe Littlejohn <joelittlejohn@gmail.com>\n",
      "\u001b[1;34mNumber of commits: \u001b[1;31m'     1\n",
      "\u001b[1;34mAuthor: \u001b[1;31m'Joe Schafer <joe.schafer@delta46.us>\n",
      "\u001b[1;34mNumber of commits: \u001b[1;31m'     1\n",
      "\u001b[1;34mAuthor: \u001b[1;31m'John Gardiner Myers <jgmyers@proofpoint.com>\n",
      "\u001b[1;34mNumber of commits: \u001b[1;31m'     1\n",
      "\u001b[1;34mAuthor: \u001b[1;31m'John Meyer <john.meyer@govivoom.com>\n",
      "\u001b[1;34mNumber of commits: \u001b[1;31m'     1\n",
      "\u001b[1;34mAuthor: \u001b[1;31m'Karl Moore <kmoore@barracuda.com>\n",
      "\u001b[1;34mNumber of commits: \u001b[1;31m'     1\n",
      "\u001b[1;34mAuthor: \u001b[1;31m'Kirill Vlasov <kirill.vlasov@devfactory.com>\n",
      "\u001b[1;34mNumber of commits: \u001b[1;31m'     1\n",
      "\u001b[1;34mAuthor: \u001b[1;31m'Leo Gertsenshteyn <leoger@gmail.com>\n",
      "\u001b[1;34mNumber of commits: \u001b[1;31m'     1\n",
      "\u001b[1;34mAuthor: \u001b[1;31m'LokeshN <ln@vmware.com>\n",
      "\u001b[1;34mNumber of commits: \u001b[1;31m'     1\n",
      "\u001b[1;34mAuthor: \u001b[1;31m'Luciano Balmaceda <balmacedaluciano@gmail.com>\n",
      "\u001b[1;34mNumber of commits: \u001b[1;31m'     1\n",
      "\u001b[1;34mAuthor: \u001b[1;31m'Lukasz Dywicki <luke@code-house.org>\n",
      "\u001b[1;34mNumber of commits: \u001b[1;31m'     1\n",
      "\u001b[1;34mAuthor: \u001b[1;31m'MagikSquirrel <MagikSquirrel@users.noreply.github.com>\n",
      "\u001b[1;34mNumber of commits: \u001b[1;31m'     1\n",
      "\u001b[1;34mAuthor: \u001b[1;31m'Marcel Overdijk <marcel.overdijk@qnh.nl>\n",
      "\u001b[1;34mNumber of commits: \u001b[1;31m'     1\n",
      "\u001b[1;34mAuthor: \u001b[1;31m'Marcel Overdijk <marcel@overdijk.me>\n",
      "\u001b[1;34mNumber of commits: \u001b[1;31m'     1\n",
      "\u001b[1;34mAuthor: \u001b[1;31m'Marcos Passos <marcospassos@users.noreply.github.com>\n",
      "\u001b[1;34mNumber of commits: \u001b[1;31m'     1\n",
      "\u001b[1;34mAuthor: \u001b[1;31m'Marcus <mgb.klimstra@gmail.com>\n",
      "\u001b[1;34mNumber of commits: \u001b[1;31m'     1\n",
      "\u001b[1;34mAuthor: \u001b[1;31m'Mark Woon <markwoon@gmail.com>\n",
      "\u001b[1;34mNumber of commits: \u001b[1;31m'     1\n",
      "\u001b[1;34mAuthor: \u001b[1;31m'Mark van Cuijk <github@mark.van-cuijk.nl>\n",
      "\u001b[1;34mNumber of commits: \u001b[1;31m'     1\n",
      "\u001b[1;34mAuthor: \u001b[1;31m'Martin Sivak <msivak@redhat.com>\n",
      "\u001b[1;34mNumber of commits: \u001b[1;31m'     1\n",
      "\u001b[1;34mAuthor: \u001b[1;31m'Matt Veitas <mveitas@hubspot.com>\n",
      "\u001b[1;34mNumber of commits: \u001b[1;31m'     1\n",
      "\u001b[1;34mAuthor: \u001b[1;31m'Matthew Dean <deanmatthew16@gmail.com>\n",
      "\u001b[1;34mNumber of commits: \u001b[1;31m'     1\n",
      "\u001b[1;34mAuthor: \u001b[1;31m'Matthias Cullmann <matthias.cullmann@gmail.com>\n",
      "\u001b[1;34mNumber of commits: \u001b[1;31m'     1\n",
      "\u001b[1;34mAccording to the number of commits of the developers, we can see the majority of the developers are new.\u001b[0m\n",
      "\u001b[1;34mThe number of developers with at least 450 commits is 3.\u001b[0m\n",
      "\u001b[1;34mThe number of developers with less than 450 commits is 197.\u001b[0m\n"
     ]
    }
   ],
   "source": [
    "commit_authors = repo.git.shortlog(\"-sne\", \"--all\").splitlines()\n",
    "\n",
    "author_commits = []\n",
    "\n",
    "for commit_author in commit_authors:\n",
    "    commit, author = commit_author.split(\"\\t\")\n",
    "    author_commits.append([int(commit), author])\n",
    "    print('\\x1b[1;34m'+\"Author: \\x1b[1;31m'\"+author)\n",
    "    print('\\x1b[1;34m'+\"Number of commits: \\x1b[1;31m'\"+commit)\n",
    "\n",
    "devs_above_450 = 0\n",
    "devs_below_450 = 0\n",
    "for item in author_commits:\n",
    "    if(item[0]>=450):\n",
    "        devs_above_450 = devs_above_450+1\n",
    "    else:\n",
    "        devs_below_450 = devs_below_450+1\n",
    "exp_level=\"new\"\n",
    "if(devs_above_450>devs_below_450):\n",
    "    exp_level = \"experienced\"\n",
    "    \n",
    "print('\\x1b[1;34m'+\"According to the number of commits of the developers, we can see the majority of the developers are \"+exp_level+\".\"+'\\x1b[0m')\n",
    "print('\\x1b[1;34m'+\"The number of developers with at least 450 commits is \"+str(devs_above_450)+\".\"+'\\x1b[0m')\n",
    "print('\\x1b[1;34m'+\"The number of developers with less than 450 commits is \"+str(devs_below_450)+\".\"+'\\x1b[0m')\n",
    "\n"
   ]
  },
  {
   "cell_type": "markdown",
   "metadata": {},
   "source": [
    "# 2. Apache/Xerces2-j\n"
   ]
  },
  {
   "cell_type": "markdown",
   "metadata": {},
   "source": [
    "### Task 3"
   ]
  },
  {
   "cell_type": "code",
   "execution_count": 16,
   "metadata": {},
   "outputs": [
    {
     "name": "stdout",
     "output_type": "stream",
     "text": [
      "\u001b[1;31mFile Name: \u001b[0msrc/org/apache/xerces/impl/XMLScanner.java\n",
      "\u001b[1;31mInsertions: \u001b[0m8\n",
      "\u001b[1;31mDeletions: \u001b[0m0\n",
      "\u001b[1;31mTotal: \u001b[0m8\n"
     ]
    }
   ],
   "source": [
    "remote_link = \"https://github.com/apache/xerces2-j\"\n",
    "local_link = \"xerces2-j\"\n",
    "\n",
    "repo = Repo(local_link)\n",
    "fixing_commit = \"0bdf77af1d4fd26ec2e630fb6d12e2dfa77bc12b\"\n",
    "repo.git.checkout(fixing_commit)\n",
    "show_data = repo.git.show(\"--shortstat\", fixing_commit).splitlines()\n",
    "\n",
    "commit = repo.commit(fixing_commit)\n",
    "s = commit.stats\n",
    "# s.total         # full-stat-dict\n",
    "# s.files         # dict( filepath : stat-dict )\n",
    "# print(s.total) # Overall statistics\n",
    "# print(s.files) # List all the files\n",
    "fix_date = show_data[2][8:32]\n",
    "\n",
    "files = s.files\n",
    "directoryList = []\n",
    "fileNames = []\n",
    "for file in files.keys():\n",
    "    fileNames.append(file)\n",
    "    print('\\x1b[1;31m'+\"File Name: \"+'\\x1b[0m'+file)\n",
    "#     print(files[file]['insertions'])\n",
    "#     print(files[file]['deletions'])\n",
    "#     print(files[file]['lines'])\n",
    "    print('\\x1b[1;31m'+\"Insertions: \"+'\\x1b[0m'+str(files[file]['insertions']))\n",
    "    print('\\x1b[1;31m'+\"Deletions: \"+'\\x1b[0m'+str(files[file]['deletions']))\n",
    "    print('\\x1b[1;31m'+\"Total: \"+'\\x1b[0m'+str(files[file]['lines']))\n",
    "\n",
    "#     if directory not in directoryList:\n",
    "#         directoryList.append(directory)"
   ]
  },
  {
   "cell_type": "code",
   "execution_count": 17,
   "metadata": {},
   "outputs": [
    {
     "name": "stdout",
     "output_type": "stream",
     "text": [
      "\u001b[1;31mFile Name: \u001b[0msrc/org/apache/xerces/impl/XMLScanner.java\n",
      "\u001b[1;31mEnclosing Scope: \u001b[0mpublic abstract class XMLScanner\n",
      "\u001b[1;31mAffected Lines: \u001b[0mLine number 1029 to 1037\n",
      "\u001b[1;31mMost frequently identified commit : \u001b[0m0bdf77af\n",
      "\n"
     ]
    }
   ],
   "source": [
    "diff_data = repo.git.diff(\"-U0\",fixing_commit + \"^\", fixing_commit).splitlines()\n",
    "# print(diff_data)\n",
    "fileName = \"\"\n",
    "for line in diff_data:\n",
    "#     print(line)\n",
    "    if(line[0:10] == 'diff --git'):\n",
    "        fileName = line[13:line.find(' b')]\n",
    "#         print(line[12:])\n",
    "    if(line[0:3] == '@@ '):\n",
    "#         print(line)\n",
    "        start = ' +'\n",
    "        parentScopeStart = ' @@ '\n",
    "        end = ' @@'\n",
    "        s = line\n",
    "        parentScope = (s[s.find(parentScopeStart)+len(parentScopeStart):])\n",
    "        affectedLines = (s[s.find(start)+len(start):s.rfind(end)]).split(',')\n",
    "#         print(affectedLines)\n",
    "#         print(parentScope)\n",
    "        print('\\x1b[1;31m'+\"File Name: \"+'\\x1b[0m'+fileName)\n",
    "        if(\"Project\" == str(parentScope[:parentScope.find(': ')])):\n",
    "            print('\\x1b[1;31m'+\"This line does not have an enclosing scope.\"+'\\x1b[0m')\n",
    "        else:\n",
    "            print('\\x1b[1;31m'+\"Enclosing Scope: \"+'\\x1b[0m'+str(parentScope))\n",
    "        print('\\x1b[1;31m'+\"Affected Lines: \"+'\\x1b[0m'+\"Line number \" + affectedLines[0] + \" to \"+ str((int(affectedLines[0])+int(affectedLines[1]))))\n",
    "        \n",
    "        \n",
    "        lines = \"-L\"+affectedLines[0]+\",+\"+affectedLines[1]\n",
    "\n",
    "        blame_data = repo.git.blame(lines, fixing_commit, \"--\", fileName).splitlines()\n",
    "        commits = []\n",
    "        for l in blame_data:\n",
    "#             print(l)\n",
    "            commits.append(l[0:8])\n",
    "        unique, counts = np.unique(commits, return_counts=True)\n",
    "        d = dict(zip(unique, counts))\n",
    "        mostFrequent = max(d, key=d.get)\n",
    "        print('\\x1b[1;31m'+\"Most frequently identified commit : \"+'\\x1b[0m'+mostFrequent)\n",
    "        print()\n",
    "#         print(mostFrequent)\n",
    "\n",
    "#     print(l)\n",
    "#     print(\"==\")\n",
    "        "
   ]
  },
  {
   "cell_type": "markdown",
   "metadata": {},
   "source": [
    "### Task 5\n"
   ]
  },
  {
   "cell_type": "code",
   "execution_count": 18,
   "metadata": {},
   "outputs": [
    {
     "name": "stdout",
     "output_type": "stream",
     "text": [
      "\u001b[1;31mNo parameter : \u001b[0m0bdf77af\n",
      "\u001b[1;31mWith -w : \u001b[0m0bdf77af\n",
      "\u001b[1;31mWith -wM : \u001b[0m0bdf77af\n",
      "\u001b[1;31mWith -wC : \u001b[0m0bdf77af\n",
      "\u001b[1;31mWith -wCC : \u001b[0m0bdf77af\n",
      "\u001b[1;31mWith -wCCC : \u001b[0m0bdf77af\n"
     ]
    }
   ],
   "source": [
    "\n",
    "        lines = \"-L\"+affectedLines[0]+\",+\"+affectedLines[1]\n",
    "\n",
    "        blame_data = repo.git.blame(lines, fixing_commit, \"--\", fileName).splitlines()\n",
    "        commits = []\n",
    "        for l in blame_data:\n",
    "            commits.append(l[0:8])\n",
    "        unique, counts = np.unique(commits, return_counts=True)\n",
    "        d = dict(zip(unique, counts))\n",
    "        mostFrequent = max(d, key=d.get)\n",
    "        print('\\x1b[1;31m'+\"No parameter : \"+'\\x1b[0m'+mostFrequent)\n",
    "        ##################################\n",
    "        blame_data = repo.git.blame(lines, fixing_commit, \"-w\", \"--\", fileName).splitlines()\n",
    "        commits = []\n",
    "        for l in blame_data:\n",
    "            commits.append(l[0:8])\n",
    "        unique, counts = np.unique(commits, return_counts=True)\n",
    "        d = dict(zip(unique, counts))\n",
    "        mostFrequent = max(d, key=d.get)\n",
    "        print('\\x1b[1;31m'+\"With -w : \"+'\\x1b[0m'+mostFrequent)\n",
    "        ##################################\n",
    "        blame_data = repo.git.blame(lines, fixing_commit, \"-wM\", \"--\", fileName).splitlines()\n",
    "        commits = []\n",
    "        for l in blame_data:\n",
    "            commits.append(l[0:8])\n",
    "        unique, counts = np.unique(commits, return_counts=True)\n",
    "        d = dict(zip(unique, counts))\n",
    "        mostFrequent = max(d, key=d.get)\n",
    "        print('\\x1b[1;31m'+\"With -wM : \"+'\\x1b[0m'+mostFrequent)\n",
    "        ##################################\n",
    "        blame_data = repo.git.blame(lines, fixing_commit, \"-wC\", \"--\", fileName).splitlines()\n",
    "        commits = []\n",
    "        for l in blame_data:\n",
    "            commits.append(l[0:8])\n",
    "        unique, counts = np.unique(commits, return_counts=True)\n",
    "        d = dict(zip(unique, counts))\n",
    "        mostFrequent = max(d, key=d.get)\n",
    "        print('\\x1b[1;31m'+\"With -wC : \"+'\\x1b[0m'+mostFrequent)\n",
    "        ##################################\n",
    "        blame_data = repo.git.blame(lines, fixing_commit, \"-wCC\", \"--\", fileName).splitlines()\n",
    "        commits = []\n",
    "        for l in blame_data:\n",
    "            commits.append(l[0:8])\n",
    "        unique, counts = np.unique(commits, return_counts=True)\n",
    "        d = dict(zip(unique, counts))\n",
    "        mostFrequent = max(d, key=d.get)\n",
    "        print('\\x1b[1;31m'+\"With -wCC : \"+'\\x1b[0m'+mostFrequent)\n",
    "        ##################################\n",
    "        blame_data = repo.git.blame(lines, fixing_commit, \"-wCCC\", \"--\", fileName).splitlines()\n",
    "        commits = []\n",
    "        for l in blame_data:\n",
    "            commits.append(l[0:8])\n",
    "        unique, counts = np.unique(commits, return_counts=True)\n",
    "        d = dict(zip(unique, counts))\n",
    "        mostFrequent = max(d, key=d.get)\n",
    "        print('\\x1b[1;31m'+\"With -wCCC : \"+'\\x1b[0m'+mostFrequent)\n",
    "        "
   ]
  },
  {
   "cell_type": "markdown",
   "metadata": {},
   "source": [
    "### Task 6\n"
   ]
  },
  {
   "cell_type": "markdown",
   "metadata": {},
   "source": [
    "##### a) Message and title of the VCC"
   ]
  },
  {
   "cell_type": "code",
   "execution_count": 19,
   "metadata": {},
   "outputs": [
    {
     "name": "stdout",
     "output_type": "stream",
     "text": [
      "\u001b[1;31mCommit Title:\u001b[0m    Fixing JIRA Issue #1412: https://issues.apache.org/jira/browse/XERCESJ-1412. Resolves CVE-2009-2625 and a few other issues. We were missing checks for surrogates and well-formedness when scanning system identifiers.\n",
      "\u001b[1;31mCommit Message:\u001b[0m    git-svn-id: https://svn.apache.org/repos/asf/xerces/java/trunk@787352 13f79535-47bb-0310-9956-ffa450edef68\n"
     ]
    }
   ],
   "source": [
    "show_data = repo.git.show(\"--shortstat\", mostFrequent).splitlines()\n",
    "print('\\x1b[1;31m'+\"Commit Title:\"+'\\x1b[0m'+show_data[4])\n",
    "print('\\x1b[1;31m'+\"Commit Message:\"+'\\x1b[0m'+show_data[6])"
   ]
  },
  {
   "cell_type": "markdown",
   "metadata": {},
   "source": [
    "##### b) Number of affected files of the VCC"
   ]
  },
  {
   "cell_type": "code",
   "execution_count": 20,
   "metadata": {},
   "outputs": [
    {
     "name": "stdout",
     "output_type": "stream",
     "text": [
      "src/org/apache/xerces/impl/XMLScanner.java\n",
      "\u001b[1;31mAffected Files:\u001b[0m1\n"
     ]
    }
   ],
   "source": [
    "commit = repo.commit(mostFrequent)\n",
    "s = commit.stats\n",
    "for file in s.files:\n",
    "    print(file)\n",
    "print('\\x1b[1;31m'+\"Affected Files:\"+'\\x1b[0m'+ str(s.total[\"files\"]))"
   ]
  },
  {
   "cell_type": "markdown",
   "metadata": {},
   "source": [
    "##### c) Number of affected directories of the VCC\n"
   ]
  },
  {
   "cell_type": "code",
   "execution_count": 21,
   "metadata": {},
   "outputs": [
    {
     "name": "stdout",
     "output_type": "stream",
     "text": [
      "\u001b[1;31mAffected directories:\u001b[0m\n",
      "src/org/apache/xerces/impl\n",
      "\n",
      "\u001b[1;31mTotal:\u001b[0m\n",
      "1\n"
     ]
    }
   ],
   "source": [
    "# print(s.total) # Overall statistics\n",
    "# print(s.files) # List all the files\n",
    "files = s.files\n",
    "directoryList = []\n",
    "for file in files.keys():\n",
    "    directory = file[0:file.rfind('/')]\n",
    "#     print(directory)\n",
    "    if directory not in directoryList:\n",
    "        directoryList.append(directory)\n",
    "print('\\x1b[1;31m'+\"Affected directories:\"+'\\x1b[0m')\n",
    "for directory in directoryList:\n",
    "    print(directory)\n",
    "print()\n",
    "print('\\x1b[1;31m'+\"Total:\"+'\\x1b[0m')\n",
    "print(len(directoryList))\n",
    "    "
   ]
  },
  {
   "cell_type": "markdown",
   "metadata": {},
   "source": [
    "##### d) Total lines of code (including comments and blank lines) deleted in the VCC"
   ]
  },
  {
   "cell_type": "code",
   "execution_count": 22,
   "metadata": {},
   "outputs": [
    {
     "name": "stdout",
     "output_type": "stream",
     "text": [
      "\u001b[1;31mDeletions including blank lines:\u001b[0m0\n"
     ]
    }
   ],
   "source": [
    "diff_data = repo.git.diff(mostFrequent + \"^\", mostFrequent).splitlines()\n",
    "count = 0\n",
    "for line in diff_data:\n",
    "    if(not line[0:3] == '---'):\n",
    "        if(line[0:1] == '-'):\n",
    "            count=count+1\n",
    "print('\\x1b[1;31m'+\"Deletions including blank lines:\"+'\\x1b[0m'+str(count))"
   ]
  },
  {
   "cell_type": "markdown",
   "metadata": {},
   "source": [
    "##### e) Total lines of code (including comments and blank lines) added in the VCC"
   ]
  },
  {
   "cell_type": "code",
   "execution_count": 23,
   "metadata": {},
   "outputs": [
    {
     "name": "stdout",
     "output_type": "stream",
     "text": [
      "\u001b[1;31mInsertions including blank lines:\u001b[0m8\n"
     ]
    }
   ],
   "source": [
    "diff_data = repo.git.diff(mostFrequent + \"^\", mostFrequent).splitlines()\n",
    "count = 0\n",
    "for line in diff_data:\n",
    "    if(not line[0:3] == '+++'):\n",
    "        if(line[0:1] == '+'):\n",
    "            count=count+1\n",
    "print('\\x1b[1;31m'+\"Insertions including blank lines:\"+'\\x1b[0m'+str(count))"
   ]
  },
  {
   "cell_type": "markdown",
   "metadata": {},
   "source": [
    "##### f) Total lines of code (excluding comments and blank lines) deleted in the VCC\n"
   ]
  },
  {
   "cell_type": "code",
   "execution_count": 24,
   "metadata": {},
   "outputs": [
    {
     "name": "stdout",
     "output_type": "stream",
     "text": [
      "\u001b[1;31mDeletions excluding blank lines and comments:\u001b[0m0\n"
     ]
    }
   ],
   "source": [
    "diff_data = repo.git.diff(\"-w\",mostFrequent + \"^\", mostFrequent).splitlines()\n",
    "count = 0\n",
    "comment_started = False\n",
    "for line in diff_data:\n",
    "    if(not line[0:3] == '---'):\n",
    "        if(line.find('/*') != -1):\n",
    "            comment_started = True\n",
    "            continue\n",
    "        elif(line.find('*/') != -1):\n",
    "            comment_started = False\n",
    "            continue\n",
    "#             else:\n",
    "#             print(line + str(comment_started))\n",
    "        if(comment_started==False):\n",
    "            if(line[0:1] == '-' and not re.search(r'\\s', line) is None):\n",
    "                if(line.find('//') == -1):\n",
    "#                     print(line)\n",
    "                    count=count+1\n",
    "    \n",
    "print('\\x1b[1;31m'+\"Deletions excluding blank lines and comments:\"+'\\x1b[0m'+ str(count))"
   ]
  },
  {
   "cell_type": "markdown",
   "metadata": {},
   "source": [
    "##### g) Total lines of code (excluding comments and blank lines) added in the VCC"
   ]
  },
  {
   "cell_type": "code",
   "execution_count": 25,
   "metadata": {},
   "outputs": [
    {
     "name": "stdout",
     "output_type": "stream",
     "text": [
      "\u001b[1;31mInsertions excluding blank lines and comments:\u001b[0m8\n"
     ]
    }
   ],
   "source": [
    "diff_data = repo.git.diff(\"-w\",mostFrequent + \"^\", mostFrequent).splitlines()\n",
    "count = 0\n",
    "comment_started = False\n",
    "for line in diff_data:\n",
    "    if(not line[0:3] == '+++'):\n",
    "        if(line.find('/*') != -1):\n",
    "            comment_started = True\n",
    "            continue\n",
    "        elif(line.find('*/') != -1):\n",
    "            comment_started = False\n",
    "            continue\n",
    "#             else:\n",
    "#             print(line + str(comment_started))\n",
    "        if(comment_started==False):\n",
    "            if(line[0:1] == '+' and not re.search(r'\\s', line) is None):\n",
    "                if(line.find('//') == -1):\n",
    "#                     print(line)\n",
    "                    count=count+1\n",
    "\n",
    "                \n",
    "print('\\x1b[1;31m'+\"Insertions excluding blank lines and comments:\"+'\\x1b[0m'+str(count))"
   ]
  },
  {
   "cell_type": "markdown",
   "metadata": {},
   "source": [
    "##### h) Days were between the current fixing commit and the previous commit in the VCC"
   ]
  },
  {
   "cell_type": "code",
   "execution_count": 26,
   "metadata": {},
   "outputs": [
    {
     "name": "stdout",
     "output_type": "stream",
     "text": [
      "\u001b[1;31mFile Name: \u001b[0msrc/org/apache/xerces/impl/XMLScanner.java\n",
      "\u001b[1;31mVCC Commit Date\\Time: \u001b[0m2009-06-22 19:08:53\n",
      "\u001b[1;31mFix Commit Date\\Time: \u001b[0m2009-06-22 19:08:53\n",
      "\u001b[1;31mTime Difference: \u001b[0m0:00:00\n",
      "===\n"
     ]
    }
   ],
   "source": [
    "from datetime import datetime\n",
    "from datetime import date\n",
    "# print(\"Number of commits in between:\", len(log_data))\n",
    "i=0\n",
    "for file in files: \n",
    "    i=i+1\n",
    "    if(i==6):\n",
    "        break\n",
    "    print('\\x1b[1;31m'+\"File Name: \"+'\\x1b[0m'+file)\n",
    "    log_data = repo.git.log(mostFrequent,file).splitlines()\n",
    "    commit_number = 0\n",
    "    date1 = datetime.now()\n",
    "    date2 = datetime.now()\n",
    "    for line in log_data:\n",
    "        if(line[0:8] == \"Date:   \"):\n",
    "            commit_number=commit_number+1\n",
    "            if(commit_number ==1):\n",
    "                date1 = datetime.strptime(line[8:32], '%a %b %d %H:%M:%S %Y')\n",
    "                print('\\x1b[1;31m'+\"VCC Commit Date\\Time: \"+'\\x1b[0m'+str(date1))\n",
    "                date2 = datetime.strptime(fix_date, '%a %b %d %H:%M:%S %Y')\n",
    "                print('\\x1b[1;31m'+\"Fix Commit Date\\Time: \"+'\\x1b[0m'+str(date2))\n",
    "                break\n",
    "\n",
    "    print('\\x1b[1;31m'+\"Time Difference: \"+'\\x1b[0m'+str(date2-date1))\n",
    "    print(\"===\")\n",
    "# print(\"... and \"+str(len(files)-5) + \" more.\")\n",
    "\n"
   ]
  },
  {
   "cell_type": "markdown",
   "metadata": {},
   "source": [
    "##### i) Number of times each affected file of the current fixing commit been modified in the VCC\n"
   ]
  },
  {
   "cell_type": "code",
   "execution_count": 27,
   "metadata": {},
   "outputs": [
    {
     "name": "stdout",
     "output_type": "stream",
     "text": [
      "\u001b[1;31mFile Name: \u001b[0msrc/org/apache/xerces/impl/XMLScanner.java\n",
      "\u001b[1;31mNumber of Revisions including renaming: \u001b[0m53\n"
     ]
    }
   ],
   "source": [
    "for file in files:   \n",
    "    print('\\x1b[1;31m'+\"File Name: \"+'\\x1b[0m'+file)\n",
    "    log_data = repo.git.log(mostFrequent,\"--pretty=\\\"format:%H%M%S\\\"\", \"--\",file).splitlines()\n",
    "    print('\\x1b[1;31m'+\"Number of Revisions including renaming: \"+'\\x1b[0m'+str(len(log_data)))"
   ]
  },
  {
   "cell_type": "markdown",
   "metadata": {},
   "source": [
    "##### j) Developers that have modified each affected files since creation up to the VCC"
   ]
  },
  {
   "cell_type": "code",
   "execution_count": 28,
   "metadata": {},
   "outputs": [
    {
     "name": "stdout",
     "output_type": "stream",
     "text": [
      "\u001b[1;31mFile Name: \u001b[0msrc/org/apache/xerces/impl/XMLScanner.java\n",
      "\u001b[1;31mContributors of the file: \u001b[0m\n",
      "Andy Clark\n",
      "Arnaud Le Hors\n",
      "Elena Litani\n",
      "Michael Glavassevich\n",
      "Neeraj Bajaj\n",
      "Neil Graham\n",
      "Rahul Srivastava\n",
      "Shudi Gao\n",
      "Ted Leung\n",
      "\n"
     ]
    }
   ],
   "source": [
    "for file in files:   \n",
    "    print('\\x1b[1;31m'+\"File Name: \"+'\\x1b[0m'+file)\n",
    "    print('\\x1b[1;31m'+\"Contributors of the file: \"+'\\x1b[0m')\n",
    "    log_data = repo.git.log(mostFrequent,\"--pretty=format:%an\", \"--follow\", \"--\",file).splitlines()\n",
    "#     print('\\x1b[1;31m'+\"Number of Revisions including renaming: \"+'\\x1b[0m'+str(len(log_data)))\n",
    "#     print(log_data)\n",
    "    x = np.array(log_data) \n",
    "    uniqueNames = np.unique(x)\n",
    "    for name in uniqueNames:\n",
    "        print(name) \n",
    "    print()"
   ]
  },
  {
   "cell_type": "markdown",
   "metadata": {},
   "source": [
    "##### k) Observations about the developers of the VCC"
   ]
  },
  {
   "cell_type": "code",
   "execution_count": 29,
   "metadata": {},
   "outputs": [
    {
     "name": "stdout",
     "output_type": "stream",
     "text": [
      "\u001b[1;34mAuthor: \u001b[1;31m'Michael Glavassevich <mrglavas@apache.org>\n",
      "\u001b[1;34mNumber of commits: \u001b[1;31m'  2528\n",
      "\u001b[1;34mAuthor: \u001b[1;31m'Elena Litani <elena@apache.org>\n",
      "\u001b[1;34mNumber of commits: \u001b[1;31m'   697\n",
      "\u001b[1;34mAuthor: \u001b[1;31m'Shudi Gao <sandygao@apache.org>\n",
      "\u001b[1;34mNumber of commits: \u001b[1;31m'   688\n",
      "\u001b[1;34mAuthor: \u001b[1;31m'Andy Clark <andyc@apache.org>\n",
      "\u001b[1;34mNumber of commits: \u001b[1;31m'   607\n",
      "\u001b[1;34mAuthor: \u001b[1;31m'Neil Graham <neilg@apache.org>\n",
      "\u001b[1;34mNumber of commits: \u001b[1;31m'   582\n",
      "\u001b[1;34mAuthor: \u001b[1;31m'Arnaud Le Hors <lehors@apache.org>\n",
      "\u001b[1;34mNumber of commits: \u001b[1;31m'   529\n",
      "\u001b[1;34mAuthor: \u001b[1;31m'Mukul Gandhi <mukulg@apache.org>\n",
      "\u001b[1;34mNumber of commits: \u001b[1;31m'   462\n",
      "\u001b[1;34mAuthor: \u001b[1;31m'Jeff Rodriguez <jeffreyr@apache.org>\n",
      "\u001b[1;34mNumber of commits: \u001b[1;31m'   412\n",
      "\u001b[1;34mAuthor: \u001b[1;31m'Eric Ye <ericye@apache.org>\n",
      "\u001b[1;34mNumber of commits: \u001b[1;31m'   314\n",
      "\u001b[1;34mAuthor: \u001b[1;31m'Lisa Martin <lmartin@apache.org>\n",
      "\u001b[1;34mNumber of commits: \u001b[1;31m'   186\n",
      "\u001b[1;34mAuthor: \u001b[1;31m'Khaled Noaman <knoaman@apache.org>\n",
      "\u001b[1;34mNumber of commits: \u001b[1;31m'   142\n",
      "\u001b[1;34mAuthor: \u001b[1;31m'No Author <dev-null@apache.org>\n",
      "\u001b[1;34mNumber of commits: \u001b[1;31m'   111\n",
      "\u001b[1;34mAuthor: \u001b[1;31m'Neeraj Bajaj <neeraj@apache.org>\n",
      "\u001b[1;34mNumber of commits: \u001b[1;31m'    94\n",
      "\u001b[1;34mAuthor: \u001b[1;31m'Ted Leung <twl@apache.org>\n",
      "\u001b[1;34mNumber of commits: \u001b[1;31m'    64\n",
      "\u001b[1;34mAuthor: \u001b[1;31m'Venugopal Rao K <venu@apache.org>\n",
      "\u001b[1;34mNumber of commits: \u001b[1;31m'    55\n",
      "\u001b[1;34mAuthor: \u001b[1;31m'Edwin Goei <edwingo@apache.org>\n",
      "\u001b[1;34mNumber of commits: \u001b[1;31m'    54\n",
      "\u001b[1;34mAuthor: \u001b[1;31m'arkin <dev-null@apache.org>\n",
      "\u001b[1;34mNumber of commits: \u001b[1;31m'    51\n",
      "\u001b[1;34mAuthor: \u001b[1;31m'rpfeiffe <dev-null@apache.org>\n",
      "\u001b[1;34mNumber of commits: \u001b[1;31m'    45\n",
      "\u001b[1;34mAuthor: \u001b[1;31m'Ankit Pasricha <ankitp@apache.org>\n",
      "\u001b[1;34mNumber of commits: \u001b[1;31m'    40\n",
      "\u001b[1;34mAuthor: \u001b[1;31m'Rahul Srivastava <rahuls@apache.org>\n",
      "\u001b[1;34mNumber of commits: \u001b[1;31m'    34\n",
      "\u001b[1;34mAuthor: \u001b[1;31m'Neil Delima <nddelima@apache.org>\n",
      "\u001b[1;34mNumber of commits: \u001b[1;31m'    32\n",
      "\u001b[1;34mAuthor: \u001b[1;31m'abagchi <dev-null@apache.org>\n",
      "\u001b[1;34mNumber of commits: \u001b[1;31m'    23\n",
      "\u001b[1;34mAuthor: \u001b[1;31m'Rain Mordani <mode@apache.org>\n",
      "\u001b[1;34mNumber of commits: \u001b[1;31m'     9\n",
      "\u001b[1;34mAuthor: \u001b[1;31m'Kohsuke Kawaguchi <kohsuke@apache.org>\n",
      "\u001b[1;34mNumber of commits: \u001b[1;31m'     8\n",
      "\u001b[1;34mAuthor: \u001b[1;31m'Peter McCracken <peterjm@apache.org>\n",
      "\u001b[1;34mNumber of commits: \u001b[1;31m'     8\n",
      "\u001b[1;34mAuthor: \u001b[1;31m'Pier Fumagalli <pier@apache.org>\n",
      "\u001b[1;34mNumber of commits: \u001b[1;31m'     6\n",
      "\u001b[1;34mAuthor: \u001b[1;31m'Stefano Mazzocchi <stefano@apache.org>\n",
      "\u001b[1;34mNumber of commits: \u001b[1;31m'     5\n",
      "\u001b[1;34mAuthor: \u001b[1;31m'Gareth Reakes <gareth@apache.org>\n",
      "\u001b[1;34mNumber of commits: \u001b[1;31m'     4\n",
      "\u001b[1;34mAuthor: \u001b[1;31m'mrglavas <mrglavas@unknown>\n",
      "\u001b[1;34mNumber of commits: \u001b[1;31m'     4\n",
      "\u001b[1;34mAuthor: \u001b[1;31m'Mukul Gandhi <mukulg@apache.org =  mukulg = Mukul Gandhi mukulg@apache.org@apache.org>\n",
      "\u001b[1;34mNumber of commits: \u001b[1;31m'     2\n",
      "\u001b[1;34mAuthor: \u001b[1;31m'david <dev-null@apache.org>\n",
      "\u001b[1;34mNumber of commits: \u001b[1;31m'     2\n",
      "\u001b[1;34mAuthor: \u001b[1;31m'lynnm <dev-null@apache.org>\n",
      "\u001b[1;34mNumber of commits: \u001b[1;31m'     1\n",
      "\u001b[1;34mAuthor: \u001b[1;31m'mpogue <dev-null@apache.org>\n",
      "\u001b[1;34mNumber of commits: \u001b[1;31m'     1\n",
      "\u001b[1;34mAuthor: \u001b[1;31m'louismau <dev-null@apache.org>\n",
      "\u001b[1;34mNumber of commits: \u001b[1;31m'     1\n",
      "\u001b[1;34mAuthor: \u001b[1;31m'Sam Ruby <rubys@apache.org>\n",
      "\u001b[1;34mNumber of commits: \u001b[1;31m'     1\n",
      "\u001b[1;34mAccording to the number of commits of the developers, we can see the majority of the developers are new.\u001b[0m\n",
      "\u001b[1;34mThe number of developers with at least 450 commits is 7.\u001b[0m\n",
      "\u001b[1;34mThe number of developers with less than 450 commits is 28.\u001b[0m\n"
     ]
    }
   ],
   "source": [
    "commit_authors = repo.git.shortlog(\"-sne\", \"--all\").splitlines()\n",
    "\n",
    "author_commits = []\n",
    "\n",
    "for commit_author in commit_authors:\n",
    "    commit, author = commit_author.split(\"\\t\")\n",
    "    author_commits.append([int(commit), author])\n",
    "    print('\\x1b[1;34m'+\"Author: \\x1b[1;31m'\"+author)\n",
    "    print('\\x1b[1;34m'+\"Number of commits: \\x1b[1;31m'\"+commit)\n",
    "    \n",
    "devs_above_450 = 0\n",
    "devs_below_450 = 0\n",
    "for item in author_commits:\n",
    "    if(item[0]>=450):\n",
    "        devs_above_450 = devs_above_450+1\n",
    "    else:\n",
    "        devs_below_450 = devs_below_450+1\n",
    "exp_level=\"new\"\n",
    "if(devs_above_450>devs_below_450):\n",
    "    exp_level = \"experienced\"\n",
    "    \n",
    "print('\\x1b[1;34m'+\"According to the number of commits of the developers, we can see the majority of the developers are \"+exp_level+\".\"+'\\x1b[0m')\n",
    "print('\\x1b[1;34m'+\"The number of developers with at least 450 commits is \"+str(devs_above_450)+\".\"+'\\x1b[0m')\n",
    "print('\\x1b[1;34m'+\"The number of developers with less than 450 commits is \"+str(devs_below_450)+\".\"+'\\x1b[0m')\n",
    "\n"
   ]
  },
  {
   "cell_type": "markdown",
   "metadata": {},
   "source": [
    "# 3. Apache/Struts"
   ]
  },
  {
   "cell_type": "markdown",
   "metadata": {},
   "source": [
    "### Task 3"
   ]
  },
  {
   "cell_type": "code",
   "execution_count": 30,
   "metadata": {},
   "outputs": [
    {
     "name": "stdout",
     "output_type": "stream",
     "text": [
      "Tue Dec 27 22:34:37 2011\n",
      "\u001b[1;31mFile Name: \u001b[0mcore/src/main/java/org/apache/struts2/interceptor/CookieInterceptor.java\n",
      "\u001b[1;31mInsertions: \u001b[0m36\n",
      "\u001b[1;31mDeletions: \u001b[0m16\n",
      "\u001b[1;31mTotal: \u001b[0m52\n",
      "====================\n",
      "\u001b[1;31mFile Name: \u001b[0mxwork-core/src/main/java/com/opensymphony/xwork2/interceptor/ParametersInterceptor.java\n",
      "\u001b[1;31mInsertions: \u001b[0m4\n",
      "\u001b[1;31mDeletions: \u001b[0m17\n",
      "\u001b[1;31mTotal: \u001b[0m21\n",
      "====================\n",
      "\u001b[1;31mFile Name: \u001b[0mxwork-core/src/main/java/com/opensymphony/xwork2/util/ArrayUtils.java\n",
      "\u001b[1;31mInsertions: \u001b[0m23\n",
      "\u001b[1;31mDeletions: \u001b[0m0\n",
      "\u001b[1;31mTotal: \u001b[0m23\n",
      "====================\n",
      "\u001b[1;31mFile Name: \u001b[0mxwork-core/src/test/java/com/opensymphony/xwork2/interceptor/ParametersInterceptorTest.java\n",
      "\u001b[1;31mInsertions: \u001b[0m1\n",
      "\u001b[1;31mDeletions: \u001b[0m5\n",
      "\u001b[1;31mTotal: \u001b[0m6\n",
      "====================\n"
     ]
    }
   ],
   "source": [
    "remote_link = \"https://github.com/apache/struts\"\n",
    "local_link = \"struts\"\n",
    "\n",
    "repo = Repo(local_link)\n",
    "fixing_commit = \"9cad25f258bb2629d263f828574d2671366c238d\"\n",
    "repo.git.checkout(fixing_commit)\n",
    "show_data = repo.git.show(\"--shortstat\", fixing_commit).splitlines()\n",
    "\n",
    "commit = repo.commit(fixing_commit)\n",
    "s = commit.stats\n",
    "# s.total         # full-stat-dict\n",
    "# s.files         # dict( filepath : stat-dict )\n",
    "# print(s.total) # Overall statistics\n",
    "# print(s.files) # List all the files\n",
    "fix_date = show_data[2][8:32]\n",
    "print(fix_date)\n",
    "files = s.files\n",
    "directoryList = []\n",
    "fileNames = []\n",
    "for file in files.keys():\n",
    "    fileNames.append(file)\n",
    "    print('\\x1b[1;31m'+\"File Name: \"+'\\x1b[0m'+file)\n",
    "#     print(files[file]['insertions'])\n",
    "#     print(files[file]['deletions'])\n",
    "#     print(files[file]['lines'])\n",
    "    print('\\x1b[1;31m'+\"Insertions: \"+'\\x1b[0m'+str(files[file]['insertions']))\n",
    "    print('\\x1b[1;31m'+\"Deletions: \"+'\\x1b[0m'+str(files[file]['deletions']))\n",
    "    print('\\x1b[1;31m'+\"Total: \"+'\\x1b[0m'+str(files[file]['lines']))\n",
    "    print(\"====================\")\n",
    "\n",
    "#     if directory not in directoryList:\n",
    "#         directoryList.append(directory)"
   ]
  },
  {
   "cell_type": "code",
   "execution_count": 31,
   "metadata": {},
   "outputs": [
    {
     "name": "stdout",
     "output_type": "stream",
     "text": [
      "\u001b[1;31mFile Name: \u001b[0mcore/src/main/java/org/apache/struts2/interceptor/CookieInterceptor.java\n",
      "\u001b[1;31mEnclosing Scope: \u001b[0mpackage org.apache.struts2.interceptor\n",
      "\u001b[1;31mAffected Lines: \u001b[0mLine number 23 to 23\n",
      "\u001b[1;31mMost frequently identified commit : \u001b[0m4dd9c2d5\n",
      "==============================================================\n",
      "\n",
      "\u001b[1;31mFile Name: \u001b[0mcore/src/main/java/org/apache/struts2/interceptor/CookieInterceptor.java\n",
      "\u001b[1;31mEnclosing Scope: \u001b[0mimport com.opensymphony.xwork2.util.logging.LoggerFactory\n",
      "\u001b[1;31mAffected Lines: \u001b[0mLine number 31 to 39\n",
      "\u001b[1;31mMost frequently identified commit : \u001b[0m9cad25f2\n",
      "==============================================================\n",
      "\n",
      "\u001b[1;31mFile Name: \u001b[0mcore/src/main/java/org/apache/struts2/interceptor/CookieInterceptor.java\n",
      "\u001b[1;31mEnclosing Scope: \u001b[0mimport com.opensymphony.xwork2.util.logging.LoggerFactory\n",
      "\u001b[1;31mAffected Lines: \u001b[0mLine number 79 to 81\n",
      "\u001b[1;31mMost frequently identified commit : \u001b[0m9cad25f2\n",
      "==============================================================\n",
      "\n",
      "\u001b[1;31mFile Name: \u001b[0mcore/src/main/java/org/apache/struts2/interceptor/CookieInterceptor.java\n",
      "\u001b[1;31mEnclosing Scope: \u001b[0mpublic class CookieInterceptor extends AbstractInterceptor \n",
      "\u001b[1;31mAffected Lines: \u001b[0mLine number 166 to 168\n",
      "\u001b[1;31mMost frequently identified commit : \u001b[0m9cad25f2\n",
      "==============================================================\n",
      "\n",
      "\u001b[1;31mFile Name: \u001b[0mcore/src/main/java/org/apache/struts2/interceptor/CookieInterceptor.java\n",
      "\u001b[1;31mEnclosing Scope: \u001b[0mpublic class CookieInterceptor extends AbstractInterceptor \n",
      "\u001b[1;31mAffected Lines: \u001b[0mLine number 171 to 174\n",
      "\u001b[1;31mMost frequently identified commit : \u001b[0m9cad25f2\n",
      "==============================================================\n",
      "\n",
      "\u001b[1;31mFile Name: \u001b[0mcore/src/main/java/org/apache/struts2/interceptor/CookieInterceptor.java\n",
      "\u001b[1;31mEnclosing Scope: \u001b[0mpublic class CookieInterceptor extends AbstractInterceptor \n",
      "\u001b[1;31mAffected Lines: \u001b[0mLine number 197 to 206\n",
      "\u001b[1;31mMost frequently identified commit : \u001b[0m9cad25f2\n",
      "==============================================================\n",
      "\n",
      "\u001b[1;31mFile Name: \u001b[0mcore/src/main/java/org/apache/struts2/interceptor/CookieInterceptor.java\n",
      "\u001b[1;31mEnclosing Scope: \u001b[0mpublic class CookieInterceptor extends AbstractInterceptor \n",
      "\u001b[1;31mAffected Lines: \u001b[0mLine number 210 to 210\n",
      "\u001b[1;31mMost frequently identified commit : \u001b[0m4dd9c2d5\n",
      "==============================================================\n",
      "\n",
      "\u001b[1;31mFile Name: \u001b[0mcore/src/main/java/org/apache/struts2/interceptor/CookieInterceptor.java\n",
      "\u001b[1;31mEnclosing Scope: \u001b[0mpublic class CookieInterceptor extends AbstractInterceptor \n",
      "\u001b[1;31mAffected Lines: \u001b[0mLine number 222 to 230\n",
      "\u001b[1;31mMost frequently identified commit : \u001b[0m9cad25f2\n",
      "==============================================================\n",
      "\n",
      "\u001b[1;31mFile Name: \u001b[0mcore/src/main/java/org/apache/struts2/interceptor/CookieInterceptor.java\n",
      "\u001b[1;31mEnclosing Scope: \u001b[0mpublic class CookieInterceptor extends AbstractInterceptor \n",
      "\u001b[1;31mAffected Lines: \u001b[0mLine number 231 to 233\n",
      "\u001b[1;31mMost frequently identified commit : \u001b[0m9cad25f2\n",
      "==============================================================\n",
      "\n",
      "\u001b[1;31mFile Name: \u001b[0mcore/src/main/java/org/apache/struts2/interceptor/CookieInterceptor.java\n",
      "\u001b[1;31mEnclosing Scope: \u001b[0mpublic class CookieInterceptor extends AbstractInterceptor \n",
      "\u001b[1;31mAffected Lines: \u001b[0mLine number 274 to 274\n",
      "\u001b[1;31mMost frequently identified commit : \u001b[0m4dd9c2d5\n",
      "==============================================================\n",
      "\n",
      "\u001b[1;31mFile Name: \u001b[0mxwork-core/src/main/java/com/opensymphony/xwork2/interceptor/ParametersInterceptor.java\n",
      "\u001b[1;31mEnclosing Scope: \u001b[0mimport com.opensymphony.xwork2.inject.Inject\n",
      "\u001b[1;31mAffected Lines: \u001b[0mLine number 24 to 24\n",
      "\u001b[1;31mMost frequently identified commit : \u001b[0m0c543aef\n",
      "==============================================================\n",
      "\n",
      "\u001b[1;31mFile Name: \u001b[0mxwork-core/src/main/java/com/opensymphony/xwork2/interceptor/ParametersInterceptor.java\n",
      "\u001b[1;31mEnclosing Scope: \u001b[0mimport com.opensymphony.xwork2.util.MemberAccessValueStack\n",
      "\u001b[1;31mAffected Lines: \u001b[0mLine number 27 to 27\n",
      "\u001b[1;31mMost frequently identified commit : \u001b[0m0c543aef\n",
      "==============================================================\n",
      "\n",
      "\u001b[1;31mFile Name: \u001b[0mxwork-core/src/main/java/com/opensymphony/xwork2/interceptor/ParametersInterceptor.java\n",
      "\u001b[1;31mEnclosing Scope: \u001b[0mpublic class ParametersInterceptor extends MethodFilterInterceptor \n",
      "\u001b[1;31mAffected Lines: \u001b[0mLine number 138 to 138\n",
      "\u001b[1;31mMost frequently identified commit : \u001b[0m0c543aef\n",
      "==============================================================\n",
      "\n",
      "\u001b[1;31mFile Name: \u001b[0mxwork-core/src/main/java/com/opensymphony/xwork2/interceptor/ParametersInterceptor.java\n",
      "\u001b[1;31mEnclosing Scope: \u001b[0mpublic class ParametersInterceptor extends MethodFilterInterceptor \n",
      "\u001b[1;31mAffected Lines: \u001b[0mLine number 154 to 154\n",
      "\u001b[1;31mMost frequently identified commit : \u001b[0m0c543aef\n",
      "==============================================================\n",
      "\n",
      "\u001b[1;31mFile Name: \u001b[0mxwork-core/src/main/java/com/opensymphony/xwork2/interceptor/ParametersInterceptor.java\n",
      "\u001b[1;31mEnclosing Scope: \u001b[0mpublic class ParametersInterceptor extends MethodFilterInterceptor \n",
      "\u001b[1;31mAffected Lines: \u001b[0mLine number 416 to 416\n",
      "\u001b[1;31mMost frequently identified commit : \u001b[0m0c543aef\n",
      "==============================================================\n",
      "\n",
      "\u001b[1;31mFile Name: \u001b[0mxwork-core/src/main/java/com/opensymphony/xwork2/interceptor/ParametersInterceptor.java\n",
      "\u001b[1;31mEnclosing Scope: \u001b[0mpublic class ParametersInterceptor extends MethodFilterInterceptor \n",
      "\u001b[1;31mAffected Lines: \u001b[0mLine number 424 to 424\n",
      "\u001b[1;31mMost frequently identified commit : \u001b[0m0c543aef\n",
      "==============================================================\n",
      "\n",
      "\u001b[1;31mFile Name: \u001b[0mxwork-core/src/main/java/com/opensymphony/xwork2/util/ArrayUtils.java\n",
      "\u001b[1;31mEnclosing Scope: \u001b[0mpackage com.opensymphony.xwork2.util\n",
      "\u001b[1;31mAffected Lines: \u001b[0mLine number 18 to 23\n",
      "\u001b[1;31mMost frequently identified commit : \u001b[0m9cad25f2\n",
      "==============================================================\n",
      "\n",
      "\u001b[1;31mFile Name: \u001b[0mxwork-core/src/main/java/com/opensymphony/xwork2/util/ArrayUtils.java\n",
      "\u001b[1;31mEnclosing Scope: \u001b[0mpublic class ArrayUtils \n",
      "\u001b[1;31mAffected Lines: \u001b[0mLine number 36 to 54\n",
      "\u001b[1;31mMost frequently identified commit : \u001b[0m9cad25f2\n",
      "==============================================================\n",
      "\n",
      "\u001b[1;31mFile Name: \u001b[0mxwork-core/src/test/java/com/opensymphony/xwork2/interceptor/ParametersInterceptorTest.java\n",
      "\u001b[1;31mEnclosing Scope: \u001b[0mpublic class ParametersInterceptorTest extends XWorkTestCase \n",
      "\u001b[1;31mAffected Lines: \u001b[0mLine number 199 to 199\n",
      "\u001b[1;31mMost frequently identified commit : \u001b[0m0c543aef\n",
      "==============================================================\n",
      "\n"
     ]
    }
   ],
   "source": [
    "diff_data = repo.git.diff(\"-U0\",fixing_commit + \"^\", fixing_commit).splitlines()\n",
    "# print(diff_data)\n",
    "fileName = \"\"\n",
    "# i = 0\n",
    "for line in diff_data:\n",
    "#     i=i+1\n",
    "#     if(i==6):\n",
    "#         break\n",
    "#     print(line)\n",
    "    if(line[0:10] == 'diff --git'):\n",
    "        fileName = line[13:line.find(' b')]\n",
    "#         print(line[12:])\n",
    "    if(line[0:3] == '@@ '):\n",
    "#         print(line)\n",
    "        start = ' +'\n",
    "        parentScopeStart = ' @@ '\n",
    "        end = ' @@'\n",
    "        s = line\n",
    "        parentScope = (s[s.find(parentScopeStart)+len(parentScopeStart):])\n",
    "        affectedLines = (s[s.find(start)+len(start):s.rfind(end)]).split(',')\n",
    "        if(len(affectedLines) == 1):\n",
    "            affectedLines.append('0')\n",
    "#         print(affectedLines)\n",
    "#         print(parentScope)\n",
    "        print('\\x1b[1;31m'+\"File Name: \"+'\\x1b[0m'+fileName)\n",
    "        if(\"Project\" == str(parentScope[:parentScope.find(': ')])):\n",
    "            print('\\x1b[1;31m'+\"This line does not have an enclosing scope.\"+'\\x1b[0m')\n",
    "        else:\n",
    "            print('\\x1b[1;31m'+\"Enclosing Scope: \"+'\\x1b[0m'+str(parentScope[:parentScope.find(': ')]))\n",
    "        print('\\x1b[1;31m'+\"Affected Lines: \"+'\\x1b[0m'+\"Line number \" + affectedLines[0] + \" to \"+ str((int(affectedLines[0])+int(affectedLines[1]))))\n",
    "        \n",
    "        \n",
    "        lines = \"-L\"+affectedLines[0]+\",+\"+affectedLines[1]\n",
    "        \n",
    "        if(affectedLines[1] == '0'):\n",
    "            lines = \"-L\"+affectedLines[0]\n",
    "\n",
    "        blame_data = repo.git.blame(lines, fixing_commit, \"--\", fileName).splitlines()\n",
    "        commits = []\n",
    "        for l in blame_data:\n",
    "            commits.append(l[0:8])\n",
    "        unique, counts = np.unique(commits, return_counts=True)\n",
    "        d = dict(zip(unique, counts))\n",
    "        mostFrequent = max(d, key=d.get)\n",
    "        \n",
    "        print('\\x1b[1;31m'+\"Most frequently identified commit : \"+'\\x1b[0m'+mostFrequent)\n",
    "        print(\"==============================================================\")\n",
    "        print()\n",
    "#         print(mostFrequent)\n",
    "\n",
    "#     print(l)\n",
    "#     print(\"==\")\n",
    "        "
   ]
  },
  {
   "cell_type": "markdown",
   "metadata": {},
   "source": [
    "### Task 5"
   ]
  },
  {
   "cell_type": "code",
   "execution_count": 32,
   "metadata": {},
   "outputs": [
    {
     "name": "stdout",
     "output_type": "stream",
     "text": [
      "\u001b[1;31mNo parameter : \u001b[0m0c543aef\n",
      "\u001b[1;31mWith -w : \u001b[0m0c543aef\n",
      "\u001b[1;31mWith -wM : \u001b[0m0c543aef\n",
      "\u001b[1;31mWith -wC : \u001b[0m0c543aef\n",
      "\u001b[1;31mWith -wCC : \u001b[0m0c543aef\n",
      "\u001b[1;31mWith -wCCC : \u001b[0m0c543aef\n"
     ]
    }
   ],
   "source": [
    "\n",
    "        lines = \"-L\"+affectedLines[0]+\",+\"+affectedLines[1]\n",
    "        if(affectedLines[1] == '0'):\n",
    "            lines = \"-L\"+affectedLines[0]\n",
    "\n",
    "        blame_data = repo.git.blame(lines, fixing_commit, \"--\", fileName).splitlines()\n",
    "        commits = []\n",
    "        for l in blame_data:\n",
    "            commits.append(l[0:8])\n",
    "        unique, counts = np.unique(commits, return_counts=True)\n",
    "        d = dict(zip(unique, counts))\n",
    "        mostFrequent = max(d, key=d.get)\n",
    "        print('\\x1b[1;31m'+\"No parameter : \"+'\\x1b[0m'+mostFrequent)\n",
    "        ##################################\n",
    "        blame_data = repo.git.blame(lines, fixing_commit, \"-w\", \"--\", fileName).splitlines()\n",
    "        commits = []\n",
    "        for l in blame_data:\n",
    "            commits.append(l[0:8])\n",
    "        unique, counts = np.unique(commits, return_counts=True)\n",
    "        d = dict(zip(unique, counts))\n",
    "        mostFrequent = max(d, key=d.get)\n",
    "        print('\\x1b[1;31m'+\"With -w : \"+'\\x1b[0m'+mostFrequent)\n",
    "        ##################################\n",
    "        blame_data = repo.git.blame(lines, fixing_commit, \"-wM\", \"--\", fileName).splitlines()\n",
    "        commits = []\n",
    "        for l in blame_data:\n",
    "            commits.append(l[0:8])\n",
    "        unique, counts = np.unique(commits, return_counts=True)\n",
    "        d = dict(zip(unique, counts))\n",
    "        mostFrequent = max(d, key=d.get)\n",
    "        print('\\x1b[1;31m'+\"With -wM : \"+'\\x1b[0m'+mostFrequent)\n",
    "        ##################################\n",
    "        blame_data = repo.git.blame(lines, fixing_commit, \"-wC\", \"--\", fileName).splitlines()\n",
    "        commits = []\n",
    "        for l in blame_data:\n",
    "            commits.append(l[0:8])\n",
    "        unique, counts = np.unique(commits, return_counts=True)\n",
    "        d = dict(zip(unique, counts))\n",
    "        mostFrequent = max(d, key=d.get)\n",
    "        print('\\x1b[1;31m'+\"With -wC : \"+'\\x1b[0m'+mostFrequent)\n",
    "        ##################################\n",
    "        blame_data = repo.git.blame(lines, fixing_commit, \"-wCC\", \"--\", fileName).splitlines()\n",
    "        commits = []\n",
    "        for l in blame_data:\n",
    "            commits.append(l[0:8])\n",
    "        unique, counts = np.unique(commits, return_counts=True)\n",
    "        d = dict(zip(unique, counts))\n",
    "        mostFrequent = max(d, key=d.get)\n",
    "        print('\\x1b[1;31m'+\"With -wCC : \"+'\\x1b[0m'+mostFrequent)\n",
    "        ##################################\n",
    "        blame_data = repo.git.blame(lines, fixing_commit, \"-wCCC\", \"--\", fileName).splitlines()\n",
    "        commits = []\n",
    "        for l in blame_data:\n",
    "            commits.append(l[0:8])\n",
    "        unique, counts = np.unique(commits, return_counts=True)\n",
    "        d = dict(zip(unique, counts))\n",
    "        mostFrequent = max(d, key=d.get)\n",
    "        print('\\x1b[1;31m'+\"With -wCCC : \"+'\\x1b[0m'+mostFrequent)\n",
    "        "
   ]
  },
  {
   "cell_type": "markdown",
   "metadata": {},
   "source": [
    "### Task 6"
   ]
  },
  {
   "cell_type": "markdown",
   "metadata": {},
   "source": [
    "##### a) Message and title of the VCC"
   ]
  },
  {
   "cell_type": "code",
   "execution_count": 33,
   "metadata": {},
   "outputs": [
    {
     "name": "stdout",
     "output_type": "stream",
     "text": [
      "\u001b[1;31mCommit Title:\u001b[0m    Move XWork core under Struts 2 to simplify relese proces\n",
      "\u001b[1;31mCommit Message:\u001b[0m    git-svn-id: https://svn.apache.org/repos/asf/struts/struts2/trunk@911280 13f79535-47bb-0310-9956-ffa450edef68\n"
     ]
    }
   ],
   "source": [
    "show_data = repo.git.show(\"--shortstat\", mostFrequent).splitlines()\n",
    "print('\\x1b[1;31m'+\"Commit Title:\"+'\\x1b[0m'+show_data[4])\n",
    "print('\\x1b[1;31m'+\"Commit Message:\"+'\\x1b[0m'+show_data[6])"
   ]
  },
  {
   "cell_type": "markdown",
   "metadata": {},
   "source": [
    "##### b) Number of affected files of the VCC"
   ]
  },
  {
   "cell_type": "code",
   "execution_count": 34,
   "metadata": {},
   "outputs": [
    {
     "name": "stdout",
     "output_type": "stream",
     "text": [
      "xwork-core/pom.xml\n",
      "xwork-core/src/main/java/com/opensymphony/xwork2/Action.java\n",
      "xwork-core/src/main/java/com/opensymphony/xwork2/ActionChainResult.java\n",
      "xwork-core/src/main/java/com/opensymphony/xwork2/ActionContext.java\n",
      "xwork-core/src/main/java/com/opensymphony/xwork2/ActionEventListener.java\n",
      "... and 681 more.\n",
      "\u001b[1;31mAffected Files:\u001b[0m686\n"
     ]
    }
   ],
   "source": [
    "commit = repo.commit(mostFrequent)\n",
    "s = commit.stats\n",
    "# s.total         # full-stat-dict\n",
    "# s.files         # dict( filepath : stat-dict )\n",
    "# print(s.total) # Overall statistics\n",
    "# print(s.files) # List all the files\n",
    "i=0\n",
    "for file in s.files:\n",
    "    i=i+1\n",
    "    if(i==6):\n",
    "        break\n",
    "    print(file)\n",
    "print(\"... and \"+str(s.total[\"files\"]-5) + \" more.\")\n",
    "\n",
    "print('\\x1b[1;31m'+\"Affected Files:\"+'\\x1b[0m'+ str(s.total[\"files\"]))"
   ]
  },
  {
   "cell_type": "markdown",
   "metadata": {},
   "source": [
    "##### c) Number of affected directories of the VCC\n"
   ]
  },
  {
   "cell_type": "code",
   "execution_count": 35,
   "metadata": {},
   "outputs": [
    {
     "name": "stdout",
     "output_type": "stream",
     "text": [
      "\u001b[1;31mAffected directories:\u001b[0m\n",
      "xwork-core\n",
      "xwork-core/src/main/java/com/opensymphony/xwork2\n",
      "xwork-core/src/main/java/com/opensymphony/xwork2/config\n",
      "xwork-core/src/main/java/com/opensymphony/xwork2/config/entities\n",
      "xwork-core/src/main/java/com/opensymphony/xwork2/config/impl\n",
      "... and 69 more.\n",
      "\n",
      "\u001b[1;31mTotal:\u001b[0m\n",
      "74\n"
     ]
    }
   ],
   "source": [
    "# print(s.total) # Overall statistics\n",
    "# print(s.files) # List all the files\n",
    "files = s.files\n",
    "directoryList = []\n",
    "for file in files.keys():\n",
    "    directory = file[0:file.rfind('/')]\n",
    "#     print(directory)\n",
    "    if directory not in directoryList:\n",
    "        directoryList.append(directory)\n",
    "print('\\x1b[1;31m'+\"Affected directories:\"+'\\x1b[0m')\n",
    "i=0\n",
    "for directory in directoryList:\n",
    "    i=i+1\n",
    "    if(i==6):\n",
    "        break\n",
    "    print(directory)\n",
    "print(\"... and \"+str(len(directoryList)-5) + \" more.\")\n",
    "print()\n",
    "print('\\x1b[1;31m'+\"Total:\"+'\\x1b[0m')\n",
    "print(len(directoryList))\n",
    "    "
   ]
  },
  {
   "cell_type": "markdown",
   "metadata": {},
   "source": [
    "##### d) Total lines of code (including comments and blank lines) deleted in the VCC"
   ]
  },
  {
   "cell_type": "code",
   "execution_count": 36,
   "metadata": {},
   "outputs": [
    {
     "name": "stdout",
     "output_type": "stream",
     "text": [
      "\u001b[1;31mDeletions including blank lines:\u001b[0m0\n"
     ]
    }
   ],
   "source": [
    "diff_data = repo.git.diff(mostFrequent + \"^\", mostFrequent).splitlines()\n",
    "count = 0\n",
    "for line in diff_data:\n",
    "    if(not line[0:3] == '---'):\n",
    "        if(line[0:1] == '-'):\n",
    "            count=count+1\n",
    "print('\\x1b[1;31m'+\"Deletions including blank lines:\"+'\\x1b[0m'+str(count))"
   ]
  },
  {
   "cell_type": "markdown",
   "metadata": {},
   "source": [
    "##### e) Total lines of code (including comments and blank lines) added in the VCC"
   ]
  },
  {
   "cell_type": "code",
   "execution_count": 37,
   "metadata": {},
   "outputs": [
    {
     "name": "stdout",
     "output_type": "stream",
     "text": [
      "\u001b[1;31mInsertions including blank lines:\u001b[0m72963\n"
     ]
    }
   ],
   "source": [
    "diff_data = repo.git.diff(mostFrequent + \"^\", mostFrequent).splitlines()\n",
    "count = 0\n",
    "for line in diff_data:\n",
    "    if(not line[0:3] == '+++'):\n",
    "        if(line[0:1] == '+'):\n",
    "            count=count+1\n",
    "print('\\x1b[1;31m'+\"Insertions including blank lines:\"+'\\x1b[0m'+str(count))"
   ]
  },
  {
   "cell_type": "markdown",
   "metadata": {},
   "source": [
    "##### f) Total lines of code (excluding comments and blank lines) deleted in the VCC\n"
   ]
  },
  {
   "cell_type": "code",
   "execution_count": 38,
   "metadata": {},
   "outputs": [
    {
     "name": "stdout",
     "output_type": "stream",
     "text": [
      "\u001b[1;31mDeletions excluding blank lines and comments:\u001b[0m0\n"
     ]
    }
   ],
   "source": [
    "diff_data = repo.git.diff(\"-w\",mostFrequent + \"^\", mostFrequent).splitlines()\n",
    "count = 0\n",
    "comment_started = False\n",
    "for line in diff_data:\n",
    "    if(not line[0:3] == '---'):\n",
    "        if(line.find('/*') != -1):\n",
    "            comment_started = True\n",
    "            continue\n",
    "        elif(line.find('*/') != -1):\n",
    "            comment_started = False\n",
    "            continue\n",
    "#             else:\n",
    "#             print(line + str(comment_started))\n",
    "        if(comment_started==False):\n",
    "            if(line[0:1] == '-' and not re.search(r'\\s', line) is None):\n",
    "                if(line.find('//') == -1):\n",
    "#                     print(line)\n",
    "                    count=count+1\n",
    "    \n",
    "print('\\x1b[1;31m'+\"Deletions excluding blank lines and comments:\"+'\\x1b[0m'+ str(count))"
   ]
  },
  {
   "cell_type": "markdown",
   "metadata": {},
   "source": [
    "##### g) Total lines of code (excluding comments and blank lines) added in the VCC"
   ]
  },
  {
   "cell_type": "code",
   "execution_count": 39,
   "metadata": {},
   "outputs": [
    {
     "name": "stdout",
     "output_type": "stream",
     "text": [
      "\u001b[1;31mInsertions excluding blank lines and comments:\u001b[0m37887\n"
     ]
    }
   ],
   "source": [
    "diff_data = repo.git.diff(\"-w\",mostFrequent + \"^\", mostFrequent).splitlines()\n",
    "count = 0\n",
    "comment_started = False\n",
    "for line in diff_data:\n",
    "    if(not line[0:3] == '+++'):\n",
    "        if(line.find('/*') != -1):\n",
    "            comment_started = True\n",
    "            continue\n",
    "        elif(line.find('*/') != -1):\n",
    "            comment_started = False\n",
    "            continue\n",
    "#             else:\n",
    "#             print(line + str(comment_started))\n",
    "        if(comment_started==False):\n",
    "            if(line[0:1] == '+' and not re.search(r'\\s', line) is None):\n",
    "                if(line.find('//') == -1):\n",
    "#                     print(line)\n",
    "                    count=count+1\n",
    "\n",
    "                \n",
    "print('\\x1b[1;31m'+\"Insertions excluding blank lines and comments:\"+'\\x1b[0m'+str(count))"
   ]
  },
  {
   "cell_type": "markdown",
   "metadata": {},
   "source": [
    "##### h) Days were between the current fixing commit and the previous commit in the VCC"
   ]
  },
  {
   "cell_type": "code",
   "execution_count": 44,
   "metadata": {},
   "outputs": [
    {
     "name": "stdout",
     "output_type": "stream",
     "text": [
      "\u001b[1;31mFile Name: \u001b[0mxwork-core/pom.xml\n",
      "\u001b[1;31mVCC Commit Date\\Time: \u001b[0m2010-02-18 08:22:46\n",
      "\u001b[1;31mFix Commit Date\\Time: \u001b[0m2011-12-27 22:34:37\n",
      "\u001b[1;31mTime Difference: \u001b[0m677 days, 14:11:51\n",
      "===\n",
      "\u001b[1;31mFile Name: \u001b[0mxwork-core/src/main/java/com/opensymphony/xwork2/Action.java\n",
      "\u001b[1;31mVCC Commit Date\\Time: \u001b[0m2010-02-18 08:22:46\n",
      "\u001b[1;31mFix Commit Date\\Time: \u001b[0m2011-12-27 22:34:37\n",
      "\u001b[1;31mTime Difference: \u001b[0m677 days, 14:11:51\n",
      "===\n",
      "\u001b[1;31mFile Name: \u001b[0mxwork-core/src/main/java/com/opensymphony/xwork2/ActionChainResult.java\n",
      "\u001b[1;31mVCC Commit Date\\Time: \u001b[0m2010-02-18 08:22:46\n",
      "\u001b[1;31mFix Commit Date\\Time: \u001b[0m2011-12-27 22:34:37\n",
      "\u001b[1;31mTime Difference: \u001b[0m677 days, 14:11:51\n",
      "===\n",
      "\u001b[1;31mFile Name: \u001b[0mxwork-core/src/main/java/com/opensymphony/xwork2/ActionContext.java\n",
      "\u001b[1;31mVCC Commit Date\\Time: \u001b[0m2010-02-18 08:22:46\n",
      "\u001b[1;31mFix Commit Date\\Time: \u001b[0m2011-12-27 22:34:37\n",
      "\u001b[1;31mTime Difference: \u001b[0m677 days, 14:11:51\n",
      "===\n",
      "\u001b[1;31mFile Name: \u001b[0mxwork-core/src/main/java/com/opensymphony/xwork2/ActionEventListener.java\n",
      "\u001b[1;31mVCC Commit Date\\Time: \u001b[0m2010-02-18 08:22:46\n",
      "\u001b[1;31mFix Commit Date\\Time: \u001b[0m2011-12-27 22:34:37\n",
      "\u001b[1;31mTime Difference: \u001b[0m677 days, 14:11:51\n",
      "===\n",
      "... and 681 more.\n"
     ]
    }
   ],
   "source": [
    "from datetime import datetime\n",
    "from datetime import date\n",
    "# print(\"Number of commits in between:\", len(log_data))\n",
    "i=0\n",
    "for file in files: \n",
    "    i=i+1\n",
    "    if(i==6):\n",
    "        break\n",
    "    print('\\x1b[1;31m'+\"File Name: \"+'\\x1b[0m'+file)\n",
    "    log_data = repo.git.log(mostFrequent,file).splitlines()\n",
    "    commit_number = 0\n",
    "    date1 = datetime.now()\n",
    "    date2 = datetime.now()\n",
    "    \n",
    "    for line in log_data:\n",
    "        if(line[0:8] == \"Date:   \"):\n",
    "            commit_number=commit_number+1\n",
    "            if(commit_number ==1):\n",
    "                date1 = datetime.strptime(line[8:32], '%a %b %d %H:%M:%S %Y')\n",
    "                print('\\x1b[1;31m'+\"VCC Commit Date\\Time: \"+'\\x1b[0m'+str(date1))\n",
    "                date2 = datetime.strptime(fix_date, '%a %b %d %H:%M:%S %Y')\n",
    "                print('\\x1b[1;31m'+\"Fix Commit Date\\Time: \"+'\\x1b[0m'+str(date2))\n",
    "                break\n",
    "\n",
    "    print('\\x1b[1;31m'+\"Time Difference: \"+'\\x1b[0m'+str(date2-date1))\n",
    "    print(\"===\")\n",
    "print(\"... and \"+str(len(files)-5) + \" more.\")\n",
    "\n"
   ]
  },
  {
   "cell_type": "markdown",
   "metadata": {},
   "source": [
    "##### i) Number of times each affected file of the current fixing commit been modified in the VCC\n"
   ]
  },
  {
   "cell_type": "code",
   "execution_count": 41,
   "metadata": {},
   "outputs": [
    {
     "name": "stdout",
     "output_type": "stream",
     "text": [
      "\u001b[1;31mFile Name: \u001b[0mxwork-core/pom.xml\n",
      "\u001b[1;31mNumber of Revisions including renaming: \u001b[0m1\n",
      "====\n",
      "\u001b[1;31mFile Name: \u001b[0mxwork-core/src/main/java/com/opensymphony/xwork2/Action.java\n",
      "\u001b[1;31mNumber of Revisions including renaming: \u001b[0m1\n",
      "====\n",
      "\u001b[1;31mFile Name: \u001b[0mxwork-core/src/main/java/com/opensymphony/xwork2/ActionChainResult.java\n",
      "\u001b[1;31mNumber of Revisions including renaming: \u001b[0m1\n",
      "====\n",
      "\u001b[1;31mFile Name: \u001b[0mxwork-core/src/main/java/com/opensymphony/xwork2/ActionContext.java\n",
      "\u001b[1;31mNumber of Revisions including renaming: \u001b[0m1\n",
      "====\n",
      "\u001b[1;31mFile Name: \u001b[0mxwork-core/src/main/java/com/opensymphony/xwork2/ActionEventListener.java\n",
      "\u001b[1;31mNumber of Revisions including renaming: \u001b[0m1\n",
      "====\n",
      "... and 681 more.\n"
     ]
    }
   ],
   "source": [
    "i=0\n",
    "for file in files: \n",
    "    i=i+1\n",
    "    if(i==6):\n",
    "        break\n",
    "    print('\\x1b[1;31m'+\"File Name: \"+'\\x1b[0m'+file)\n",
    "    log_data = repo.git.log(mostFrequent,\"--pretty=\\\"format:%H%M%S\\\"\", \"--\",file).splitlines()\n",
    "    print('\\x1b[1;31m'+\"Number of Revisions including renaming: \"+'\\x1b[0m'+str(len(log_data)))\n",
    "    print(\"====\")\n",
    "print(\"... and \"+str(len(files)-5) + \" more.\")"
   ]
  },
  {
   "cell_type": "markdown",
   "metadata": {},
   "source": [
    "##### j) Developers that have modified each affected files since creation up to the VCC"
   ]
  },
  {
   "cell_type": "code",
   "execution_count": 42,
   "metadata": {},
   "outputs": [
    {
     "name": "stdout",
     "output_type": "stream",
     "text": [
      "\u001b[1;31mFile Name: \u001b[0mxwork-core/pom.xml\n",
      "\u001b[1;31mContributors of the file: \u001b[0m\n",
      "Lukasz Lenart\n",
      "\n",
      "\u001b[1;31mFile Name: \u001b[0mxwork-core/src/main/java/com/opensymphony/xwork2/Action.java\n",
      "\u001b[1;31mContributors of the file: \u001b[0m\n",
      "Lukasz Lenart\n",
      "\n",
      "\u001b[1;31mFile Name: \u001b[0mxwork-core/src/main/java/com/opensymphony/xwork2/ActionChainResult.java\n",
      "\u001b[1;31mContributors of the file: \u001b[0m\n",
      "Lukasz Lenart\n",
      "\n",
      "\u001b[1;31mFile Name: \u001b[0mxwork-core/src/main/java/com/opensymphony/xwork2/ActionContext.java\n",
      "\u001b[1;31mContributors of the file: \u001b[0m\n",
      "Lukasz Lenart\n",
      "\n",
      "\u001b[1;31mFile Name: \u001b[0mxwork-core/src/main/java/com/opensymphony/xwork2/ActionEventListener.java\n",
      "\u001b[1;31mContributors of the file: \u001b[0m\n",
      "Lukasz Lenart\n",
      "\n",
      "... and 681 more.\n"
     ]
    }
   ],
   "source": [
    "i=0\n",
    "\n",
    "for file in files: \n",
    "    i=i+1\n",
    "    if(i==6):\n",
    "        break\n",
    "    print('\\x1b[1;31m'+\"File Name: \"+'\\x1b[0m'+file)\n",
    "    print('\\x1b[1;31m'+\"Contributors of the file: \"+'\\x1b[0m')\n",
    "    log_data = repo.git.log(mostFrequent,\"--pretty=format:%an\", \"--follow\", \"--\",file).splitlines()\n",
    "#     print('\\x1b[1;31m'+\"Number of Revisions including renaming: \"+'\\x1b[0m'+str(len(log_data)))\n",
    "#     print(log_data)\n",
    "    x = np.array(log_data) \n",
    "    uniqueNames = np.unique(x)\n",
    "    for name in uniqueNames:\n",
    "        print(name) \n",
    "    print()\n",
    "print(\"... and \"+str(len(files)-5) + \" more.\")"
   ]
  },
  {
   "cell_type": "markdown",
   "metadata": {},
   "source": [
    "##### k) Observations about the developers of the VCC"
   ]
  },
  {
   "cell_type": "code",
   "execution_count": 43,
   "metadata": {},
   "outputs": [
    {
     "name": "stdout",
     "output_type": "stream",
     "text": [
      "\u001b[1;34mAuthor: \u001b[1;31m'Lukasz Lenart <lukaszlenart@apache.org>\n",
      "\u001b[1;34mNumber of commits: \u001b[1;31m'  2211\n",
      "\u001b[1;34mAuthor: \u001b[1;31m'Musachy Barroso <musachy@apache.org>\n",
      "\u001b[1;34mNumber of commits: \u001b[1;31m'   622\n",
      "\u001b[1;34mAuthor: \u001b[1;31m'Donald J. Brown <mrdon@apache.org>\n",
      "\u001b[1;34mNumber of commits: \u001b[1;31m'   619\n",
      "\u001b[1;34mAuthor: \u001b[1;31m'Toby Jee <tmjee@apache.org>\n",
      "\u001b[1;34mNumber of commits: \u001b[1;31m'   333\n",
      "\u001b[1;34mAuthor: \u001b[1;31m'Ted Nathan Husted <husted@apache.org>\n",
      "\u001b[1;34mNumber of commits: \u001b[1;31m'   316\n",
      "\u001b[1;34mAuthor: \u001b[1;31m'Lukasz Lenart <lukasz.lenart@gmail.com>\n",
      "\u001b[1;34mNumber of commits: \u001b[1;31m'   240\n",
      "\u001b[1;34mAuthor: \u001b[1;31m'René Gielen <rgielen@apache.org>\n",
      "\u001b[1;34mNumber of commits: \u001b[1;31m'   189\n",
      "\u001b[1;34mAuthor: \u001b[1;31m'Rainer Hermanns <hermanns@apache.org>\n",
      "\u001b[1;34mNumber of commits: \u001b[1;31m'   165\n",
      "\u001b[1;34mAuthor: \u001b[1;31m'James Holmes <jholmes@apache.org>\n",
      "\u001b[1;34mNumber of commits: \u001b[1;31m'   121\n",
      "\u001b[1;34mAuthor: \u001b[1;31m'Maurizio Cucchiara <mcucchiara@apache.org>\n",
      "\u001b[1;34mNumber of commits: \u001b[1;31m'   115\n",
      "\u001b[1;34mAuthor: \u001b[1;31m'Yasser Zamani <yasserzamani@apache.org>\n",
      "\u001b[1;34mNumber of commits: \u001b[1;31m'   114\n",
      "\u001b[1;34mAuthor: \u001b[1;31m'Johannes Geppert <jogep@apache.org>\n",
      "\u001b[1;34mNumber of commits: \u001b[1;31m'   103\n",
      "\u001b[1;34mAuthor: \u001b[1;31m'Aleksandr Mashchenko <amashchenko@apache.org>\n",
      "\u001b[1;34mNumber of commits: \u001b[1;31m'    95\n",
      "\u001b[1;34mAuthor: \u001b[1;31m'Nils-Helge Garli <nilsga@apache.org>\n",
      "\u001b[1;34mNumber of commits: \u001b[1;31m'    91\n",
      "\u001b[1;34mAuthor: \u001b[1;31m'Yasser Zamani <yasser.zamani@live.com>\n",
      "\u001b[1;34mNumber of commits: \u001b[1;31m'    90\n",
      "\u001b[1;34mAuthor: \u001b[1;31m'Wesley Wannemacher <wesw@apache.org>\n",
      "\u001b[1;34mNumber of commits: \u001b[1;31m'    85\n",
      "\u001b[1;34mAuthor: \u001b[1;31m'cnenning <cnenning@apache.org>\n",
      "\u001b[1;34mNumber of commits: \u001b[1;31m'    72\n",
      "\u001b[1;34mAuthor: \u001b[1;31m'Stefaan Dutry <stefaan.dutry@gmail.com>\n",
      "\u001b[1;34mNumber of commits: \u001b[1;31m'    61\n",
      "\u001b[1;34mAuthor: \u001b[1;31m'Patrick Lightbody <plightbo@apache.org>\n",
      "\u001b[1;34mNumber of commits: \u001b[1;31m'    60\n",
      "\u001b[1;34mAuthor: \u001b[1;31m'Antonio Petrelli <apetrelli@apache.org>\n",
      "\u001b[1;34mNumber of commits: \u001b[1;31m'    59\n",
      "\u001b[1;34mAuthor: \u001b[1;31m'James Mitchell <jmitchell@apache.org>\n",
      "\u001b[1;34mNumber of commits: \u001b[1;31m'    52\n",
      "\u001b[1;34mAuthor: \u001b[1;31m'JCgH4164838Gh792C124B5 <43964333+JCgH4164838Gh792C124B5@users.noreply.github.com>\n",
      "\u001b[1;34mNumber of commits: \u001b[1;31m'    50\n",
      "\u001b[1;34mAuthor: \u001b[1;31m'Johannes Geppert <johgep@gmail.com>\n",
      "\u001b[1;34mNumber of commits: \u001b[1;31m'    49\n",
      "\u001b[1;34mAuthor: \u001b[1;31m'Wendy Smoak <wsmoak@apache.org>\n",
      "\u001b[1;34mNumber of commits: \u001b[1;31m'    48\n",
      "\u001b[1;34mAuthor: \u001b[1;31m'Victor Sosa <victornsosa@gmail.com>\n",
      "\u001b[1;34mNumber of commits: \u001b[1;31m'    45\n",
      "\u001b[1;34mAuthor: \u001b[1;31m'Aleksandr Mashchenko <aleksandr.7m@gmail.com>\n",
      "\u001b[1;34mNumber of commits: \u001b[1;31m'    41\n",
      "\u001b[1;34mAuthor: \u001b[1;31m'victorsosa <victor.sosa@peopleware.do>\n",
      "\u001b[1;34mNumber of commits: \u001b[1;31m'    38\n",
      "\u001b[1;34mAuthor: \u001b[1;31m'Christian Grobmeier <grobmeier@apache.org>\n",
      "\u001b[1;34mNumber of commits: \u001b[1;31m'    38\n",
      "\u001b[1;34mAuthor: \u001b[1;31m'Sebastian Peters <Sebastian.Peters@gmail.com>\n",
      "\u001b[1;34mNumber of commits: \u001b[1;31m'    35\n",
      "\u001b[1;34mAuthor: \u001b[1;31m'David Newton <davenewton@apache.org>\n",
      "\u001b[1;34mNumber of commits: \u001b[1;31m'    34\n",
      "\u001b[1;34mAuthor: \u001b[1;31m'John Lindal <jafl@apache.org>\n",
      "\u001b[1;34mNumber of commits: \u001b[1;31m'    31\n",
      "\u001b[1;34mAuthor: \u001b[1;31m'victor sosa <victorsosa@users.noreply.github.com>\n",
      "\u001b[1;34mNumber of commits: \u001b[1;31m'    27\n",
      "\u001b[1;34mAuthor: \u001b[1;31m'David H. DeWolf <ddewolf@apache.org>\n",
      "\u001b[1;34mNumber of commits: \u001b[1;31m'    21\n",
      "\u001b[1;34mAuthor: \u001b[1;31m'Jeromy Evans <jeromy@apache.org>\n",
      "\u001b[1;34mNumber of commits: \u001b[1;31m'    20\n",
      "\u001b[1;34mAuthor: \u001b[1;31m'Thomas Schneider <tschneider@apache.org>\n",
      "\u001b[1;34mNumber of commits: \u001b[1;31m'    18\n",
      "\u001b[1;34mAuthor: \u001b[1;31m'Aaron Johnson <aaron.johnson@pearson.com>\n",
      "\u001b[1;34mNumber of commits: \u001b[1;31m'    11\n",
      "\u001b[1;34mAuthor: \u001b[1;31m'Bruce Allen Phillips <bphillips@apache.org>\n",
      "\u001b[1;34mNumber of commits: \u001b[1;31m'    11\n",
      "\u001b[1;34mAuthor: \u001b[1;31m'Luigi Fugaro <l.fugaro@gmail.com>\n",
      "\u001b[1;34mNumber of commits: \u001b[1;31m'    11\n",
      "\u001b[1;34mAuthor: \u001b[1;31m'gregh3269 <gregh3269@gmail.com>\n",
      "\u001b[1;34mNumber of commits: \u001b[1;31m'    11\n",
      "\u001b[1;34mAuthor: \u001b[1;31m'Rene Gielen <rgielen@apache.org>\n",
      "\u001b[1;34mNumber of commits: \u001b[1;31m'    10\n",
      "\u001b[1;34mAuthor: \u001b[1;31m'Bob Lee <crazybob@apache.org>\n",
      "\u001b[1;34mNumber of commits: \u001b[1;31m'     9\n",
      "\u001b[1;34mAuthor: \u001b[1;31m'Przemek Bruski <pbruski@atlassian.com>\n",
      "\u001b[1;34mNumber of commits: \u001b[1;31m'     9\n",
      "\u001b[1;34mAuthor: \u001b[1;31m'Hedju Hor <hedjuhor1@gmail.com>\n",
      "\u001b[1;34mNumber of commits: \u001b[1;31m'     8\n",
      "\u001b[1;34mAuthor: \u001b[1;31m'Aleksandr Mashchenko <aleksandr-m@users.noreply.github.com>\n",
      "\u001b[1;34mNumber of commits: \u001b[1;31m'     5\n",
      "\u001b[1;34mAuthor: \u001b[1;31m'Greg Huber <ghuber@apache.org>\n",
      "\u001b[1;34mNumber of commits: \u001b[1;31m'     5\n",
      "\u001b[1;34mAuthor: \u001b[1;31m'Sean Sullivan <ssullivan@gilt.com>\n",
      "\u001b[1;34mNumber of commits: \u001b[1;31m'     5\n",
      "\u001b[1;34mAuthor: \u001b[1;31m'Brian Pontarelli <bpontarelli@apache.org>\n",
      "\u001b[1;34mNumber of commits: \u001b[1;31m'     4\n",
      "\u001b[1;34mAuthor: \u001b[1;31m'Burton Rhodes <burton@AFrameSoftware.com>\n",
      "\u001b[1;34mNumber of commits: \u001b[1;31m'     4\n",
      "\u001b[1;34mAuthor: \u001b[1;31m'Philip Luppens <phil@apache.org>\n",
      "\u001b[1;34mNumber of commits: \u001b[1;31m'     4\n",
      "\u001b[1;34mAuthor: \u001b[1;31m'JCgH4164838Gh792C124B5 <43964333+jcgh4164838gh792c124b5@users.noreply.github.com>\n",
      "\u001b[1;34mNumber of commits: \u001b[1;31m'     4\n",
      "\u001b[1;34mAuthor: \u001b[1;31m'Andrea Ligios <andrea.ligios@gmail.com>\n",
      "\u001b[1;34mNumber of commits: \u001b[1;31m'     4\n",
      "\u001b[1;34mAuthor: \u001b[1;31m'thrawnca <shell_layer-github@yahoo.com.au>\n",
      "\u001b[1;34mNumber of commits: \u001b[1;31m'     4\n",
      "\u001b[1;34mAuthor: \u001b[1;31m'petersr <rich.peters@braxtontech.com>\n",
      "\u001b[1;34mNumber of commits: \u001b[1;31m'     4\n",
      "\u001b[1;34mAuthor: \u001b[1;31m'zhouyanming <zhouyanming@gmail.com>\n",
      "\u001b[1;34mNumber of commits: \u001b[1;31m'     4\n",
      "\u001b[1;34mAuthor: \u001b[1;31m'Naros <crancran.git@gmail.com>\n",
      "\u001b[1;34mNumber of commits: \u001b[1;31m'     4\n",
      "\u001b[1;34mAuthor: \u001b[1;31m'Martin Cooper <martinc@apache.org>\n",
      "\u001b[1;34mNumber of commits: \u001b[1;31m'     4\n",
      "\u001b[1;34mAuthor: \u001b[1;31m'Jason Carreira <jcarreira@apache.org>\n",
      "\u001b[1;34mNumber of commits: \u001b[1;31m'     4\n",
      "\u001b[1;34mAuthor: \u001b[1;31m'Lukasz Racon <lracon@jgsullivan.com>\n",
      "\u001b[1;34mNumber of commits: \u001b[1;31m'     3\n",
      "\u001b[1;34mAuthor: \u001b[1;31m'Niall Kegan Pemberton <niallp@apache.org>\n",
      "\u001b[1;34mNumber of commits: \u001b[1;31m'     3\n",
      "\u001b[1;34mAuthor: \u001b[1;31m'Johannes Geppert <post@jgeppert.com>\n",
      "\u001b[1;34mNumber of commits: \u001b[1;31m'     3\n",
      "\u001b[1;34mAuthor: \u001b[1;31m'Sanghyuk Jung <sanghyuk.jung@navercorp.com>\n",
      "\u001b[1;34mNumber of commits: \u001b[1;31m'     3\n",
      "\u001b[1;34mAuthor: \u001b[1;31m'Christoph Nenning <cnenning@apache.org>\n",
      "\u001b[1;34mNumber of commits: \u001b[1;31m'     3\n",
      "\u001b[1;34mAuthor: \u001b[1;31m'Yasser Zamani <y.zamani.b@gmail.com>\n",
      "\u001b[1;34mNumber of commits: \u001b[1;31m'     3\n",
      "\u001b[1;34mAuthor: \u001b[1;31m'donghui <hui.dong@hpe.com>\n",
      "\u001b[1;34mNumber of commits: \u001b[1;31m'     3\n",
      "\u001b[1;34mAuthor: \u001b[1;31m'phillips1021 <phillips1021@hotmail.com>\n",
      "\u001b[1;34mNumber of commits: \u001b[1;31m'     3\n",
      "\u001b[1;34mAuthor: \u001b[1;31m'Sebastian Peters <sebastian.peters@gmail.com>\n",
      "\u001b[1;34mNumber of commits: \u001b[1;31m'     2\n",
      "\u001b[1;34mAuthor: \u001b[1;31m'Aaron Johnson <johnson.aaron5@gmail.com>\n",
      "\u001b[1;34mNumber of commits: \u001b[1;31m'     2\n",
      "\u001b[1;34mAuthor: \u001b[1;31m'Marc Michele <marc.michele@tiv-source.de>\n",
      "\u001b[1;34mNumber of commits: \u001b[1;31m'     2\n",
      "\u001b[1;34mAuthor: \u001b[1;31m'Jasper <jasper_rosenberg@yahoo.com>\n",
      "\u001b[1;34mNumber of commits: \u001b[1;31m'     2\n",
      "\u001b[1;34mAuthor: \u001b[1;31m'Victor Sosa <victor.sosa@peopleware.do>\n",
      "\u001b[1;34mNumber of commits: \u001b[1;31m'     2\n",
      "\u001b[1;34mAuthor: \u001b[1;31m'jumiller <jumiller@utah.gov>\n",
      "\u001b[1;34mNumber of commits: \u001b[1;31m'     2\n",
      "\u001b[1;34mAuthor: \u001b[1;31m'adam brin <adam.brin@asu.edu>\n",
      "\u001b[1;34mNumber of commits: \u001b[1;31m'     2\n",
      "\u001b[1;34mAuthor: \u001b[1;31m'antuarc <carl.antuar@dsiti.qld.gov.au>\n",
      "\u001b[1;34mNumber of commits: \u001b[1;31m'     2\n",
      "\u001b[1;34mAuthor: \u001b[1;31m'Yanming Zhou <zhouyanming@gmail.com>\n",
      "\u001b[1;34mNumber of commits: \u001b[1;31m'     2\n",
      "\u001b[1;34mAuthor: \u001b[1;31m'Yaser Zamani <y.zamani@yaas.bm>\n",
      "\u001b[1;34mNumber of commits: \u001b[1;31m'     2\n",
      "\u001b[1;34mAuthor: \u001b[1;31m'Josh Mabry <josh.mabry@apexcapitalcorp.com>\n",
      "\u001b[1;34mNumber of commits: \u001b[1;31m'     2\n",
      "\u001b[1;34mAuthor: \u001b[1;31m'Jarek Lipski <loomchild@loomchild.net>\n",
      "\u001b[1;34mNumber of commits: \u001b[1;31m'     2\n",
      "\u001b[1;34mAuthor: \u001b[1;31m'Sebastian Haas <sehaas@deebas.com>\n",
      "\u001b[1;34mNumber of commits: \u001b[1;31m'     2\n",
      "\u001b[1;34mAuthor: \u001b[1;31m'Philipp Heidelbach <p.heidelbach@data-team.de>\n",
      "\u001b[1;34mNumber of commits: \u001b[1;31m'     2\n",
      "\u001b[1;34mAuthor: \u001b[1;31m'ORDTesters <ordtesters@gmail.com>\n",
      "\u001b[1;34mNumber of commits: \u001b[1;31m'     2\n",
      "\u001b[1;34mAuthor: \u001b[1;31m'nkjackzhang <nkzhangjie@gmail.com>\n",
      "\u001b[1;34mNumber of commits: \u001b[1;31m'     1\n",
      "\u001b[1;34mAuthor: \u001b[1;31m'Michael Stevens <mail@michael-stevens.de>\n",
      "\u001b[1;34mNumber of commits: \u001b[1;31m'     1\n",
      "\u001b[1;34mAuthor: \u001b[1;31m'Kristoffer Michael <kristoffer@eduix.fi>\n",
      "\u001b[1;34mNumber of commits: \u001b[1;31m'     1\n",
      "\u001b[1;34mAuthor: \u001b[1;31m'aronshen <ss.q@qq.com>\n",
      "\u001b[1;34mNumber of commits: \u001b[1;31m'     1\n",
      "\u001b[1;34mAuthor: \u001b[1;31m'Pengyu Nie <prodigy.sov@gmail.com>\n",
      "\u001b[1;34mNumber of commits: \u001b[1;31m'     1\n",
      "\u001b[1;34mAuthor: \u001b[1;31m'Hang Shi <thinkshihang@gmail.com>\n",
      "\u001b[1;34mNumber of commits: \u001b[1;31m'     1\n",
      "\u001b[1;34mAuthor: \u001b[1;31m'Paul Zepernick <zep.devs@gmail.com>\n",
      "\u001b[1;34mNumber of commits: \u001b[1;31m'     1\n",
      "\u001b[1;34mAuthor: \u001b[1;31m'Garrett Rooney <rooneg@apache.org>\n",
      "\u001b[1;34mNumber of commits: \u001b[1;31m'     1\n",
      "\u001b[1;34mAuthor: \u001b[1;31m'Paul Zepernick <paul.zepernick@healthsmart.com>\n",
      "\u001b[1;34mNumber of commits: \u001b[1;31m'     1\n",
      "\u001b[1;34mAuthor: \u001b[1;31m'Paul Heaberlin <paul.heaberlin@jetisre.com>\n",
      "\u001b[1;34mNumber of commits: \u001b[1;31m'     1\n",
      "\u001b[1;34mAuthor: \u001b[1;31m'Zack Macomber <zack.macomber@gmail.com>\n",
      "\u001b[1;34mNumber of commits: \u001b[1;31m'     1\n",
      "\u001b[1;34mAuthor: \u001b[1;31m'Henri Yandell <bayard@apache.org>\n",
      "\u001b[1;34mNumber of commits: \u001b[1;31m'     1\n",
      "\u001b[1;34mAuthor: \u001b[1;31m'bitcod3r <bitcoder@gmail.com>\n",
      "\u001b[1;34mNumber of commits: \u001b[1;31m'     1\n",
      "\u001b[1;34mAuthor: \u001b[1;31m'zalsaeed <zalsaeed@cs.uoregon.edu>\n",
      "\u001b[1;34mNumber of commits: \u001b[1;31m'     1\n",
      "\u001b[1;34mAuthor: \u001b[1;31m'geppertj <geppertj@amazon.com>\n",
      "\u001b[1;34mNumber of commits: \u001b[1;31m'     1\n",
      "\u001b[1;34mAuthor: \u001b[1;31m'gregh <gregh3269@gmail.com>\n",
      "\u001b[1;34mNumber of commits: \u001b[1;31m'     1\n",
      "\u001b[1;34mAuthor: \u001b[1;31m'Joseph Lad Germuska <germuska@apache.org>\n",
      "\u001b[1;34mNumber of commits: \u001b[1;31m'     1\n",
      "\u001b[1;34mAuthor: \u001b[1;31m'liang.liu <liang.liu@dianping.com>\n",
      "\u001b[1;34mNumber of commits: \u001b[1;31m'     1\n",
      "\u001b[1;34mAccording to the number of commits of the developers, we can see the majority of the developers are new.\u001b[0m\n",
      "\u001b[1;34mThe number of developers with at least 450 commits is 3.\u001b[0m\n",
      "\u001b[1;34mThe number of developers with less than 450 commits is 95.\u001b[0m\n"
     ]
    }
   ],
   "source": [
    "commit_authors = repo.git.shortlog(\"-sne\", \"--all\").splitlines()\n",
    "\n",
    "author_commits = []\n",
    "\n",
    "for commit_author in commit_authors:\n",
    "    commit, author = commit_author.split(\"\\t\")\n",
    "    author_commits.append([int(commit), author])\n",
    "    print('\\x1b[1;34m'+\"Author: \\x1b[1;31m'\"+author)\n",
    "    print('\\x1b[1;34m'+\"Number of commits: \\x1b[1;31m'\"+commit)\n",
    "    \n",
    "devs_above_450 = 0\n",
    "devs_below_450 = 0\n",
    "for item in author_commits:\n",
    "    if(item[0]>=450):\n",
    "        devs_above_450 = devs_above_450+1\n",
    "    else:\n",
    "        devs_below_450 = devs_below_450+1\n",
    "exp_level=\"new\"\n",
    "if(devs_above_450>devs_below_450):\n",
    "    exp_level = \"experienced\"\n",
    "    \n",
    "print('\\x1b[1;34m'+\"According to the number of commits of the developers, we can see the majority of the developers are \"+exp_level+\".\"+'\\x1b[0m')\n",
    "print('\\x1b[1;34m'+\"The number of developers with at least 450 commits is \"+str(devs_above_450)+\".\"+'\\x1b[0m')\n",
    "print('\\x1b[1;34m'+\"The number of developers with less than 450 commits is \"+str(devs_below_450)+\".\"+'\\x1b[0m')\n",
    "\n"
   ]
  },
  {
   "cell_type": "code",
   "execution_count": null,
   "metadata": {},
   "outputs": [],
   "source": []
  }
 ],
 "metadata": {
  "kernelspec": {
   "display_name": "Python 3",
   "language": "python",
   "name": "python3"
  },
  "language_info": {
   "codemirror_mode": {
    "name": "ipython",
    "version": 3
   },
   "file_extension": ".py",
   "mimetype": "text/x-python",
   "name": "python",
   "nbconvert_exporter": "python",
   "pygments_lexer": "ipython3",
   "version": "3.7.4"
  }
 },
 "nbformat": 4,
 "nbformat_minor": 2
}
